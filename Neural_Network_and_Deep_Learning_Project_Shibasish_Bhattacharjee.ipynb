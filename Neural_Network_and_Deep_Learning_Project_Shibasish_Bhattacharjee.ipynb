{
  "cells": [
    {
      "cell_type": "markdown",
      "metadata": {
        "id": "5CSvXgXaCsf0"
      },
      "source": [
        "# **PART A**\n",
        "\n",
        "---\n"
      ]
    },
    {
      "cell_type": "markdown",
      "metadata": {
        "id": "NbtoZRVJC30P"
      },
      "source": [
        "> **DOMAIN**: Electronics and Telecommunication\n",
        "\n",
        "---\n",
        "\n",
        "\n",
        "\n"
      ]
    },
    {
      "cell_type": "markdown",
      "metadata": {
        "id": "KPjJ2B3rDDvW"
      },
      "source": [
        "> **CONTEXT:** A communications equipment manufacturing company has a product which is responsible for emitting informative signals.\n",
        "Company wants to build a machine learning model which can help the company to predict the equipment’s signal quality using various\n",
        "parameters.\n",
        "\n",
        "\n",
        "---\n",
        "\n"
      ]
    },
    {
      "cell_type": "markdown",
      "metadata": {
        "id": "kVhT_SvYDHs8"
      },
      "source": [
        "> **DATA DESCRIPTION:** The data set contains information on various signal tests performed:\n",
        "1. **Parameters:** Various measurable signal parameters.\n",
        "2. **Signal_Quality:** Final signal strength or quality.\n",
        "\n",
        "\n",
        "---\n",
        "\n"
      ]
    },
    {
      "cell_type": "markdown",
      "metadata": {
        "id": "dojWQSbBDTZ5"
      },
      "source": [
        "> **PROJECT OBJECTIVE:** To build a classifier which can use the given parameters to determine the signal strength or quality.\n",
        "\n",
        "\n",
        "---\n",
        "\n"
      ]
    },
    {
      "cell_type": "markdown",
      "metadata": {
        "id": "yBdiMlSyDpev"
      },
      "source": [
        "> **STEPS AND TASKS:**\n",
        "\n",
        "\n",
        "\n",
        "---\n",
        "\n"
      ]
    },
    {
      "cell_type": "markdown",
      "metadata": {
        "id": "YWzVuTofEWMc"
      },
      "source": [
        ">## **1. Data import and Understanding**\n",
        "\n",
        "\n",
        "---\n",
        "\n"
      ]
    },
    {
      "cell_type": "markdown",
      "metadata": {
        "id": "G9zH2_u_E272"
      },
      "source": [
        ">>### **A. Read the ‘Signals.csv’ as DataFrame and import required libraries**\n",
        "\n",
        "\n",
        "---\n",
        "\n",
        "\n",
        "\n",
        "\n",
        "\n"
      ]
    },
    {
      "cell_type": "code",
      "execution_count": 24,
      "metadata": {
        "colab": {
          "base_uri": "https://localhost:8080/"
        },
        "id": "HhjTWwxcFIEO",
        "outputId": "5cad1c99-d8af-43ae-b8a3-744f3251c6dc"
      },
      "outputs": [
        {
          "output_type": "stream",
          "name": "stdout",
          "text": [
            "Drive already mounted at /content/drive; to attempt to forcibly remount, call drive.mount(\"/content/drive\", force_remount=True).\n"
          ]
        }
      ],
      "source": [
        "from google.colab import drive\n",
        "import pandas as pd\n",
        "\n",
        "# Mount Google Drive\n",
        "drive.mount('/content/drive')\n",
        "\n",
        "# Path to your file\n",
        "file_path = '/content/drive/My Drive/Colab Notebooks/NN Project Data - Signal.csv'\n",
        "\n",
        "# Read the CSV file as a DataFrame\n",
        "df = pd.read_csv(file_path)"
      ]
    },
    {
      "cell_type": "code",
      "execution_count": 25,
      "metadata": {
        "colab": {
          "base_uri": "https://localhost:8080/",
          "height": 0
        },
        "id": "VevfasfJFtZt",
        "outputId": "3edd5ed7-9f9f-4fcc-f33f-75bfae7fc7ce"
      },
      "outputs": [
        {
          "output_type": "execute_result",
          "data": {
            "text/plain": [
              "   Parameter 1  Parameter 2  Parameter 3  Parameter 4  Parameter 5  \\\n",
              "0          7.4         0.70         0.00          1.9        0.076   \n",
              "1          7.8         0.88         0.00          2.6        0.098   \n",
              "2          7.8         0.76         0.04          2.3        0.092   \n",
              "3         11.2         0.28         0.56          1.9        0.075   \n",
              "4          7.4         0.70         0.00          1.9        0.076   \n",
              "\n",
              "   Parameter 6  Parameter 7  Parameter 8  Parameter 9  Parameter 10  \\\n",
              "0         11.0         34.0       0.9978         3.51          0.56   \n",
              "1         25.0         67.0       0.9968         3.20          0.68   \n",
              "2         15.0         54.0       0.9970         3.26          0.65   \n",
              "3         17.0         60.0       0.9980         3.16          0.58   \n",
              "4         11.0         34.0       0.9978         3.51          0.56   \n",
              "\n",
              "   Parameter 11  Signal_Strength  \n",
              "0           9.4                5  \n",
              "1           9.8                5  \n",
              "2           9.8                5  \n",
              "3           9.8                6  \n",
              "4           9.4                5  "
            ],
            "text/html": [
              "\n",
              "  <div id=\"df-939c76d0-c734-4b06-99c2-e227aa326003\" class=\"colab-df-container\">\n",
              "    <div>\n",
              "<style scoped>\n",
              "    .dataframe tbody tr th:only-of-type {\n",
              "        vertical-align: middle;\n",
              "    }\n",
              "\n",
              "    .dataframe tbody tr th {\n",
              "        vertical-align: top;\n",
              "    }\n",
              "\n",
              "    .dataframe thead th {\n",
              "        text-align: right;\n",
              "    }\n",
              "</style>\n",
              "<table border=\"1\" class=\"dataframe\">\n",
              "  <thead>\n",
              "    <tr style=\"text-align: right;\">\n",
              "      <th></th>\n",
              "      <th>Parameter 1</th>\n",
              "      <th>Parameter 2</th>\n",
              "      <th>Parameter 3</th>\n",
              "      <th>Parameter 4</th>\n",
              "      <th>Parameter 5</th>\n",
              "      <th>Parameter 6</th>\n",
              "      <th>Parameter 7</th>\n",
              "      <th>Parameter 8</th>\n",
              "      <th>Parameter 9</th>\n",
              "      <th>Parameter 10</th>\n",
              "      <th>Parameter 11</th>\n",
              "      <th>Signal_Strength</th>\n",
              "    </tr>\n",
              "  </thead>\n",
              "  <tbody>\n",
              "    <tr>\n",
              "      <th>0</th>\n",
              "      <td>7.4</td>\n",
              "      <td>0.70</td>\n",
              "      <td>0.00</td>\n",
              "      <td>1.9</td>\n",
              "      <td>0.076</td>\n",
              "      <td>11.0</td>\n",
              "      <td>34.0</td>\n",
              "      <td>0.9978</td>\n",
              "      <td>3.51</td>\n",
              "      <td>0.56</td>\n",
              "      <td>9.4</td>\n",
              "      <td>5</td>\n",
              "    </tr>\n",
              "    <tr>\n",
              "      <th>1</th>\n",
              "      <td>7.8</td>\n",
              "      <td>0.88</td>\n",
              "      <td>0.00</td>\n",
              "      <td>2.6</td>\n",
              "      <td>0.098</td>\n",
              "      <td>25.0</td>\n",
              "      <td>67.0</td>\n",
              "      <td>0.9968</td>\n",
              "      <td>3.20</td>\n",
              "      <td>0.68</td>\n",
              "      <td>9.8</td>\n",
              "      <td>5</td>\n",
              "    </tr>\n",
              "    <tr>\n",
              "      <th>2</th>\n",
              "      <td>7.8</td>\n",
              "      <td>0.76</td>\n",
              "      <td>0.04</td>\n",
              "      <td>2.3</td>\n",
              "      <td>0.092</td>\n",
              "      <td>15.0</td>\n",
              "      <td>54.0</td>\n",
              "      <td>0.9970</td>\n",
              "      <td>3.26</td>\n",
              "      <td>0.65</td>\n",
              "      <td>9.8</td>\n",
              "      <td>5</td>\n",
              "    </tr>\n",
              "    <tr>\n",
              "      <th>3</th>\n",
              "      <td>11.2</td>\n",
              "      <td>0.28</td>\n",
              "      <td>0.56</td>\n",
              "      <td>1.9</td>\n",
              "      <td>0.075</td>\n",
              "      <td>17.0</td>\n",
              "      <td>60.0</td>\n",
              "      <td>0.9980</td>\n",
              "      <td>3.16</td>\n",
              "      <td>0.58</td>\n",
              "      <td>9.8</td>\n",
              "      <td>6</td>\n",
              "    </tr>\n",
              "    <tr>\n",
              "      <th>4</th>\n",
              "      <td>7.4</td>\n",
              "      <td>0.70</td>\n",
              "      <td>0.00</td>\n",
              "      <td>1.9</td>\n",
              "      <td>0.076</td>\n",
              "      <td>11.0</td>\n",
              "      <td>34.0</td>\n",
              "      <td>0.9978</td>\n",
              "      <td>3.51</td>\n",
              "      <td>0.56</td>\n",
              "      <td>9.4</td>\n",
              "      <td>5</td>\n",
              "    </tr>\n",
              "  </tbody>\n",
              "</table>\n",
              "</div>\n",
              "    <div class=\"colab-df-buttons\">\n",
              "\n",
              "  <div class=\"colab-df-container\">\n",
              "    <button class=\"colab-df-convert\" onclick=\"convertToInteractive('df-939c76d0-c734-4b06-99c2-e227aa326003')\"\n",
              "            title=\"Convert this dataframe to an interactive table.\"\n",
              "            style=\"display:none;\">\n",
              "\n",
              "  <svg xmlns=\"http://www.w3.org/2000/svg\" height=\"24px\" viewBox=\"0 -960 960 960\">\n",
              "    <path d=\"M120-120v-720h720v720H120Zm60-500h600v-160H180v160Zm220 220h160v-160H400v160Zm0 220h160v-160H400v160ZM180-400h160v-160H180v160Zm440 0h160v-160H620v160ZM180-180h160v-160H180v160Zm440 0h160v-160H620v160Z\"/>\n",
              "  </svg>\n",
              "    </button>\n",
              "\n",
              "  <style>\n",
              "    .colab-df-container {\n",
              "      display:flex;\n",
              "      gap: 12px;\n",
              "    }\n",
              "\n",
              "    .colab-df-convert {\n",
              "      background-color: #E8F0FE;\n",
              "      border: none;\n",
              "      border-radius: 50%;\n",
              "      cursor: pointer;\n",
              "      display: none;\n",
              "      fill: #1967D2;\n",
              "      height: 32px;\n",
              "      padding: 0 0 0 0;\n",
              "      width: 32px;\n",
              "    }\n",
              "\n",
              "    .colab-df-convert:hover {\n",
              "      background-color: #E2EBFA;\n",
              "      box-shadow: 0px 1px 2px rgba(60, 64, 67, 0.3), 0px 1px 3px 1px rgba(60, 64, 67, 0.15);\n",
              "      fill: #174EA6;\n",
              "    }\n",
              "\n",
              "    .colab-df-buttons div {\n",
              "      margin-bottom: 4px;\n",
              "    }\n",
              "\n",
              "    [theme=dark] .colab-df-convert {\n",
              "      background-color: #3B4455;\n",
              "      fill: #D2E3FC;\n",
              "    }\n",
              "\n",
              "    [theme=dark] .colab-df-convert:hover {\n",
              "      background-color: #434B5C;\n",
              "      box-shadow: 0px 1px 3px 1px rgba(0, 0, 0, 0.15);\n",
              "      filter: drop-shadow(0px 1px 2px rgba(0, 0, 0, 0.3));\n",
              "      fill: #FFFFFF;\n",
              "    }\n",
              "  </style>\n",
              "\n",
              "    <script>\n",
              "      const buttonEl =\n",
              "        document.querySelector('#df-939c76d0-c734-4b06-99c2-e227aa326003 button.colab-df-convert');\n",
              "      buttonEl.style.display =\n",
              "        google.colab.kernel.accessAllowed ? 'block' : 'none';\n",
              "\n",
              "      async function convertToInteractive(key) {\n",
              "        const element = document.querySelector('#df-939c76d0-c734-4b06-99c2-e227aa326003');\n",
              "        const dataTable =\n",
              "          await google.colab.kernel.invokeFunction('convertToInteractive',\n",
              "                                                    [key], {});\n",
              "        if (!dataTable) return;\n",
              "\n",
              "        const docLinkHtml = 'Like what you see? Visit the ' +\n",
              "          '<a target=\"_blank\" href=https://colab.research.google.com/notebooks/data_table.ipynb>data table notebook</a>'\n",
              "          + ' to learn more about interactive tables.';\n",
              "        element.innerHTML = '';\n",
              "        dataTable['output_type'] = 'display_data';\n",
              "        await google.colab.output.renderOutput(dataTable, element);\n",
              "        const docLink = document.createElement('div');\n",
              "        docLink.innerHTML = docLinkHtml;\n",
              "        element.appendChild(docLink);\n",
              "      }\n",
              "    </script>\n",
              "  </div>\n",
              "\n",
              "\n",
              "<div id=\"df-60164d73-1ab5-42ad-81ce-a930646af926\">\n",
              "  <button class=\"colab-df-quickchart\" onclick=\"quickchart('df-60164d73-1ab5-42ad-81ce-a930646af926')\"\n",
              "            title=\"Suggest charts\"\n",
              "            style=\"display:none;\">\n",
              "\n",
              "<svg xmlns=\"http://www.w3.org/2000/svg\" height=\"24px\"viewBox=\"0 0 24 24\"\n",
              "     width=\"24px\">\n",
              "    <g>\n",
              "        <path d=\"M19 3H5c-1.1 0-2 .9-2 2v14c0 1.1.9 2 2 2h14c1.1 0 2-.9 2-2V5c0-1.1-.9-2-2-2zM9 17H7v-7h2v7zm4 0h-2V7h2v10zm4 0h-2v-4h2v4z\"/>\n",
              "    </g>\n",
              "</svg>\n",
              "  </button>\n",
              "\n",
              "<style>\n",
              "  .colab-df-quickchart {\n",
              "      --bg-color: #E8F0FE;\n",
              "      --fill-color: #1967D2;\n",
              "      --hover-bg-color: #E2EBFA;\n",
              "      --hover-fill-color: #174EA6;\n",
              "      --disabled-fill-color: #AAA;\n",
              "      --disabled-bg-color: #DDD;\n",
              "  }\n",
              "\n",
              "  [theme=dark] .colab-df-quickchart {\n",
              "      --bg-color: #3B4455;\n",
              "      --fill-color: #D2E3FC;\n",
              "      --hover-bg-color: #434B5C;\n",
              "      --hover-fill-color: #FFFFFF;\n",
              "      --disabled-bg-color: #3B4455;\n",
              "      --disabled-fill-color: #666;\n",
              "  }\n",
              "\n",
              "  .colab-df-quickchart {\n",
              "    background-color: var(--bg-color);\n",
              "    border: none;\n",
              "    border-radius: 50%;\n",
              "    cursor: pointer;\n",
              "    display: none;\n",
              "    fill: var(--fill-color);\n",
              "    height: 32px;\n",
              "    padding: 0;\n",
              "    width: 32px;\n",
              "  }\n",
              "\n",
              "  .colab-df-quickchart:hover {\n",
              "    background-color: var(--hover-bg-color);\n",
              "    box-shadow: 0 1px 2px rgba(60, 64, 67, 0.3), 0 1px 3px 1px rgba(60, 64, 67, 0.15);\n",
              "    fill: var(--button-hover-fill-color);\n",
              "  }\n",
              "\n",
              "  .colab-df-quickchart-complete:disabled,\n",
              "  .colab-df-quickchart-complete:disabled:hover {\n",
              "    background-color: var(--disabled-bg-color);\n",
              "    fill: var(--disabled-fill-color);\n",
              "    box-shadow: none;\n",
              "  }\n",
              "\n",
              "  .colab-df-spinner {\n",
              "    border: 2px solid var(--fill-color);\n",
              "    border-color: transparent;\n",
              "    border-bottom-color: var(--fill-color);\n",
              "    animation:\n",
              "      spin 1s steps(1) infinite;\n",
              "  }\n",
              "\n",
              "  @keyframes spin {\n",
              "    0% {\n",
              "      border-color: transparent;\n",
              "      border-bottom-color: var(--fill-color);\n",
              "      border-left-color: var(--fill-color);\n",
              "    }\n",
              "    20% {\n",
              "      border-color: transparent;\n",
              "      border-left-color: var(--fill-color);\n",
              "      border-top-color: var(--fill-color);\n",
              "    }\n",
              "    30% {\n",
              "      border-color: transparent;\n",
              "      border-left-color: var(--fill-color);\n",
              "      border-top-color: var(--fill-color);\n",
              "      border-right-color: var(--fill-color);\n",
              "    }\n",
              "    40% {\n",
              "      border-color: transparent;\n",
              "      border-right-color: var(--fill-color);\n",
              "      border-top-color: var(--fill-color);\n",
              "    }\n",
              "    60% {\n",
              "      border-color: transparent;\n",
              "      border-right-color: var(--fill-color);\n",
              "    }\n",
              "    80% {\n",
              "      border-color: transparent;\n",
              "      border-right-color: var(--fill-color);\n",
              "      border-bottom-color: var(--fill-color);\n",
              "    }\n",
              "    90% {\n",
              "      border-color: transparent;\n",
              "      border-bottom-color: var(--fill-color);\n",
              "    }\n",
              "  }\n",
              "</style>\n",
              "\n",
              "  <script>\n",
              "    async function quickchart(key) {\n",
              "      const quickchartButtonEl =\n",
              "        document.querySelector('#' + key + ' button');\n",
              "      quickchartButtonEl.disabled = true;  // To prevent multiple clicks.\n",
              "      quickchartButtonEl.classList.add('colab-df-spinner');\n",
              "      try {\n",
              "        const charts = await google.colab.kernel.invokeFunction(\n",
              "            'suggestCharts', [key], {});\n",
              "      } catch (error) {\n",
              "        console.error('Error during call to suggestCharts:', error);\n",
              "      }\n",
              "      quickchartButtonEl.classList.remove('colab-df-spinner');\n",
              "      quickchartButtonEl.classList.add('colab-df-quickchart-complete');\n",
              "    }\n",
              "    (() => {\n",
              "      let quickchartButtonEl =\n",
              "        document.querySelector('#df-60164d73-1ab5-42ad-81ce-a930646af926 button');\n",
              "      quickchartButtonEl.style.display =\n",
              "        google.colab.kernel.accessAllowed ? 'block' : 'none';\n",
              "    })();\n",
              "  </script>\n",
              "</div>\n",
              "\n",
              "    </div>\n",
              "  </div>\n"
            ],
            "application/vnd.google.colaboratory.intrinsic+json": {
              "type": "dataframe",
              "variable_name": "df",
              "summary": "{\n  \"name\": \"df\",\n  \"rows\": 1599,\n  \"fields\": [\n    {\n      \"column\": \"Parameter 1\",\n      \"properties\": {\n        \"dtype\": \"number\",\n        \"std\": 1.7410963181276953,\n        \"min\": 4.6,\n        \"max\": 15.9,\n        \"num_unique_values\": 96,\n        \"samples\": [\n          5.3,\n          12.7,\n          12.6\n        ],\n        \"semantic_type\": \"\",\n        \"description\": \"\"\n      }\n    },\n    {\n      \"column\": \"Parameter 2\",\n      \"properties\": {\n        \"dtype\": \"number\",\n        \"std\": 0.17905970415353537,\n        \"min\": 0.12,\n        \"max\": 1.58,\n        \"num_unique_values\": 143,\n        \"samples\": [\n          1.025,\n          0.4,\n          0.87\n        ],\n        \"semantic_type\": \"\",\n        \"description\": \"\"\n      }\n    },\n    {\n      \"column\": \"Parameter 3\",\n      \"properties\": {\n        \"dtype\": \"number\",\n        \"std\": 0.19480113740531857,\n        \"min\": 0.0,\n        \"max\": 1.0,\n        \"num_unique_values\": 80,\n        \"samples\": [\n          0.37,\n          0.0,\n          0.09\n        ],\n        \"semantic_type\": \"\",\n        \"description\": \"\"\n      }\n    },\n    {\n      \"column\": \"Parameter 4\",\n      \"properties\": {\n        \"dtype\": \"number\",\n        \"std\": 1.4099280595072798,\n        \"min\": 0.9,\n        \"max\": 15.5,\n        \"num_unique_values\": 91,\n        \"samples\": [\n          11.0,\n          3.0,\n          15.5\n        ],\n        \"semantic_type\": \"\",\n        \"description\": \"\"\n      }\n    },\n    {\n      \"column\": \"Parameter 5\",\n      \"properties\": {\n        \"dtype\": \"number\",\n        \"std\": 0.0470653020100901,\n        \"min\": 0.012,\n        \"max\": 0.611,\n        \"num_unique_values\": 153,\n        \"samples\": [\n          0.096,\n          0.343,\n          0.159\n        ],\n        \"semantic_type\": \"\",\n        \"description\": \"\"\n      }\n    },\n    {\n      \"column\": \"Parameter 6\",\n      \"properties\": {\n        \"dtype\": \"number\",\n        \"std\": 10.460156969809725,\n        \"min\": 1.0,\n        \"max\": 72.0,\n        \"num_unique_values\": 60,\n        \"samples\": [\n          11.0,\n          9.0,\n          32.0\n        ],\n        \"semantic_type\": \"\",\n        \"description\": \"\"\n      }\n    },\n    {\n      \"column\": \"Parameter 7\",\n      \"properties\": {\n        \"dtype\": \"number\",\n        \"std\": 32.895324478299074,\n        \"min\": 6.0,\n        \"max\": 289.0,\n        \"num_unique_values\": 144,\n        \"samples\": [\n          68.0,\n          35.0,\n          101.0\n        ],\n        \"semantic_type\": \"\",\n        \"description\": \"\"\n      }\n    },\n    {\n      \"column\": \"Parameter 8\",\n      \"properties\": {\n        \"dtype\": \"number\",\n        \"std\": 0.0018873339538425554,\n        \"min\": 0.99007,\n        \"max\": 1.00369,\n        \"num_unique_values\": 436,\n        \"samples\": [\n          0.99974,\n          1.0001,\n          0.99471\n        ],\n        \"semantic_type\": \"\",\n        \"description\": \"\"\n      }\n    },\n    {\n      \"column\": \"Parameter 9\",\n      \"properties\": {\n        \"dtype\": \"number\",\n        \"std\": 0.15438646490354277,\n        \"min\": 2.74,\n        \"max\": 4.01,\n        \"num_unique_values\": 89,\n        \"samples\": [\n          3.07,\n          3.0,\n          3.15\n        ],\n        \"semantic_type\": \"\",\n        \"description\": \"\"\n      }\n    },\n    {\n      \"column\": \"Parameter 10\",\n      \"properties\": {\n        \"dtype\": \"number\",\n        \"std\": 0.16950697959010996,\n        \"min\": 0.33,\n        \"max\": 2.0,\n        \"num_unique_values\": 96,\n        \"samples\": [\n          1.07,\n          1.04,\n          1.18\n        ],\n        \"semantic_type\": \"\",\n        \"description\": \"\"\n      }\n    },\n    {\n      \"column\": \"Parameter 11\",\n      \"properties\": {\n        \"dtype\": \"number\",\n        \"std\": 1.0656675818563988,\n        \"min\": 8.4,\n        \"max\": 14.9,\n        \"num_unique_values\": 65,\n        \"samples\": [\n          8.5,\n          9.95,\n          9.4\n        ],\n        \"semantic_type\": \"\",\n        \"description\": \"\"\n      }\n    },\n    {\n      \"column\": \"Signal_Strength\",\n      \"properties\": {\n        \"dtype\": \"number\",\n        \"std\": 0,\n        \"min\": 3,\n        \"max\": 8,\n        \"num_unique_values\": 6,\n        \"samples\": [\n          5,\n          6,\n          3\n        ],\n        \"semantic_type\": \"\",\n        \"description\": \"\"\n      }\n    }\n  ]\n}"
            }
          },
          "metadata": {},
          "execution_count": 25
        }
      ],
      "source": [
        "# Display the DataFrame\n",
        "df.head()"
      ]
    },
    {
      "cell_type": "code",
      "execution_count": 26,
      "metadata": {
        "colab": {
          "base_uri": "https://localhost:8080/"
        },
        "id": "SuyOmUMaGMtK",
        "outputId": "2aeb3066-62b7-4219-9eb2-52e15175e73c"
      },
      "outputs": [
        {
          "output_type": "execute_result",
          "data": {
            "text/plain": [
              "(1599, 12)"
            ]
          },
          "metadata": {},
          "execution_count": 26
        }
      ],
      "source": [
        "df.shape"
      ]
    },
    {
      "cell_type": "markdown",
      "metadata": {
        "id": "Yc9kB8QRFUF6"
      },
      "source": [
        ">>### **B. Check for missing values and print percentage for each attribute.**\n",
        "\n",
        "\n",
        "---\n",
        "\n"
      ]
    },
    {
      "cell_type": "code",
      "execution_count": 27,
      "metadata": {
        "colab": {
          "base_uri": "https://localhost:8080/"
        },
        "id": "uvknepDJF_OJ",
        "outputId": "bae31358-057a-4a45-9cdd-61f22f33d9c0"
      },
      "outputs": [
        {
          "output_type": "stream",
          "name": "stdout",
          "text": [
            "Percentage of missing values for each attribute:\n",
            "Parameter 1        0.0\n",
            "Parameter 2        0.0\n",
            "Parameter 3        0.0\n",
            "Parameter 4        0.0\n",
            "Parameter 5        0.0\n",
            "Parameter 6        0.0\n",
            "Parameter 7        0.0\n",
            "Parameter 8        0.0\n",
            "Parameter 9        0.0\n",
            "Parameter 10       0.0\n",
            "Parameter 11       0.0\n",
            "Signal_Strength    0.0\n",
            "dtype: float64\n"
          ]
        }
      ],
      "source": [
        "# Check for missing values\n",
        "missing_values = df.isnull().sum()\n",
        "\n",
        "# Calculate percentage of missing values for each attribute\n",
        "percentage_missing = (missing_values / len(df)) * 100\n",
        "\n",
        "# Print percentage of missing values for each attribute\n",
        "print(\"Percentage of missing values for each attribute:\")\n",
        "print(percentage_missing)\n"
      ]
    },
    {
      "cell_type": "markdown",
      "metadata": {
        "id": "d_KVF2y1czon"
      },
      "source": [
        "There are no missing values in the dataset."
      ]
    },
    {
      "cell_type": "markdown",
      "metadata": {
        "id": "q2IZoKISFvSf"
      },
      "source": [
        ">>### **C. Check for presence of duplicate records in the dataset and impute with appropriate method.**\n",
        "\n",
        "\n",
        "---\n",
        "\n"
      ]
    },
    {
      "cell_type": "code",
      "execution_count": 28,
      "metadata": {
        "id": "rsAMymqPGFkZ"
      },
      "outputs": [],
      "source": [
        "# Check for duplicate records\n",
        "duplicate_rows = df[df.duplicated()]"
      ]
    },
    {
      "cell_type": "code",
      "execution_count": 29,
      "metadata": {
        "colab": {
          "base_uri": "https://localhost:8080/",
          "height": 0
        },
        "id": "9pZ0JakwGhI2",
        "outputId": "2aca7a45-0be2-4ac4-9909-46030243ff64"
      },
      "outputs": [
        {
          "output_type": "execute_result",
          "data": {
            "text/plain": [
              "      Parameter 1  Parameter 2  Parameter 3  Parameter 4  Parameter 5  \\\n",
              "4             7.4        0.700         0.00         1.90        0.076   \n",
              "11            7.5        0.500         0.36         6.10        0.071   \n",
              "27            7.9        0.430         0.21         1.60        0.106   \n",
              "40            7.3        0.450         0.36         5.90        0.074   \n",
              "65            7.2        0.725         0.05         4.65        0.086   \n",
              "...           ...          ...          ...          ...          ...   \n",
              "1563          7.2        0.695         0.13         2.00        0.076   \n",
              "1564          7.2        0.695         0.13         2.00        0.076   \n",
              "1567          7.2        0.695         0.13         2.00        0.076   \n",
              "1581          6.2        0.560         0.09         1.70        0.053   \n",
              "1596          6.3        0.510         0.13         2.30        0.076   \n",
              "\n",
              "      Parameter 6  Parameter 7  Parameter 8  Parameter 9  Parameter 10  \\\n",
              "4            11.0         34.0      0.99780         3.51          0.56   \n",
              "11           17.0        102.0      0.99780         3.35          0.80   \n",
              "27           10.0         37.0      0.99660         3.17          0.91   \n",
              "40           12.0         87.0      0.99780         3.33          0.83   \n",
              "65            4.0         11.0      0.99620         3.41          0.39   \n",
              "...           ...          ...          ...          ...           ...   \n",
              "1563         12.0         20.0      0.99546         3.29          0.54   \n",
              "1564         12.0         20.0      0.99546         3.29          0.54   \n",
              "1567         12.0         20.0      0.99546         3.29          0.54   \n",
              "1581         24.0         32.0      0.99402         3.54          0.60   \n",
              "1596         29.0         40.0      0.99574         3.42          0.75   \n",
              "\n",
              "      Parameter 11  Signal_Strength  \n",
              "4              9.4                5  \n",
              "11            10.5                5  \n",
              "27             9.5                5  \n",
              "40            10.5                5  \n",
              "65            10.9                5  \n",
              "...            ...              ...  \n",
              "1563          10.1                5  \n",
              "1564          10.1                5  \n",
              "1567          10.1                5  \n",
              "1581          11.3                5  \n",
              "1596          11.0                6  \n",
              "\n",
              "[240 rows x 12 columns]"
            ],
            "text/html": [
              "\n",
              "  <div id=\"df-30fd3ff2-b872-428d-9ce6-1238e8296a3c\" class=\"colab-df-container\">\n",
              "    <div>\n",
              "<style scoped>\n",
              "    .dataframe tbody tr th:only-of-type {\n",
              "        vertical-align: middle;\n",
              "    }\n",
              "\n",
              "    .dataframe tbody tr th {\n",
              "        vertical-align: top;\n",
              "    }\n",
              "\n",
              "    .dataframe thead th {\n",
              "        text-align: right;\n",
              "    }\n",
              "</style>\n",
              "<table border=\"1\" class=\"dataframe\">\n",
              "  <thead>\n",
              "    <tr style=\"text-align: right;\">\n",
              "      <th></th>\n",
              "      <th>Parameter 1</th>\n",
              "      <th>Parameter 2</th>\n",
              "      <th>Parameter 3</th>\n",
              "      <th>Parameter 4</th>\n",
              "      <th>Parameter 5</th>\n",
              "      <th>Parameter 6</th>\n",
              "      <th>Parameter 7</th>\n",
              "      <th>Parameter 8</th>\n",
              "      <th>Parameter 9</th>\n",
              "      <th>Parameter 10</th>\n",
              "      <th>Parameter 11</th>\n",
              "      <th>Signal_Strength</th>\n",
              "    </tr>\n",
              "  </thead>\n",
              "  <tbody>\n",
              "    <tr>\n",
              "      <th>4</th>\n",
              "      <td>7.4</td>\n",
              "      <td>0.700</td>\n",
              "      <td>0.00</td>\n",
              "      <td>1.90</td>\n",
              "      <td>0.076</td>\n",
              "      <td>11.0</td>\n",
              "      <td>34.0</td>\n",
              "      <td>0.99780</td>\n",
              "      <td>3.51</td>\n",
              "      <td>0.56</td>\n",
              "      <td>9.4</td>\n",
              "      <td>5</td>\n",
              "    </tr>\n",
              "    <tr>\n",
              "      <th>11</th>\n",
              "      <td>7.5</td>\n",
              "      <td>0.500</td>\n",
              "      <td>0.36</td>\n",
              "      <td>6.10</td>\n",
              "      <td>0.071</td>\n",
              "      <td>17.0</td>\n",
              "      <td>102.0</td>\n",
              "      <td>0.99780</td>\n",
              "      <td>3.35</td>\n",
              "      <td>0.80</td>\n",
              "      <td>10.5</td>\n",
              "      <td>5</td>\n",
              "    </tr>\n",
              "    <tr>\n",
              "      <th>27</th>\n",
              "      <td>7.9</td>\n",
              "      <td>0.430</td>\n",
              "      <td>0.21</td>\n",
              "      <td>1.60</td>\n",
              "      <td>0.106</td>\n",
              "      <td>10.0</td>\n",
              "      <td>37.0</td>\n",
              "      <td>0.99660</td>\n",
              "      <td>3.17</td>\n",
              "      <td>0.91</td>\n",
              "      <td>9.5</td>\n",
              "      <td>5</td>\n",
              "    </tr>\n",
              "    <tr>\n",
              "      <th>40</th>\n",
              "      <td>7.3</td>\n",
              "      <td>0.450</td>\n",
              "      <td>0.36</td>\n",
              "      <td>5.90</td>\n",
              "      <td>0.074</td>\n",
              "      <td>12.0</td>\n",
              "      <td>87.0</td>\n",
              "      <td>0.99780</td>\n",
              "      <td>3.33</td>\n",
              "      <td>0.83</td>\n",
              "      <td>10.5</td>\n",
              "      <td>5</td>\n",
              "    </tr>\n",
              "    <tr>\n",
              "      <th>65</th>\n",
              "      <td>7.2</td>\n",
              "      <td>0.725</td>\n",
              "      <td>0.05</td>\n",
              "      <td>4.65</td>\n",
              "      <td>0.086</td>\n",
              "      <td>4.0</td>\n",
              "      <td>11.0</td>\n",
              "      <td>0.99620</td>\n",
              "      <td>3.41</td>\n",
              "      <td>0.39</td>\n",
              "      <td>10.9</td>\n",
              "      <td>5</td>\n",
              "    </tr>\n",
              "    <tr>\n",
              "      <th>...</th>\n",
              "      <td>...</td>\n",
              "      <td>...</td>\n",
              "      <td>...</td>\n",
              "      <td>...</td>\n",
              "      <td>...</td>\n",
              "      <td>...</td>\n",
              "      <td>...</td>\n",
              "      <td>...</td>\n",
              "      <td>...</td>\n",
              "      <td>...</td>\n",
              "      <td>...</td>\n",
              "      <td>...</td>\n",
              "    </tr>\n",
              "    <tr>\n",
              "      <th>1563</th>\n",
              "      <td>7.2</td>\n",
              "      <td>0.695</td>\n",
              "      <td>0.13</td>\n",
              "      <td>2.00</td>\n",
              "      <td>0.076</td>\n",
              "      <td>12.0</td>\n",
              "      <td>20.0</td>\n",
              "      <td>0.99546</td>\n",
              "      <td>3.29</td>\n",
              "      <td>0.54</td>\n",
              "      <td>10.1</td>\n",
              "      <td>5</td>\n",
              "    </tr>\n",
              "    <tr>\n",
              "      <th>1564</th>\n",
              "      <td>7.2</td>\n",
              "      <td>0.695</td>\n",
              "      <td>0.13</td>\n",
              "      <td>2.00</td>\n",
              "      <td>0.076</td>\n",
              "      <td>12.0</td>\n",
              "      <td>20.0</td>\n",
              "      <td>0.99546</td>\n",
              "      <td>3.29</td>\n",
              "      <td>0.54</td>\n",
              "      <td>10.1</td>\n",
              "      <td>5</td>\n",
              "    </tr>\n",
              "    <tr>\n",
              "      <th>1567</th>\n",
              "      <td>7.2</td>\n",
              "      <td>0.695</td>\n",
              "      <td>0.13</td>\n",
              "      <td>2.00</td>\n",
              "      <td>0.076</td>\n",
              "      <td>12.0</td>\n",
              "      <td>20.0</td>\n",
              "      <td>0.99546</td>\n",
              "      <td>3.29</td>\n",
              "      <td>0.54</td>\n",
              "      <td>10.1</td>\n",
              "      <td>5</td>\n",
              "    </tr>\n",
              "    <tr>\n",
              "      <th>1581</th>\n",
              "      <td>6.2</td>\n",
              "      <td>0.560</td>\n",
              "      <td>0.09</td>\n",
              "      <td>1.70</td>\n",
              "      <td>0.053</td>\n",
              "      <td>24.0</td>\n",
              "      <td>32.0</td>\n",
              "      <td>0.99402</td>\n",
              "      <td>3.54</td>\n",
              "      <td>0.60</td>\n",
              "      <td>11.3</td>\n",
              "      <td>5</td>\n",
              "    </tr>\n",
              "    <tr>\n",
              "      <th>1596</th>\n",
              "      <td>6.3</td>\n",
              "      <td>0.510</td>\n",
              "      <td>0.13</td>\n",
              "      <td>2.30</td>\n",
              "      <td>0.076</td>\n",
              "      <td>29.0</td>\n",
              "      <td>40.0</td>\n",
              "      <td>0.99574</td>\n",
              "      <td>3.42</td>\n",
              "      <td>0.75</td>\n",
              "      <td>11.0</td>\n",
              "      <td>6</td>\n",
              "    </tr>\n",
              "  </tbody>\n",
              "</table>\n",
              "<p>240 rows × 12 columns</p>\n",
              "</div>\n",
              "    <div class=\"colab-df-buttons\">\n",
              "\n",
              "  <div class=\"colab-df-container\">\n",
              "    <button class=\"colab-df-convert\" onclick=\"convertToInteractive('df-30fd3ff2-b872-428d-9ce6-1238e8296a3c')\"\n",
              "            title=\"Convert this dataframe to an interactive table.\"\n",
              "            style=\"display:none;\">\n",
              "\n",
              "  <svg xmlns=\"http://www.w3.org/2000/svg\" height=\"24px\" viewBox=\"0 -960 960 960\">\n",
              "    <path d=\"M120-120v-720h720v720H120Zm60-500h600v-160H180v160Zm220 220h160v-160H400v160Zm0 220h160v-160H400v160ZM180-400h160v-160H180v160Zm440 0h160v-160H620v160ZM180-180h160v-160H180v160Zm440 0h160v-160H620v160Z\"/>\n",
              "  </svg>\n",
              "    </button>\n",
              "\n",
              "  <style>\n",
              "    .colab-df-container {\n",
              "      display:flex;\n",
              "      gap: 12px;\n",
              "    }\n",
              "\n",
              "    .colab-df-convert {\n",
              "      background-color: #E8F0FE;\n",
              "      border: none;\n",
              "      border-radius: 50%;\n",
              "      cursor: pointer;\n",
              "      display: none;\n",
              "      fill: #1967D2;\n",
              "      height: 32px;\n",
              "      padding: 0 0 0 0;\n",
              "      width: 32px;\n",
              "    }\n",
              "\n",
              "    .colab-df-convert:hover {\n",
              "      background-color: #E2EBFA;\n",
              "      box-shadow: 0px 1px 2px rgba(60, 64, 67, 0.3), 0px 1px 3px 1px rgba(60, 64, 67, 0.15);\n",
              "      fill: #174EA6;\n",
              "    }\n",
              "\n",
              "    .colab-df-buttons div {\n",
              "      margin-bottom: 4px;\n",
              "    }\n",
              "\n",
              "    [theme=dark] .colab-df-convert {\n",
              "      background-color: #3B4455;\n",
              "      fill: #D2E3FC;\n",
              "    }\n",
              "\n",
              "    [theme=dark] .colab-df-convert:hover {\n",
              "      background-color: #434B5C;\n",
              "      box-shadow: 0px 1px 3px 1px rgba(0, 0, 0, 0.15);\n",
              "      filter: drop-shadow(0px 1px 2px rgba(0, 0, 0, 0.3));\n",
              "      fill: #FFFFFF;\n",
              "    }\n",
              "  </style>\n",
              "\n",
              "    <script>\n",
              "      const buttonEl =\n",
              "        document.querySelector('#df-30fd3ff2-b872-428d-9ce6-1238e8296a3c button.colab-df-convert');\n",
              "      buttonEl.style.display =\n",
              "        google.colab.kernel.accessAllowed ? 'block' : 'none';\n",
              "\n",
              "      async function convertToInteractive(key) {\n",
              "        const element = document.querySelector('#df-30fd3ff2-b872-428d-9ce6-1238e8296a3c');\n",
              "        const dataTable =\n",
              "          await google.colab.kernel.invokeFunction('convertToInteractive',\n",
              "                                                    [key], {});\n",
              "        if (!dataTable) return;\n",
              "\n",
              "        const docLinkHtml = 'Like what you see? Visit the ' +\n",
              "          '<a target=\"_blank\" href=https://colab.research.google.com/notebooks/data_table.ipynb>data table notebook</a>'\n",
              "          + ' to learn more about interactive tables.';\n",
              "        element.innerHTML = '';\n",
              "        dataTable['output_type'] = 'display_data';\n",
              "        await google.colab.output.renderOutput(dataTable, element);\n",
              "        const docLink = document.createElement('div');\n",
              "        docLink.innerHTML = docLinkHtml;\n",
              "        element.appendChild(docLink);\n",
              "      }\n",
              "    </script>\n",
              "  </div>\n",
              "\n",
              "\n",
              "<div id=\"df-04caf96c-2f9f-45ff-bb65-ed2100c83766\">\n",
              "  <button class=\"colab-df-quickchart\" onclick=\"quickchart('df-04caf96c-2f9f-45ff-bb65-ed2100c83766')\"\n",
              "            title=\"Suggest charts\"\n",
              "            style=\"display:none;\">\n",
              "\n",
              "<svg xmlns=\"http://www.w3.org/2000/svg\" height=\"24px\"viewBox=\"0 0 24 24\"\n",
              "     width=\"24px\">\n",
              "    <g>\n",
              "        <path d=\"M19 3H5c-1.1 0-2 .9-2 2v14c0 1.1.9 2 2 2h14c1.1 0 2-.9 2-2V5c0-1.1-.9-2-2-2zM9 17H7v-7h2v7zm4 0h-2V7h2v10zm4 0h-2v-4h2v4z\"/>\n",
              "    </g>\n",
              "</svg>\n",
              "  </button>\n",
              "\n",
              "<style>\n",
              "  .colab-df-quickchart {\n",
              "      --bg-color: #E8F0FE;\n",
              "      --fill-color: #1967D2;\n",
              "      --hover-bg-color: #E2EBFA;\n",
              "      --hover-fill-color: #174EA6;\n",
              "      --disabled-fill-color: #AAA;\n",
              "      --disabled-bg-color: #DDD;\n",
              "  }\n",
              "\n",
              "  [theme=dark] .colab-df-quickchart {\n",
              "      --bg-color: #3B4455;\n",
              "      --fill-color: #D2E3FC;\n",
              "      --hover-bg-color: #434B5C;\n",
              "      --hover-fill-color: #FFFFFF;\n",
              "      --disabled-bg-color: #3B4455;\n",
              "      --disabled-fill-color: #666;\n",
              "  }\n",
              "\n",
              "  .colab-df-quickchart {\n",
              "    background-color: var(--bg-color);\n",
              "    border: none;\n",
              "    border-radius: 50%;\n",
              "    cursor: pointer;\n",
              "    display: none;\n",
              "    fill: var(--fill-color);\n",
              "    height: 32px;\n",
              "    padding: 0;\n",
              "    width: 32px;\n",
              "  }\n",
              "\n",
              "  .colab-df-quickchart:hover {\n",
              "    background-color: var(--hover-bg-color);\n",
              "    box-shadow: 0 1px 2px rgba(60, 64, 67, 0.3), 0 1px 3px 1px rgba(60, 64, 67, 0.15);\n",
              "    fill: var(--button-hover-fill-color);\n",
              "  }\n",
              "\n",
              "  .colab-df-quickchart-complete:disabled,\n",
              "  .colab-df-quickchart-complete:disabled:hover {\n",
              "    background-color: var(--disabled-bg-color);\n",
              "    fill: var(--disabled-fill-color);\n",
              "    box-shadow: none;\n",
              "  }\n",
              "\n",
              "  .colab-df-spinner {\n",
              "    border: 2px solid var(--fill-color);\n",
              "    border-color: transparent;\n",
              "    border-bottom-color: var(--fill-color);\n",
              "    animation:\n",
              "      spin 1s steps(1) infinite;\n",
              "  }\n",
              "\n",
              "  @keyframes spin {\n",
              "    0% {\n",
              "      border-color: transparent;\n",
              "      border-bottom-color: var(--fill-color);\n",
              "      border-left-color: var(--fill-color);\n",
              "    }\n",
              "    20% {\n",
              "      border-color: transparent;\n",
              "      border-left-color: var(--fill-color);\n",
              "      border-top-color: var(--fill-color);\n",
              "    }\n",
              "    30% {\n",
              "      border-color: transparent;\n",
              "      border-left-color: var(--fill-color);\n",
              "      border-top-color: var(--fill-color);\n",
              "      border-right-color: var(--fill-color);\n",
              "    }\n",
              "    40% {\n",
              "      border-color: transparent;\n",
              "      border-right-color: var(--fill-color);\n",
              "      border-top-color: var(--fill-color);\n",
              "    }\n",
              "    60% {\n",
              "      border-color: transparent;\n",
              "      border-right-color: var(--fill-color);\n",
              "    }\n",
              "    80% {\n",
              "      border-color: transparent;\n",
              "      border-right-color: var(--fill-color);\n",
              "      border-bottom-color: var(--fill-color);\n",
              "    }\n",
              "    90% {\n",
              "      border-color: transparent;\n",
              "      border-bottom-color: var(--fill-color);\n",
              "    }\n",
              "  }\n",
              "</style>\n",
              "\n",
              "  <script>\n",
              "    async function quickchart(key) {\n",
              "      const quickchartButtonEl =\n",
              "        document.querySelector('#' + key + ' button');\n",
              "      quickchartButtonEl.disabled = true;  // To prevent multiple clicks.\n",
              "      quickchartButtonEl.classList.add('colab-df-spinner');\n",
              "      try {\n",
              "        const charts = await google.colab.kernel.invokeFunction(\n",
              "            'suggestCharts', [key], {});\n",
              "      } catch (error) {\n",
              "        console.error('Error during call to suggestCharts:', error);\n",
              "      }\n",
              "      quickchartButtonEl.classList.remove('colab-df-spinner');\n",
              "      quickchartButtonEl.classList.add('colab-df-quickchart-complete');\n",
              "    }\n",
              "    (() => {\n",
              "      let quickchartButtonEl =\n",
              "        document.querySelector('#df-04caf96c-2f9f-45ff-bb65-ed2100c83766 button');\n",
              "      quickchartButtonEl.style.display =\n",
              "        google.colab.kernel.accessAllowed ? 'block' : 'none';\n",
              "    })();\n",
              "  </script>\n",
              "</div>\n",
              "\n",
              "  <div id=\"id_d47a52d1-8640-4e53-a876-3b3c74323fc7\">\n",
              "    <style>\n",
              "      .colab-df-generate {\n",
              "        background-color: #E8F0FE;\n",
              "        border: none;\n",
              "        border-radius: 50%;\n",
              "        cursor: pointer;\n",
              "        display: none;\n",
              "        fill: #1967D2;\n",
              "        height: 32px;\n",
              "        padding: 0 0 0 0;\n",
              "        width: 32px;\n",
              "      }\n",
              "\n",
              "      .colab-df-generate:hover {\n",
              "        background-color: #E2EBFA;\n",
              "        box-shadow: 0px 1px 2px rgba(60, 64, 67, 0.3), 0px 1px 3px 1px rgba(60, 64, 67, 0.15);\n",
              "        fill: #174EA6;\n",
              "      }\n",
              "\n",
              "      [theme=dark] .colab-df-generate {\n",
              "        background-color: #3B4455;\n",
              "        fill: #D2E3FC;\n",
              "      }\n",
              "\n",
              "      [theme=dark] .colab-df-generate:hover {\n",
              "        background-color: #434B5C;\n",
              "        box-shadow: 0px 1px 3px 1px rgba(0, 0, 0, 0.15);\n",
              "        filter: drop-shadow(0px 1px 2px rgba(0, 0, 0, 0.3));\n",
              "        fill: #FFFFFF;\n",
              "      }\n",
              "    </style>\n",
              "    <button class=\"colab-df-generate\" onclick=\"generateWithVariable('duplicate_rows')\"\n",
              "            title=\"Generate code using this dataframe.\"\n",
              "            style=\"display:none;\">\n",
              "\n",
              "  <svg xmlns=\"http://www.w3.org/2000/svg\" height=\"24px\"viewBox=\"0 0 24 24\"\n",
              "       width=\"24px\">\n",
              "    <path d=\"M7,19H8.4L18.45,9,17,7.55,7,17.6ZM5,21V16.75L18.45,3.32a2,2,0,0,1,2.83,0l1.4,1.43a1.91,1.91,0,0,1,.58,1.4,1.91,1.91,0,0,1-.58,1.4L9.25,21ZM18.45,9,17,7.55Zm-12,3A5.31,5.31,0,0,0,4.9,8.1,5.31,5.31,0,0,0,1,6.5,5.31,5.31,0,0,0,4.9,4.9,5.31,5.31,0,0,0,6.5,1,5.31,5.31,0,0,0,8.1,4.9,5.31,5.31,0,0,0,12,6.5,5.46,5.46,0,0,0,6.5,12Z\"/>\n",
              "  </svg>\n",
              "    </button>\n",
              "    <script>\n",
              "      (() => {\n",
              "      const buttonEl =\n",
              "        document.querySelector('#id_d47a52d1-8640-4e53-a876-3b3c74323fc7 button.colab-df-generate');\n",
              "      buttonEl.style.display =\n",
              "        google.colab.kernel.accessAllowed ? 'block' : 'none';\n",
              "\n",
              "      buttonEl.onclick = () => {\n",
              "        google.colab.notebook.generateWithVariable('duplicate_rows');\n",
              "      }\n",
              "      })();\n",
              "    </script>\n",
              "  </div>\n",
              "\n",
              "    </div>\n",
              "  </div>\n"
            ],
            "application/vnd.google.colaboratory.intrinsic+json": {
              "type": "dataframe",
              "variable_name": "duplicate_rows",
              "summary": "{\n  \"name\": \"duplicate_rows\",\n  \"rows\": 240,\n  \"fields\": [\n    {\n      \"column\": \"Parameter 1\",\n      \"properties\": {\n        \"dtype\": \"number\",\n        \"std\": 1.7669630155908271,\n        \"min\": 5.2,\n        \"max\": 15.5,\n        \"num_unique_values\": 64,\n        \"samples\": [\n          9.3,\n          11.1,\n          7.4\n        ],\n        \"semantic_type\": \"\",\n        \"description\": \"\"\n      }\n    },\n    {\n      \"column\": \"Parameter 2\",\n      \"properties\": {\n        \"dtype\": \"number\",\n        \"std\": 0.15466509996937114,\n        \"min\": 0.12,\n        \"max\": 1.0,\n        \"num_unique_values\": 77,\n        \"samples\": [\n          0.725,\n          0.415,\n          0.55\n        ],\n        \"semantic_type\": \"\",\n        \"description\": \"\"\n      }\n    },\n    {\n      \"column\": \"Parameter 3\",\n      \"properties\": {\n        \"dtype\": \"number\",\n        \"std\": 0.19080209010167776,\n        \"min\": 0.0,\n        \"max\": 0.74,\n        \"num_unique_values\": 64,\n        \"samples\": [\n          0.13,\n          0.37,\n          0.0\n        ],\n        \"semantic_type\": \"\",\n        \"description\": \"\"\n      }\n    },\n    {\n      \"column\": \"Parameter 4\",\n      \"properties\": {\n        \"dtype\": \"number\",\n        \"std\": 1.7004364927979674,\n        \"min\": 0.9,\n        \"max\": 15.4,\n        \"num_unique_values\": 44,\n        \"samples\": [\n          0.9,\n          6.55,\n          2.7\n        ],\n        \"semantic_type\": \"\",\n        \"description\": \"\"\n      }\n    },\n    {\n      \"column\": \"Parameter 5\",\n      \"properties\": {\n        \"dtype\": \"number\",\n        \"std\": 0.03068148528105515,\n        \"min\": 0.012,\n        \"max\": 0.415,\n        \"num_unique_values\": 69,\n        \"samples\": [\n          0.065,\n          0.076,\n          0.114\n        ],\n        \"semantic_type\": \"\",\n        \"description\": \"\"\n      }\n    },\n    {\n      \"column\": \"Parameter 6\",\n      \"properties\": {\n        \"dtype\": \"number\",\n        \"std\": 10.554182940679386,\n        \"min\": 1.0,\n        \"max\": 68.0,\n        \"num_unique_values\": 43,\n        \"samples\": [\n          51.0,\n          38.0,\n          26.0\n        ],\n        \"semantic_type\": \"\",\n        \"description\": \"\"\n      }\n    },\n    {\n      \"column\": \"Parameter 7\",\n      \"properties\": {\n        \"dtype\": \"number\",\n        \"std\": 29.803812760379973,\n        \"min\": 6.0,\n        \"max\": 147.0,\n        \"num_unique_values\": 94,\n        \"samples\": [\n          81.0,\n          61.0,\n          10.0\n        ],\n        \"semantic_type\": \"\",\n        \"description\": \"\"\n      }\n    },\n    {\n      \"column\": \"Parameter 8\",\n      \"properties\": {\n        \"dtype\": \"number\",\n        \"std\": 0.001978906309381779,\n        \"min\": 0.99007,\n        \"max\": 1.00369,\n        \"num_unique_values\": 148,\n        \"samples\": [\n          0.99704,\n          0.99803,\n          0.99508\n        ],\n        \"semantic_type\": \"\",\n        \"description\": \"\"\n      }\n    },\n    {\n      \"column\": \"Parameter 9\",\n      \"properties\": {\n        \"dtype\": \"number\",\n        \"std\": 0.150750510868775,\n        \"min\": 2.89,\n        \"max\": 3.72,\n        \"num_unique_values\": 66,\n        \"samples\": [\n          3.59,\n          3.49,\n          3.51\n        ],\n        \"semantic_type\": \"\",\n        \"description\": \"\"\n      }\n    },\n    {\n      \"column\": \"Parameter 10\",\n      \"properties\": {\n        \"dtype\": \"number\",\n        \"std\": 0.16309249884625693,\n        \"min\": 0.39,\n        \"max\": 1.95,\n        \"num_unique_values\": 57,\n        \"samples\": [\n          0.56,\n          0.66,\n          0.69\n        ],\n        \"semantic_type\": \"\",\n        \"description\": \"\"\n      }\n    },\n    {\n      \"column\": \"Parameter 11\",\n      \"properties\": {\n        \"dtype\": \"number\",\n        \"std\": 0.9679820700495906,\n        \"min\": 8.8,\n        \"max\": 14.0,\n        \"num_unique_values\": 41,\n        \"samples\": [\n          11.2,\n          11.0,\n          13.0\n        ],\n        \"semantic_type\": \"\",\n        \"description\": \"\"\n      }\n    },\n    {\n      \"column\": \"Signal_Strength\",\n      \"properties\": {\n        \"dtype\": \"number\",\n        \"std\": 0,\n        \"min\": 5,\n        \"max\": 8,\n        \"num_unique_values\": 4,\n        \"samples\": [\n          6,\n          8,\n          5\n        ],\n        \"semantic_type\": \"\",\n        \"description\": \"\"\n      }\n    }\n  ]\n}"
            }
          },
          "metadata": {},
          "execution_count": 29
        }
      ],
      "source": [
        "duplicate_rows"
      ]
    },
    {
      "cell_type": "code",
      "execution_count": 30,
      "metadata": {
        "id": "yksr379iHJ_3"
      },
      "outputs": [],
      "source": [
        "# Drop duplicate records\n",
        "df.drop_duplicates(inplace=True)"
      ]
    },
    {
      "cell_type": "code",
      "execution_count": 31,
      "metadata": {
        "colab": {
          "base_uri": "https://localhost:8080/"
        },
        "id": "Wa8gDvjKHWiw",
        "outputId": "7197fac5-ae9a-43a9-f190-6d8c43ae8dc5"
      },
      "outputs": [
        {
          "output_type": "execute_result",
          "data": {
            "text/plain": [
              "(1359, 12)"
            ]
          },
          "metadata": {},
          "execution_count": 31
        }
      ],
      "source": [
        "df.shape"
      ]
    },
    {
      "cell_type": "markdown",
      "metadata": {
        "id": "sJ_ICFkec3p_"
      },
      "source": [
        "The duplicate values in the dataset have been dropped."
      ]
    },
    {
      "cell_type": "markdown",
      "metadata": {
        "id": "gsPndlivGEPO"
      },
      "source": [
        ">>### **D. Visualise distribution of the target variable.**\n",
        "\n",
        "\n",
        "---\n",
        "\n"
      ]
    },
    {
      "cell_type": "code",
      "execution_count": 32,
      "metadata": {
        "colab": {
          "base_uri": "https://localhost:8080/"
        },
        "id": "5WLksOmmHv4y",
        "outputId": "7e767a3d-5f9a-4b0e-d898-4eed75088ca6"
      },
      "outputs": [
        {
          "output_type": "execute_result",
          "data": {
            "text/plain": [
              "5    577\n",
              "6    535\n",
              "7    167\n",
              "4     53\n",
              "8     17\n",
              "3     10\n",
              "Name: Signal_Strength, dtype: int64"
            ]
          },
          "metadata": {},
          "execution_count": 32
        }
      ],
      "source": [
        "df['Signal_Strength'].value_counts()"
      ]
    },
    {
      "cell_type": "code",
      "execution_count": 33,
      "metadata": {
        "colab": {
          "base_uri": "https://localhost:8080/",
          "height": 0
        },
        "id": "z3LxvQKXHjGH",
        "outputId": "fd4e452d-601e-44ec-e989-c95e1f78f558"
      },
      "outputs": [
        {
          "output_type": "display_data",
          "data": {
            "text/plain": [
              "<Figure size 800x600 with 1 Axes>"
            ],
            "image/png": "[encoded data removed]"
          },
          "metadata": {}
        }
      ],
      "source": [
        "import matplotlib.pyplot as plt\n",
        "\n",
        "# Plot histogram of Signal_Strength\n",
        "plt.figure(figsize=(8, 6))\n",
        "plt.hist(df['Signal_Strength'], bins=20, color='skyblue', edgecolor='black')\n",
        "plt.title('Distribution of Signal Strength')\n",
        "plt.xlabel('Signal Strength')\n",
        "plt.ylabel('Frequency')\n",
        "plt.grid(True)\n",
        "plt.show()"
      ]
    },
    {
      "cell_type": "code",
      "execution_count": 34,
      "metadata": {
        "colab": {
          "base_uri": "https://localhost:8080/",
          "height": 0
        },
        "id": "Kc-hz-OwHoMA",
        "outputId": "3a590aed-43e8-4f29-8c9a-039e2085067d"
      },
      "outputs": [
        {
          "output_type": "display_data",
          "data": {
            "text/plain": [
              "<Figure size 800x800 with 1 Axes>"
            ],
            "image/png": "[encoded data removed]"
          },
          "metadata": {}
        }
      ],
      "source": [
        "import matplotlib.pyplot as plt\n",
        "\n",
        "# Calculate value counts of Signal_Strength\n",
        "signal_strength_counts = df['Signal_Strength'].value_counts()\n",
        "\n",
        "# Create a pie chart\n",
        "plt.figure(figsize=(8, 8))\n",
        "plt.pie(signal_strength_counts, labels=signal_strength_counts.index, autopct='%1.1f%%', startangle=140)\n",
        "plt.title('Distribution of Signal Strength')\n",
        "plt.axis('equal')  # Equal aspect ratio ensures that pie is drawn as a circle.\n",
        "plt.show()"
      ]
    },
    {
      "cell_type": "markdown",
      "metadata": {
        "id": "tpAl4euuGUNP"
      },
      "source": [
        ">>### **E. Share insights from the initial data analysis (at least 2)**\n",
        "\n",
        "\n",
        "---\n",
        "\n"
      ]
    },
    {
      "cell_type": "markdown",
      "metadata": {
        "id": "keSmHUaYo1l0"
      },
      "source": [
        "**1.** Missing value analysis showcases that there are no missing values in the data.\n",
        "\n",
        "**2.** There were 240 duplicate records in the dataset which have been dropped.\n",
        "\n",
        "**3.** The target column distribution indicates that 5 is the majority signal with 42.5% cases while 6 too has a major share of 39.4%.\n",
        "\n",
        "**4.** 7 has a significant share of 12.3% while 4, 8 and 3 have a share of 3.9%, 1.3% and 0.7% respectively.\n",
        "\n",
        "\n",
        "---\n",
        "\n"
      ]
    },
    {
      "cell_type": "markdown",
      "metadata": {
        "id": "vFfzNvHWG2lc"
      },
      "source": [
        ">## **2. Data preprocessing**\n",
        "\n",
        "\n",
        "---\n",
        "\n"
      ]
    },
    {
      "cell_type": "markdown",
      "metadata": {
        "id": "pX3o8c_1HFOU"
      },
      "source": [
        ">>### **A. Split the data into X & Y.**\n",
        "\n",
        "\n",
        "---\n",
        "\n"
      ]
    },
    {
      "cell_type": "code",
      "execution_count": 35,
      "metadata": {
        "colab": {
          "base_uri": "https://localhost:8080/"
        },
        "id": "bjBh0ZIiP9D2",
        "outputId": "e093fe8b-bee2-4ca9-9547-5b731a694387"
      },
      "outputs": [
        {
          "output_type": "stream",
          "name": "stdout",
          "text": [
            "Shape of X: (1359, 11)\n",
            "Shape of Y: (1359,)\n"
          ]
        }
      ],
      "source": [
        "# Extracting features (X) and target variable (Y)\n",
        "X = df.drop(columns=['Signal_Strength'])  # Drop the target variable column\n",
        "Y = df['Signal_Strength']  # Select only the target variable column\n",
        "\n",
        "# Displaying the shapes of X and Y (optional)\n",
        "print(\"Shape of X:\", X.shape)\n",
        "print(\"Shape of Y:\", Y.shape)"
      ]
    },
    {
      "cell_type": "markdown",
      "metadata": {
        "id": "4qnK5E50Hz9_"
      },
      "source": [
        ">>### **B. Split the data into train & test with 70:30 proportion.**\n",
        "\n",
        "\n",
        "---\n",
        "\n"
      ]
    },
    {
      "cell_type": "code",
      "execution_count": 36,
      "metadata": {
        "colab": {
          "base_uri": "https://localhost:8080/"
        },
        "id": "UtacSs5EQCK_",
        "outputId": "4ab93ca1-d9b9-423e-d164-f4e2955bade2"
      },
      "outputs": [
        {
          "output_type": "stream",
          "name": "stdout",
          "text": [
            "Shape of X_train: (951, 11)\n",
            "Shape of X_test: (408, 11)\n",
            "Shape of Y_train: (951,)\n",
            "Shape of Y_test: (408,)\n"
          ]
        }
      ],
      "source": [
        "from sklearn.model_selection import train_test_split\n",
        "\n",
        "# Split the data into train and test sets with a 70:30 proportion\n",
        "X_train, X_test, Y_train, Y_test = train_test_split(X, Y, test_size=0.3, random_state=42)\n",
        "\n",
        "# Displaying the shapes of the train and test sets (optional)\n",
        "print(\"Shape of X_train:\", X_train.shape)\n",
        "print(\"Shape of X_test:\", X_test.shape)\n",
        "print(\"Shape of Y_train:\", Y_train.shape)\n",
        "print(\"Shape of Y_test:\", Y_test.shape)"
      ]
    },
    {
      "cell_type": "markdown",
      "metadata": {
        "id": "BgblE7AVIZ-u"
      },
      "source": [
        ">>### **C. Print shape of all the 4 variables and verify if train and test data is in sync**\n",
        "\n",
        "\n",
        "---\n",
        "\n"
      ]
    },
    {
      "cell_type": "code",
      "execution_count": 37,
      "metadata": {
        "colab": {
          "base_uri": "https://localhost:8080/"
        },
        "id": "7WOzpyiKQI8h",
        "outputId": "b03eb8b7-2467-4e6c-b354-db91f6fd5275"
      },
      "outputs": [
        {
          "output_type": "stream",
          "name": "stdout",
          "text": [
            "Shape of X_train: (951, 11)\n",
            "Shape of X_test: (408, 11)\n",
            "Shape of Y_train: (951,)\n",
            "Shape of Y_test: (408,)\n",
            "\n",
            "Are train and test data in sync?\n",
            "X_train and Y_train: True\n",
            "X_test and Y_test: True\n"
          ]
        }
      ],
      "source": [
        "# Print shape of all four variables\n",
        "print(\"Shape of X_train:\", X_train.shape)\n",
        "print(\"Shape of X_test:\", X_test.shape)\n",
        "print(\"Shape of Y_train:\", Y_train.shape)\n",
        "print(\"Shape of Y_test:\", Y_test.shape)\n",
        "\n",
        "# Verify if train and test data is in sync\n",
        "print(\"\\nAre train and test data in sync?\")\n",
        "print(\"X_train and Y_train:\", X_train.shape[0] == Y_train.shape[0])\n",
        "print(\"X_test and Y_test:\", X_test.shape[0] == Y_test.shape[0])\n"
      ]
    },
    {
      "cell_type": "markdown",
      "metadata": {
        "id": "05O9oL0RvvP1"
      },
      "source": [
        "The train data and the test data are in sync."
      ]
    },
    {
      "cell_type": "markdown",
      "metadata": {
        "id": "T-TzsZprIkfg"
      },
      "source": [
        ">>### **D. Normalise the train and test data with appropriate method.**\n",
        "\n",
        "\n",
        "---\n",
        "\n"
      ]
    },
    {
      "cell_type": "code",
      "execution_count": 38,
      "metadata": {
        "colab": {
          "base_uri": "https://localhost:8080/"
        },
        "id": "KUKmoTCFQVPJ",
        "outputId": "0e9a4f4d-03e4-4e53-de11-97f277f6859c"
      },
      "outputs": [
        {
          "output_type": "stream",
          "name": "stdout",
          "text": [
            "Shape of X_train_normalized: (951, 11)\n",
            "Shape of X_test_normalized: (408, 11)\n"
          ]
        }
      ],
      "source": [
        "from sklearn.preprocessing import MinMaxScaler\n",
        "\n",
        "# Initialize MinMaxScaler\n",
        "scaler = MinMaxScaler()\n",
        "\n",
        "# Fit scaler on training data and transform it\n",
        "X_train_normalized = scaler.fit_transform(X_train)\n",
        "\n",
        "# Transform test data using parameters from training data\n",
        "X_test_normalized = scaler.transform(X_test)\n",
        "\n",
        "\n",
        "# Displaying the shapes of the standardized train and test sets (optional)\n",
        "print(\"Shape of X_train_normalized:\", X_train_normalized.shape)\n",
        "print(\"Shape of X_test_normalized:\", X_test_normalized.shape)"
      ]
    },
    {
      "cell_type": "markdown",
      "metadata": {
        "id": "h2sOtltlKAO3"
      },
      "source": [
        ">>### **E. Transform Labels into format acceptable by Neural Network**\n",
        "\n",
        "\n",
        "---\n",
        "\n"
      ]
    },
    {
      "cell_type": "code",
      "execution_count": 39,
      "metadata": {
        "id": "XVRoZR3ZtiKd"
      },
      "outputs": [],
      "source": [
        "import pandas as pd\n",
        "\n",
        "# Concatenate Y_train and Y_test to ensure all classes are considered\n",
        "all_labels = pd.concat([Y_train, Y_test])\n",
        "\n",
        "# Perform one-hot encoding using pandas get_dummies()\n",
        "Y_all_encoded = pd.get_dummies(all_labels)\n",
        "\n",
        "# Split back into Y_train_encoded and Y_test_encoded\n",
        "Y_train_encoded = Y_all_encoded[:len(Y_train)]\n",
        "Y_test_encoded = Y_all_encoded[len(Y_train):]"
      ]
    },
    {
      "cell_type": "code",
      "execution_count": 40,
      "metadata": {
        "colab": {
          "base_uri": "https://localhost:8080/",
          "height": 0
        },
        "id": "8LDOkcaAtt5N",
        "outputId": "090b76f4-f248-4aef-828a-c75e96aa9c38"
      },
      "outputs": [
        {
          "output_type": "execute_result",
          "data": {
            "text/plain": [
              "      3  4  5  6  7  8\n",
              "374   0  0  0  1  0  0\n",
              "1225  0  0  1  0  0  0\n",
              "363   0  0  1  0  0  0\n",
              "1426  0  0  0  1  0  0\n",
              "89    0  0  1  0  0  0\n",
              "...  .. .. .. .. .. ..\n",
              "1285  0  0  1  0  0  0\n",
              "1329  0  0  0  1  0  0\n",
              "1526  0  0  0  1  0  0\n",
              "1011  0  0  0  1  0  0\n",
              "1322  0  0  1  0  0  0\n",
              "\n",
              "[951 rows x 6 columns]"
            ],
            "text/html": [
              "\n",
              "  <div id=\"df-7e01ac79-113c-498b-9e7c-18bc7c054f28\" class=\"colab-df-container\">\n",
              "    <div>\n",
              "<style scoped>\n",
              "    .dataframe tbody tr th:only-of-type {\n",
              "        vertical-align: middle;\n",
              "    }\n",
              "\n",
              "    .dataframe tbody tr th {\n",
              "        vertical-align: top;\n",
              "    }\n",
              "\n",
              "    .dataframe thead th {\n",
              "        text-align: right;\n",
              "    }\n",
              "</style>\n",
              "<table border=\"1\" class=\"dataframe\">\n",
              "  <thead>\n",
              "    <tr style=\"text-align: right;\">\n",
              "      <th></th>\n",
              "      <th>3</th>\n",
              "      <th>4</th>\n",
              "      <th>5</th>\n",
              "      <th>6</th>\n",
              "      <th>7</th>\n",
              "      <th>8</th>\n",
              "    </tr>\n",
              "  </thead>\n",
              "  <tbody>\n",
              "    <tr>\n",
              "      <th>374</th>\n",
              "      <td>0</td>\n",
              "      <td>0</td>\n",
              "      <td>0</td>\n",
              "      <td>1</td>\n",
              "      <td>0</td>\n",
              "      <td>0</td>\n",
              "    </tr>\n",
              "    <tr>\n",
              "      <th>1225</th>\n",
              "      <td>0</td>\n",
              "      <td>0</td>\n",
              "      <td>1</td>\n",
              "      <td>0</td>\n",
              "      <td>0</td>\n",
              "      <td>0</td>\n",
              "    </tr>\n",
              "    <tr>\n",
              "      <th>363</th>\n",
              "      <td>0</td>\n",
              "      <td>0</td>\n",
              "      <td>1</td>\n",
              "      <td>0</td>\n",
              "      <td>0</td>\n",
              "      <td>0</td>\n",
              "    </tr>\n",
              "    <tr>\n",
              "      <th>1426</th>\n",
              "      <td>0</td>\n",
              "      <td>0</td>\n",
              "      <td>0</td>\n",
              "      <td>1</td>\n",
              "      <td>0</td>\n",
              "      <td>0</td>\n",
              "    </tr>\n",
              "    <tr>\n",
              "      <th>89</th>\n",
              "      <td>0</td>\n",
              "      <td>0</td>\n",
              "      <td>1</td>\n",
              "      <td>0</td>\n",
              "      <td>0</td>\n",
              "      <td>0</td>\n",
              "    </tr>\n",
              "    <tr>\n",
              "      <th>...</th>\n",
              "      <td>...</td>\n",
              "      <td>...</td>\n",
              "      <td>...</td>\n",
              "      <td>...</td>\n",
              "      <td>...</td>\n",
              "      <td>...</td>\n",
              "    </tr>\n",
              "    <tr>\n",
              "      <th>1285</th>\n",
              "      <td>0</td>\n",
              "      <td>0</td>\n",
              "      <td>1</td>\n",
              "      <td>0</td>\n",
              "      <td>0</td>\n",
              "      <td>0</td>\n",
              "    </tr>\n",
              "    <tr>\n",
              "      <th>1329</th>\n",
              "      <td>0</td>\n",
              "      <td>0</td>\n",
              "      <td>0</td>\n",
              "      <td>1</td>\n",
              "      <td>0</td>\n",
              "      <td>0</td>\n",
              "    </tr>\n",
              "    <tr>\n",
              "      <th>1526</th>\n",
              "      <td>0</td>\n",
              "      <td>0</td>\n",
              "      <td>0</td>\n",
              "      <td>1</td>\n",
              "      <td>0</td>\n",
              "      <td>0</td>\n",
              "    </tr>\n",
              "    <tr>\n",
              "      <th>1011</th>\n",
              "      <td>0</td>\n",
              "      <td>0</td>\n",
              "      <td>0</td>\n",
              "      <td>1</td>\n",
              "      <td>0</td>\n",
              "      <td>0</td>\n",
              "    </tr>\n",
              "    <tr>\n",
              "      <th>1322</th>\n",
              "      <td>0</td>\n",
              "      <td>0</td>\n",
              "      <td>1</td>\n",
              "      <td>0</td>\n",
              "      <td>0</td>\n",
              "      <td>0</td>\n",
              "    </tr>\n",
              "  </tbody>\n",
              "</table>\n",
              "<p>951 rows × 6 columns</p>\n",
              "</div>\n",
              "    <div class=\"colab-df-buttons\">\n",
              "\n",
              "  <div class=\"colab-df-container\">\n",
              "    <button class=\"colab-df-convert\" onclick=\"convertToInteractive('df-7e01ac79-113c-498b-9e7c-18bc7c054f28')\"\n",
              "            title=\"Convert this dataframe to an interactive table.\"\n",
              "            style=\"display:none;\">\n",
              "\n",
              "  <svg xmlns=\"http://www.w3.org/2000/svg\" height=\"24px\" viewBox=\"0 -960 960 960\">\n",
              "    <path d=\"M120-120v-720h720v720H120Zm60-500h600v-160H180v160Zm220 220h160v-160H400v160Zm0 220h160v-160H400v160ZM180-400h160v-160H180v160Zm440 0h160v-160H620v160ZM180-180h160v-160H180v160Zm440 0h160v-160H620v160Z\"/>\n",
              "  </svg>\n",
              "    </button>\n",
              "\n",
              "  <style>\n",
              "    .colab-df-container {\n",
              "      display:flex;\n",
              "      gap: 12px;\n",
              "    }\n",
              "\n",
              "    .colab-df-convert {\n",
              "      background-color: #E8F0FE;\n",
              "      border: none;\n",
              "      border-radius: 50%;\n",
              "      cursor: pointer;\n",
              "      display: none;\n",
              "      fill: #1967D2;\n",
              "      height: 32px;\n",
              "      padding: 0 0 0 0;\n",
              "      width: 32px;\n",
              "    }\n",
              "\n",
              "    .colab-df-convert:hover {\n",
              "      background-color: #E2EBFA;\n",
              "      box-shadow: 0px 1px 2px rgba(60, 64, 67, 0.3), 0px 1px 3px 1px rgba(60, 64, 67, 0.15);\n",
              "      fill: #174EA6;\n",
              "    }\n",
              "\n",
              "    .colab-df-buttons div {\n",
              "      margin-bottom: 4px;\n",
              "    }\n",
              "\n",
              "    [theme=dark] .colab-df-convert {\n",
              "      background-color: #3B4455;\n",
              "      fill: #D2E3FC;\n",
              "    }\n",
              "\n",
              "    [theme=dark] .colab-df-convert:hover {\n",
              "      background-color: #434B5C;\n",
              "      box-shadow: 0px 1px 3px 1px rgba(0, 0, 0, 0.15);\n",
              "      filter: drop-shadow(0px 1px 2px rgba(0, 0, 0, 0.3));\n",
              "      fill: #FFFFFF;\n",
              "    }\n",
              "  </style>\n",
              "\n",
              "    <script>\n",
              "      const buttonEl =\n",
              "        document.querySelector('#df-7e01ac79-113c-498b-9e7c-18bc7c054f28 button.colab-df-convert');\n",
              "      buttonEl.style.display =\n",
              "        google.colab.kernel.accessAllowed ? 'block' : 'none';\n",
              "\n",
              "      async function convertToInteractive(key) {\n",
              "        const element = document.querySelector('#df-7e01ac79-113c-498b-9e7c-18bc7c054f28');\n",
              "        const dataTable =\n",
              "          await google.colab.kernel.invokeFunction('convertToInteractive',\n",
              "                                                    [key], {});\n",
              "        if (!dataTable) return;\n",
              "\n",
              "        const docLinkHtml = 'Like what you see? Visit the ' +\n",
              "          '<a target=\"_blank\" href=https://colab.research.google.com/notebooks/data_table.ipynb>data table notebook</a>'\n",
              "          + ' to learn more about interactive tables.';\n",
              "        element.innerHTML = '';\n",
              "        dataTable['output_type'] = 'display_data';\n",
              "        await google.colab.output.renderOutput(dataTable, element);\n",
              "        const docLink = document.createElement('div');\n",
              "        docLink.innerHTML = docLinkHtml;\n",
              "        element.appendChild(docLink);\n",
              "      }\n",
              "    </script>\n",
              "  </div>\n",
              "\n",
              "\n",
              "<div id=\"df-a02cac16-d60f-4488-a9cc-8ee4ca3f9c6f\">\n",
              "  <button class=\"colab-df-quickchart\" onclick=\"quickchart('df-a02cac16-d60f-4488-a9cc-8ee4ca3f9c6f')\"\n",
              "            title=\"Suggest charts\"\n",
              "            style=\"display:none;\">\n",
              "\n",
              "<svg xmlns=\"http://www.w3.org/2000/svg\" height=\"24px\"viewBox=\"0 0 24 24\"\n",
              "     width=\"24px\">\n",
              "    <g>\n",
              "        <path d=\"M19 3H5c-1.1 0-2 .9-2 2v14c0 1.1.9 2 2 2h14c1.1 0 2-.9 2-2V5c0-1.1-.9-2-2-2zM9 17H7v-7h2v7zm4 0h-2V7h2v10zm4 0h-2v-4h2v4z\"/>\n",
              "    </g>\n",
              "</svg>\n",
              "  </button>\n",
              "\n",
              "<style>\n",
              "  .colab-df-quickchart {\n",
              "      --bg-color: #E8F0FE;\n",
              "      --fill-color: #1967D2;\n",
              "      --hover-bg-color: #E2EBFA;\n",
              "      --hover-fill-color: #174EA6;\n",
              "      --disabled-fill-color: #AAA;\n",
              "      --disabled-bg-color: #DDD;\n",
              "  }\n",
              "\n",
              "  [theme=dark] .colab-df-quickchart {\n",
              "      --bg-color: #3B4455;\n",
              "      --fill-color: #D2E3FC;\n",
              "      --hover-bg-color: #434B5C;\n",
              "      --hover-fill-color: #FFFFFF;\n",
              "      --disabled-bg-color: #3B4455;\n",
              "      --disabled-fill-color: #666;\n",
              "  }\n",
              "\n",
              "  .colab-df-quickchart {\n",
              "    background-color: var(--bg-color);\n",
              "    border: none;\n",
              "    border-radius: 50%;\n",
              "    cursor: pointer;\n",
              "    display: none;\n",
              "    fill: var(--fill-color);\n",
              "    height: 32px;\n",
              "    padding: 0;\n",
              "    width: 32px;\n",
              "  }\n",
              "\n",
              "  .colab-df-quickchart:hover {\n",
              "    background-color: var(--hover-bg-color);\n",
              "    box-shadow: 0 1px 2px rgba(60, 64, 67, 0.3), 0 1px 3px 1px rgba(60, 64, 67, 0.15);\n",
              "    fill: var(--button-hover-fill-color);\n",
              "  }\n",
              "\n",
              "  .colab-df-quickchart-complete:disabled,\n",
              "  .colab-df-quickchart-complete:disabled:hover {\n",
              "    background-color: var(--disabled-bg-color);\n",
              "    fill: var(--disabled-fill-color);\n",
              "    box-shadow: none;\n",
              "  }\n",
              "\n",
              "  .colab-df-spinner {\n",
              "    border: 2px solid var(--fill-color);\n",
              "    border-color: transparent;\n",
              "    border-bottom-color: var(--fill-color);\n",
              "    animation:\n",
              "      spin 1s steps(1) infinite;\n",
              "  }\n",
              "\n",
              "  @keyframes spin {\n",
              "    0% {\n",
              "      border-color: transparent;\n",
              "      border-bottom-color: var(--fill-color);\n",
              "      border-left-color: var(--fill-color);\n",
              "    }\n",
              "    20% {\n",
              "      border-color: transparent;\n",
              "      border-left-color: var(--fill-color);\n",
              "      border-top-color: var(--fill-color);\n",
              "    }\n",
              "    30% {\n",
              "      border-color: transparent;\n",
              "      border-left-color: var(--fill-color);\n",
              "      border-top-color: var(--fill-color);\n",
              "      border-right-color: var(--fill-color);\n",
              "    }\n",
              "    40% {\n",
              "      border-color: transparent;\n",
              "      border-right-color: var(--fill-color);\n",
              "      border-top-color: var(--fill-color);\n",
              "    }\n",
              "    60% {\n",
              "      border-color: transparent;\n",
              "      border-right-color: var(--fill-color);\n",
              "    }\n",
              "    80% {\n",
              "      border-color: transparent;\n",
              "      border-right-color: var(--fill-color);\n",
              "      border-bottom-color: var(--fill-color);\n",
              "    }\n",
              "    90% {\n",
              "      border-color: transparent;\n",
              "      border-bottom-color: var(--fill-color);\n",
              "    }\n",
              "  }\n",
              "</style>\n",
              "\n",
              "  <script>\n",
              "    async function quickchart(key) {\n",
              "      const quickchartButtonEl =\n",
              "        document.querySelector('#' + key + ' button');\n",
              "      quickchartButtonEl.disabled = true;  // To prevent multiple clicks.\n",
              "      quickchartButtonEl.classList.add('colab-df-spinner');\n",
              "      try {\n",
              "        const charts = await google.colab.kernel.invokeFunction(\n",
              "            'suggestCharts', [key], {});\n",
              "      } catch (error) {\n",
              "        console.error('Error during call to suggestCharts:', error);\n",
              "      }\n",
              "      quickchartButtonEl.classList.remove('colab-df-spinner');\n",
              "      quickchartButtonEl.classList.add('colab-df-quickchart-complete');\n",
              "    }\n",
              "    (() => {\n",
              "      let quickchartButtonEl =\n",
              "        document.querySelector('#df-a02cac16-d60f-4488-a9cc-8ee4ca3f9c6f button');\n",
              "      quickchartButtonEl.style.display =\n",
              "        google.colab.kernel.accessAllowed ? 'block' : 'none';\n",
              "    })();\n",
              "  </script>\n",
              "</div>\n",
              "\n",
              "  <div id=\"id_17dd1356-c791-4569-b400-b5abe19d98f1\">\n",
              "    <style>\n",
              "      .colab-df-generate {\n",
              "        background-color: #E8F0FE;\n",
              "        border: none;\n",
              "        border-radius: 50%;\n",
              "        cursor: pointer;\n",
              "        display: none;\n",
              "        fill: #1967D2;\n",
              "        height: 32px;\n",
              "        padding: 0 0 0 0;\n",
              "        width: 32px;\n",
              "      }\n",
              "\n",
              "      .colab-df-generate:hover {\n",
              "        background-color: #E2EBFA;\n",
              "        box-shadow: 0px 1px 2px rgba(60, 64, 67, 0.3), 0px 1px 3px 1px rgba(60, 64, 67, 0.15);\n",
              "        fill: #174EA6;\n",
              "      }\n",
              "\n",
              "      [theme=dark] .colab-df-generate {\n",
              "        background-color: #3B4455;\n",
              "        fill: #D2E3FC;\n",
              "      }\n",
              "\n",
              "      [theme=dark] .colab-df-generate:hover {\n",
              "        background-color: #434B5C;\n",
              "        box-shadow: 0px 1px 3px 1px rgba(0, 0, 0, 0.15);\n",
              "        filter: drop-shadow(0px 1px 2px rgba(0, 0, 0, 0.3));\n",
              "        fill: #FFFFFF;\n",
              "      }\n",
              "    </style>\n",
              "    <button class=\"colab-df-generate\" onclick=\"generateWithVariable('Y_train_encoded')\"\n",
              "            title=\"Generate code using this dataframe.\"\n",
              "            style=\"display:none;\">\n",
              "\n",
              "  <svg xmlns=\"http://www.w3.org/2000/svg\" height=\"24px\"viewBox=\"0 0 24 24\"\n",
              "       width=\"24px\">\n",
              "    <path d=\"M7,19H8.4L18.45,9,17,7.55,7,17.6ZM5,21V16.75L18.45,3.32a2,2,0,0,1,2.83,0l1.4,1.43a1.91,1.91,0,0,1,.58,1.4,1.91,1.91,0,0,1-.58,1.4L9.25,21ZM18.45,9,17,7.55Zm-12,3A5.31,5.31,0,0,0,4.9,8.1,5.31,5.31,0,0,0,1,6.5,5.31,5.31,0,0,0,4.9,4.9,5.31,5.31,0,0,0,6.5,1,5.31,5.31,0,0,0,8.1,4.9,5.31,5.31,0,0,0,12,6.5,5.46,5.46,0,0,0,6.5,12Z\"/>\n",
              "  </svg>\n",
              "    </button>\n",
              "    <script>\n",
              "      (() => {\n",
              "      const buttonEl =\n",
              "        document.querySelector('#id_17dd1356-c791-4569-b400-b5abe19d98f1 button.colab-df-generate');\n",
              "      buttonEl.style.display =\n",
              "        google.colab.kernel.accessAllowed ? 'block' : 'none';\n",
              "\n",
              "      buttonEl.onclick = () => {\n",
              "        google.colab.notebook.generateWithVariable('Y_train_encoded');\n",
              "      }\n",
              "      })();\n",
              "    </script>\n",
              "  </div>\n",
              "\n",
              "    </div>\n",
              "  </div>\n"
            ],
            "application/vnd.google.colaboratory.intrinsic+json": {
              "type": "dataframe",
              "variable_name": "Y_train_encoded",
              "summary": "{\n  \"name\": \"Y_train_encoded\",\n  \"rows\": 951,\n  \"fields\": [\n    {\n      \"column\": 3,\n      \"properties\": {\n        \"dtype\": \"uint8\",\n        \"num_unique_values\": 2,\n        \"samples\": [\n          1,\n          0\n        ],\n        \"semantic_type\": \"\",\n        \"description\": \"\"\n      }\n    },\n    {\n      \"column\": 4,\n      \"properties\": {\n        \"dtype\": \"uint8\",\n        \"num_unique_values\": 2,\n        \"samples\": [\n          1,\n          0\n        ],\n        \"semantic_type\": \"\",\n        \"description\": \"\"\n      }\n    },\n    {\n      \"column\": 5,\n      \"properties\": {\n        \"dtype\": \"uint8\",\n        \"num_unique_values\": 2,\n        \"samples\": [\n          1,\n          0\n        ],\n        \"semantic_type\": \"\",\n        \"description\": \"\"\n      }\n    },\n    {\n      \"column\": 6,\n      \"properties\": {\n        \"dtype\": \"uint8\",\n        \"num_unique_values\": 2,\n        \"samples\": [\n          0,\n          1\n        ],\n        \"semantic_type\": \"\",\n        \"description\": \"\"\n      }\n    },\n    {\n      \"column\": 7,\n      \"properties\": {\n        \"dtype\": \"uint8\",\n        \"num_unique_values\": 2,\n        \"samples\": [\n          1,\n          0\n        ],\n        \"semantic_type\": \"\",\n        \"description\": \"\"\n      }\n    },\n    {\n      \"column\": 8,\n      \"properties\": {\n        \"dtype\": \"uint8\",\n        \"num_unique_values\": 2,\n        \"samples\": [\n          1,\n          0\n        ],\n        \"semantic_type\": \"\",\n        \"description\": \"\"\n      }\n    }\n  ]\n}"
            }
          },
          "metadata": {},
          "execution_count": 40
        }
      ],
      "source": [
        "Y_train_encoded"
      ]
    },
    {
      "cell_type": "code",
      "execution_count": 41,
      "metadata": {
        "colab": {
          "base_uri": "https://localhost:8080/",
          "height": 0
        },
        "id": "fpdxvuHNtwfH",
        "outputId": "40fe0273-1bff-41bd-c9c2-e1529903512f"
      },
      "outputs": [
        {
          "output_type": "execute_result",
          "data": {
            "text/plain": [
              "      3  4  5  6  7  8\n",
              "55    0  0  1  0  0  0\n",
              "1291  0  0  0  1  0  0\n",
              "1544  0  0  0  0  1  0\n",
              "593   0  0  1  0  0  0\n",
              "1261  0  1  0  0  0  0\n",
              "...  .. .. .. .. .. ..\n",
              "1305  0  0  1  0  0  0\n",
              "1120  0  0  0  0  0  1\n",
              "456   0  0  1  0  0  0\n",
              "1076  0  0  0  1  0  0\n",
              "838   0  0  0  0  1  0\n",
              "\n",
              "[408 rows x 6 columns]"
            ],
            "text/html": [
              "\n",
              "  <div id=\"df-d034c682-55ec-414d-8b80-47b8449a112a\" class=\"colab-df-container\">\n",
              "    <div>\n",
              "<style scoped>\n",
              "    .dataframe tbody tr th:only-of-type {\n",
              "        vertical-align: middle;\n",
              "    }\n",
              "\n",
              "    .dataframe tbody tr th {\n",
              "        vertical-align: top;\n",
              "    }\n",
              "\n",
              "    .dataframe thead th {\n",
              "        text-align: right;\n",
              "    }\n",
              "</style>\n",
              "<table border=\"1\" class=\"dataframe\">\n",
              "  <thead>\n",
              "    <tr style=\"text-align: right;\">\n",
              "      <th></th>\n",
              "      <th>3</th>\n",
              "      <th>4</th>\n",
              "      <th>5</th>\n",
              "      <th>6</th>\n",
              "      <th>7</th>\n",
              "      <th>8</th>\n",
              "    </tr>\n",
              "  </thead>\n",
              "  <tbody>\n",
              "    <tr>\n",
              "      <th>55</th>\n",
              "      <td>0</td>\n",
              "      <td>0</td>\n",
              "      <td>1</td>\n",
              "      <td>0</td>\n",
              "      <td>0</td>\n",
              "      <td>0</td>\n",
              "    </tr>\n",
              "    <tr>\n",
              "      <th>1291</th>\n",
              "      <td>0</td>\n",
              "      <td>0</td>\n",
              "      <td>0</td>\n",
              "      <td>1</td>\n",
              "      <td>0</td>\n",
              "      <td>0</td>\n",
              "    </tr>\n",
              "    <tr>\n",
              "      <th>1544</th>\n",
              "      <td>0</td>\n",
              "      <td>0</td>\n",
              "      <td>0</td>\n",
              "      <td>0</td>\n",
              "      <td>1</td>\n",
              "      <td>0</td>\n",
              "    </tr>\n",
              "    <tr>\n",
              "      <th>593</th>\n",
              "      <td>0</td>\n",
              "      <td>0</td>\n",
              "      <td>1</td>\n",
              "      <td>0</td>\n",
              "      <td>0</td>\n",
              "      <td>0</td>\n",
              "    </tr>\n",
              "    <tr>\n",
              "      <th>1261</th>\n",
              "      <td>0</td>\n",
              "      <td>1</td>\n",
              "      <td>0</td>\n",
              "      <td>0</td>\n",
              "      <td>0</td>\n",
              "      <td>0</td>\n",
              "    </tr>\n",
              "    <tr>\n",
              "      <th>...</th>\n",
              "      <td>...</td>\n",
              "      <td>...</td>\n",
              "      <td>...</td>\n",
              "      <td>...</td>\n",
              "      <td>...</td>\n",
              "      <td>...</td>\n",
              "    </tr>\n",
              "    <tr>\n",
              "      <th>1305</th>\n",
              "      <td>0</td>\n",
              "      <td>0</td>\n",
              "      <td>1</td>\n",
              "      <td>0</td>\n",
              "      <td>0</td>\n",
              "      <td>0</td>\n",
              "    </tr>\n",
              "    <tr>\n",
              "      <th>1120</th>\n",
              "      <td>0</td>\n",
              "      <td>0</td>\n",
              "      <td>0</td>\n",
              "      <td>0</td>\n",
              "      <td>0</td>\n",
              "      <td>1</td>\n",
              "    </tr>\n",
              "    <tr>\n",
              "      <th>456</th>\n",
              "      <td>0</td>\n",
              "      <td>0</td>\n",
              "      <td>1</td>\n",
              "      <td>0</td>\n",
              "      <td>0</td>\n",
              "      <td>0</td>\n",
              "    </tr>\n",
              "    <tr>\n",
              "      <th>1076</th>\n",
              "      <td>0</td>\n",
              "      <td>0</td>\n",
              "      <td>0</td>\n",
              "      <td>1</td>\n",
              "      <td>0</td>\n",
              "      <td>0</td>\n",
              "    </tr>\n",
              "    <tr>\n",
              "      <th>838</th>\n",
              "      <td>0</td>\n",
              "      <td>0</td>\n",
              "      <td>0</td>\n",
              "      <td>0</td>\n",
              "      <td>1</td>\n",
              "      <td>0</td>\n",
              "    </tr>\n",
              "  </tbody>\n",
              "</table>\n",
              "<p>408 rows × 6 columns</p>\n",
              "</div>\n",
              "    <div class=\"colab-df-buttons\">\n",
              "\n",
              "  <div class=\"colab-df-container\">\n",
              "    <button class=\"colab-df-convert\" onclick=\"convertToInteractive('df-d034c682-55ec-414d-8b80-47b8449a112a')\"\n",
              "            title=\"Convert this dataframe to an interactive table.\"\n",
              "            style=\"display:none;\">\n",
              "\n",
              "  <svg xmlns=\"http://www.w3.org/2000/svg\" height=\"24px\" viewBox=\"0 -960 960 960\">\n",
              "    <path d=\"M120-120v-720h720v720H120Zm60-500h600v-160H180v160Zm220 220h160v-160H400v160Zm0 220h160v-160H400v160ZM180-400h160v-160H180v160Zm440 0h160v-160H620v160ZM180-180h160v-160H180v160Zm440 0h160v-160H620v160Z\"/>\n",
              "  </svg>\n",
              "    </button>\n",
              "\n",
              "  <style>\n",
              "    .colab-df-container {\n",
              "      display:flex;\n",
              "      gap: 12px;\n",
              "    }\n",
              "\n",
              "    .colab-df-convert {\n",
              "      background-color: #E8F0FE;\n",
              "      border: none;\n",
              "      border-radius: 50%;\n",
              "      cursor: pointer;\n",
              "      display: none;\n",
              "      fill: #1967D2;\n",
              "      height: 32px;\n",
              "      padding: 0 0 0 0;\n",
              "      width: 32px;\n",
              "    }\n",
              "\n",
              "    .colab-df-convert:hover {\n",
              "      background-color: #E2EBFA;\n",
              "      box-shadow: 0px 1px 2px rgba(60, 64, 67, 0.3), 0px 1px 3px 1px rgba(60, 64, 67, 0.15);\n",
              "      fill: #174EA6;\n",
              "    }\n",
              "\n",
              "    .colab-df-buttons div {\n",
              "      margin-bottom: 4px;\n",
              "    }\n",
              "\n",
              "    [theme=dark] .colab-df-convert {\n",
              "      background-color: #3B4455;\n",
              "      fill: #D2E3FC;\n",
              "    }\n",
              "\n",
              "    [theme=dark] .colab-df-convert:hover {\n",
              "      background-color: #434B5C;\n",
              "      box-shadow: 0px 1px 3px 1px rgba(0, 0, 0, 0.15);\n",
              "      filter: drop-shadow(0px 1px 2px rgba(0, 0, 0, 0.3));\n",
              "      fill: #FFFFFF;\n",
              "    }\n",
              "  </style>\n",
              "\n",
              "    <script>\n",
              "      const buttonEl =\n",
              "        document.querySelector('#df-d034c682-55ec-414d-8b80-47b8449a112a button.colab-df-convert');\n",
              "      buttonEl.style.display =\n",
              "        google.colab.kernel.accessAllowed ? 'block' : 'none';\n",
              "\n",
              "      async function convertToInteractive(key) {\n",
              "        const element = document.querySelector('#df-d034c682-55ec-414d-8b80-47b8449a112a');\n",
              "        const dataTable =\n",
              "          await google.colab.kernel.invokeFunction('convertToInteractive',\n",
              "                                                    [key], {});\n",
              "        if (!dataTable) return;\n",
              "\n",
              "        const docLinkHtml = 'Like what you see? Visit the ' +\n",
              "          '<a target=\"_blank\" href=https://colab.research.google.com/notebooks/data_table.ipynb>data table notebook</a>'\n",
              "          + ' to learn more about interactive tables.';\n",
              "        element.innerHTML = '';\n",
              "        dataTable['output_type'] = 'display_data';\n",
              "        await google.colab.output.renderOutput(dataTable, element);\n",
              "        const docLink = document.createElement('div');\n",
              "        docLink.innerHTML = docLinkHtml;\n",
              "        element.appendChild(docLink);\n",
              "      }\n",
              "    </script>\n",
              "  </div>\n",
              "\n",
              "\n",
              "<div id=\"df-c2d16b33-8172-4347-ab5a-69c8b9165635\">\n",
              "  <button class=\"colab-df-quickchart\" onclick=\"quickchart('df-c2d16b33-8172-4347-ab5a-69c8b9165635')\"\n",
              "            title=\"Suggest charts\"\n",
              "            style=\"display:none;\">\n",
              "\n",
              "<svg xmlns=\"http://www.w3.org/2000/svg\" height=\"24px\"viewBox=\"0 0 24 24\"\n",
              "     width=\"24px\">\n",
              "    <g>\n",
              "        <path d=\"M19 3H5c-1.1 0-2 .9-2 2v14c0 1.1.9 2 2 2h14c1.1 0 2-.9 2-2V5c0-1.1-.9-2-2-2zM9 17H7v-7h2v7zm4 0h-2V7h2v10zm4 0h-2v-4h2v4z\"/>\n",
              "    </g>\n",
              "</svg>\n",
              "  </button>\n",
              "\n",
              "<style>\n",
              "  .colab-df-quickchart {\n",
              "      --bg-color: #E8F0FE;\n",
              "      --fill-color: #1967D2;\n",
              "      --hover-bg-color: #E2EBFA;\n",
              "      --hover-fill-color: #174EA6;\n",
              "      --disabled-fill-color: #AAA;\n",
              "      --disabled-bg-color: #DDD;\n",
              "  }\n",
              "\n",
              "  [theme=dark] .colab-df-quickchart {\n",
              "      --bg-color: #3B4455;\n",
              "      --fill-color: #D2E3FC;\n",
              "      --hover-bg-color: #434B5C;\n",
              "      --hover-fill-color: #FFFFFF;\n",
              "      --disabled-bg-color: #3B4455;\n",
              "      --disabled-fill-color: #666;\n",
              "  }\n",
              "\n",
              "  .colab-df-quickchart {\n",
              "    background-color: var(--bg-color);\n",
              "    border: none;\n",
              "    border-radius: 50%;\n",
              "    cursor: pointer;\n",
              "    display: none;\n",
              "    fill: var(--fill-color);\n",
              "    height: 32px;\n",
              "    padding: 0;\n",
              "    width: 32px;\n",
              "  }\n",
              "\n",
              "  .colab-df-quickchart:hover {\n",
              "    background-color: var(--hover-bg-color);\n",
              "    box-shadow: 0 1px 2px rgba(60, 64, 67, 0.3), 0 1px 3px 1px rgba(60, 64, 67, 0.15);\n",
              "    fill: var(--button-hover-fill-color);\n",
              "  }\n",
              "\n",
              "  .colab-df-quickchart-complete:disabled,\n",
              "  .colab-df-quickchart-complete:disabled:hover {\n",
              "    background-color: var(--disabled-bg-color);\n",
              "    fill: var(--disabled-fill-color);\n",
              "    box-shadow: none;\n",
              "  }\n",
              "\n",
              "  .colab-df-spinner {\n",
              "    border: 2px solid var(--fill-color);\n",
              "    border-color: transparent;\n",
              "    border-bottom-color: var(--fill-color);\n",
              "    animation:\n",
              "      spin 1s steps(1) infinite;\n",
              "  }\n",
              "\n",
              "  @keyframes spin {\n",
              "    0% {\n",
              "      border-color: transparent;\n",
              "      border-bottom-color: var(--fill-color);\n",
              "      border-left-color: var(--fill-color);\n",
              "    }\n",
              "    20% {\n",
              "      border-color: transparent;\n",
              "      border-left-color: var(--fill-color);\n",
              "      border-top-color: var(--fill-color);\n",
              "    }\n",
              "    30% {\n",
              "      border-color: transparent;\n",
              "      border-left-color: var(--fill-color);\n",
              "      border-top-color: var(--fill-color);\n",
              "      border-right-color: var(--fill-color);\n",
              "    }\n",
              "    40% {\n",
              "      border-color: transparent;\n",
              "      border-right-color: var(--fill-color);\n",
              "      border-top-color: var(--fill-color);\n",
              "    }\n",
              "    60% {\n",
              "      border-color: transparent;\n",
              "      border-right-color: var(--fill-color);\n",
              "    }\n",
              "    80% {\n",
              "      border-color: transparent;\n",
              "      border-right-color: var(--fill-color);\n",
              "      border-bottom-color: var(--fill-color);\n",
              "    }\n",
              "    90% {\n",
              "      border-color: transparent;\n",
              "      border-bottom-color: var(--fill-color);\n",
              "    }\n",
              "  }\n",
              "</style>\n",
              "\n",
              "  <script>\n",
              "    async function quickchart(key) {\n",
              "      const quickchartButtonEl =\n",
              "        document.querySelector('#' + key + ' button');\n",
              "      quickchartButtonEl.disabled = true;  // To prevent multiple clicks.\n",
              "      quickchartButtonEl.classList.add('colab-df-spinner');\n",
              "      try {\n",
              "        const charts = await google.colab.kernel.invokeFunction(\n",
              "            'suggestCharts', [key], {});\n",
              "      } catch (error) {\n",
              "        console.error('Error during call to suggestCharts:', error);\n",
              "      }\n",
              "      quickchartButtonEl.classList.remove('colab-df-spinner');\n",
              "      quickchartButtonEl.classList.add('colab-df-quickchart-complete');\n",
              "    }\n",
              "    (() => {\n",
              "      let quickchartButtonEl =\n",
              "        document.querySelector('#df-c2d16b33-8172-4347-ab5a-69c8b9165635 button');\n",
              "      quickchartButtonEl.style.display =\n",
              "        google.colab.kernel.accessAllowed ? 'block' : 'none';\n",
              "    })();\n",
              "  </script>\n",
              "</div>\n",
              "\n",
              "  <div id=\"id_6dd3e132-4583-484e-aa3c-90c4a4916d8b\">\n",
              "    <style>\n",
              "      .colab-df-generate {\n",
              "        background-color: #E8F0FE;\n",
              "        border: none;\n",
              "        border-radius: 50%;\n",
              "        cursor: pointer;\n",
              "        display: none;\n",
              "        fill: #1967D2;\n",
              "        height: 32px;\n",
              "        padding: 0 0 0 0;\n",
              "        width: 32px;\n",
              "      }\n",
              "\n",
              "      .colab-df-generate:hover {\n",
              "        background-color: #E2EBFA;\n",
              "        box-shadow: 0px 1px 2px rgba(60, 64, 67, 0.3), 0px 1px 3px 1px rgba(60, 64, 67, 0.15);\n",
              "        fill: #174EA6;\n",
              "      }\n",
              "\n",
              "      [theme=dark] .colab-df-generate {\n",
              "        background-color: #3B4455;\n",
              "        fill: #D2E3FC;\n",
              "      }\n",
              "\n",
              "      [theme=dark] .colab-df-generate:hover {\n",
              "        background-color: #434B5C;\n",
              "        box-shadow: 0px 1px 3px 1px rgba(0, 0, 0, 0.15);\n",
              "        filter: drop-shadow(0px 1px 2px rgba(0, 0, 0, 0.3));\n",
              "        fill: #FFFFFF;\n",
              "      }\n",
              "    </style>\n",
              "    <button class=\"colab-df-generate\" onclick=\"generateWithVariable('Y_test_encoded')\"\n",
              "            title=\"Generate code using this dataframe.\"\n",
              "            style=\"display:none;\">\n",
              "\n",
              "  <svg xmlns=\"http://www.w3.org/2000/svg\" height=\"24px\"viewBox=\"0 0 24 24\"\n",
              "       width=\"24px\">\n",
              "    <path d=\"M7,19H8.4L18.45,9,17,7.55,7,17.6ZM5,21V16.75L18.45,3.32a2,2,0,0,1,2.83,0l1.4,1.43a1.91,1.91,0,0,1,.58,1.4,1.91,1.91,0,0,1-.58,1.4L9.25,21ZM18.45,9,17,7.55Zm-12,3A5.31,5.31,0,0,0,4.9,8.1,5.31,5.31,0,0,0,1,6.5,5.31,5.31,0,0,0,4.9,4.9,5.31,5.31,0,0,0,6.5,1,5.31,5.31,0,0,0,8.1,4.9,5.31,5.31,0,0,0,12,6.5,5.46,5.46,0,0,0,6.5,12Z\"/>\n",
              "  </svg>\n",
              "    </button>\n",
              "    <script>\n",
              "      (() => {\n",
              "      const buttonEl =\n",
              "        document.querySelector('#id_6dd3e132-4583-484e-aa3c-90c4a4916d8b button.colab-df-generate');\n",
              "      buttonEl.style.display =\n",
              "        google.colab.kernel.accessAllowed ? 'block' : 'none';\n",
              "\n",
              "      buttonEl.onclick = () => {\n",
              "        google.colab.notebook.generateWithVariable('Y_test_encoded');\n",
              "      }\n",
              "      })();\n",
              "    </script>\n",
              "  </div>\n",
              "\n",
              "    </div>\n",
              "  </div>\n"
            ],
            "application/vnd.google.colaboratory.intrinsic+json": {
              "type": "dataframe",
              "variable_name": "Y_test_encoded",
              "summary": "{\n  \"name\": \"Y_test_encoded\",\n  \"rows\": 408,\n  \"fields\": [\n    {\n      \"column\": 3,\n      \"properties\": {\n        \"dtype\": \"uint8\",\n        \"num_unique_values\": 2,\n        \"samples\": [\n          1,\n          0\n        ],\n        \"semantic_type\": \"\",\n        \"description\": \"\"\n      }\n    },\n    {\n      \"column\": 4,\n      \"properties\": {\n        \"dtype\": \"uint8\",\n        \"num_unique_values\": 2,\n        \"samples\": [\n          1,\n          0\n        ],\n        \"semantic_type\": \"\",\n        \"description\": \"\"\n      }\n    },\n    {\n      \"column\": 5,\n      \"properties\": {\n        \"dtype\": \"uint8\",\n        \"num_unique_values\": 2,\n        \"samples\": [\n          0,\n          1\n        ],\n        \"semantic_type\": \"\",\n        \"description\": \"\"\n      }\n    },\n    {\n      \"column\": 6,\n      \"properties\": {\n        \"dtype\": \"uint8\",\n        \"num_unique_values\": 2,\n        \"samples\": [\n          1,\n          0\n        ],\n        \"semantic_type\": \"\",\n        \"description\": \"\"\n      }\n    },\n    {\n      \"column\": 7,\n      \"properties\": {\n        \"dtype\": \"uint8\",\n        \"num_unique_values\": 2,\n        \"samples\": [\n          1,\n          0\n        ],\n        \"semantic_type\": \"\",\n        \"description\": \"\"\n      }\n    },\n    {\n      \"column\": 8,\n      \"properties\": {\n        \"dtype\": \"uint8\",\n        \"num_unique_values\": 2,\n        \"samples\": [\n          1,\n          0\n        ],\n        \"semantic_type\": \"\",\n        \"description\": \"\"\n      }\n    }\n  ]\n}"
            }
          },
          "metadata": {},
          "execution_count": 41
        }
      ],
      "source": [
        "Y_test_encoded"
      ]
    },
    {
      "cell_type": "markdown",
      "metadata": {
        "id": "AZTYl9-xKHg9"
      },
      "source": [
        ">## **3. Model Training & Evaluation using Neural Network**\n",
        "\n",
        "\n",
        "---\n",
        "\n",
        "\n",
        "\n",
        "\n",
        "\n",
        "\n"
      ]
    },
    {
      "cell_type": "markdown",
      "metadata": {
        "id": "4zpiA7M4Kl6c"
      },
      "source": [
        ">>### **A. Design a Neural Network to train a classifier.**\n",
        "\n",
        "\n",
        "---\n",
        "\n"
      ]
    },
    {
      "cell_type": "code",
      "execution_count": 42,
      "metadata": {
        "colab": {
          "base_uri": "https://localhost:8080/"
        },
        "id": "lLFWnQcq0bHC",
        "outputId": "9ecf7260-26ba-4bea-f9c6-1f4ab6bb52ba"
      },
      "outputs": [
        {
          "output_type": "stream",
          "name": "stdout",
          "text": [
            "Model: \"sequential_1\"\n",
            "_________________________________________________________________\n",
            " Layer (type)                Output Shape              Param #   \n",
            "=================================================================\n",
            " dense_4 (Dense)             (None, 10)                120       \n",
            "                                                                 \n",
            " dense_5 (Dense)             (None, 10)                110       \n",
            "                                                                 \n",
            " dense_6 (Dense)             (None, 10)                110       \n",
            "                                                                 \n",
            " dense_7 (Dense)             (None, 6)                 66        \n",
            "                                                                 \n",
            "=================================================================\n",
            "Total params: 406 (1.59 KB)\n",
            "Trainable params: 406 (1.59 KB)\n",
            "Non-trainable params: 0 (0.00 Byte)\n",
            "_________________________________________________________________\n"
          ]
        }
      ],
      "source": [
        "from keras.models import Sequential\n",
        "from keras.layers import Dense, Dropout\n",
        "\n",
        "# Define the number of input features\n",
        "input_dim = X_train.shape[1]\n",
        "\n",
        "# Initialize the model\n",
        "model = Sequential()\n",
        "\n",
        "# Add the input layer\n",
        "model.add(Dense(10, input_dim=input_dim, activation='relu'))\n",
        "\n",
        "# Add a hidden layer\n",
        "model.add(Dense(10, activation='relu'))\n",
        "\n",
        "# Add a hidden layer\n",
        "model.add(Dense(10, activation='relu'))\n",
        "\n",
        "# Add an output layer with softmax activation for classification\n",
        "num_classes = 6\n",
        "model.add(Dense(num_classes, activation='softmax'))\n",
        "\n",
        "# Compile the model\n",
        "model.compile(loss='categorical_crossentropy', optimizer='ADAM', metrics=['accuracy'])\n",
        "\n",
        "# Print the summary of the model\n",
        "model.summary()"
      ]
    },
    {
      "cell_type": "markdown",
      "source": [
        "**Input Layer:**The input layer consists of neurons equal to the number of features in the input data. It uses the ReLU (Rectified Linear Activation) activation function.\n",
        "\n",
        "**Hidden Layers:** There are two hidden layers, each containing 10 neurons. The ReLU activation function is used in both hidden layers.\n",
        "\n",
        "**Output Layer:** The output layer consists of neurons equal to the number of classes in the classification task, which is 6 in this case. It uses the softmax activation function, which is commonly used for multi-class classification tasks as it outputs probabilities for each class.\n",
        "\n",
        "**Loss Function:** Categorical cross-entropy is used as the loss function, suitable for multi-class classification tasks.\n",
        "\n",
        "**Optimizer:** The model is compiled using the ADAM optimizer, which is an efficient and popular optimization algorithm for training neural networks.\n",
        "\n",
        "**Metrics:** The model is configured to evaluate performance using accuracy as the metric."
      ],
      "metadata": {
        "id": "s3WAbbcPEfCT"
      }
    },
    {
      "cell_type": "markdown",
      "metadata": {
        "id": "jbnqivG_K2g9"
      },
      "source": [
        ">>### **B. Train the classifier using previously designed Architecture**\n",
        "\n",
        "\n",
        "---\n",
        "\n"
      ]
    },
    {
      "cell_type": "code",
      "execution_count": 43,
      "metadata": {
        "colab": {
          "base_uri": "https://localhost:8080/"
        },
        "id": "dd4ScbCf0wbj",
        "outputId": "18a40975-835d-4690-fb2d-61e88d66bc53"
      },
      "outputs": [
        {
          "output_type": "stream",
          "name": "stdout",
          "text": [
            "Epoch 1/100\n",
            "38/38 [==============================] - 1s 8ms/step - loss: 1.8036 - accuracy: 0.2776 - val_loss: 1.7432 - val_accuracy: 0.4241\n",
            "Epoch 2/100\n",
            "38/38 [==============================] - 0s 3ms/step - loss: 1.6741 - accuracy: 0.4263 - val_loss: 1.5720 - val_accuracy: 0.4241\n",
            "Epoch 3/100\n",
            "38/38 [==============================] - 0s 3ms/step - loss: 1.4815 - accuracy: 0.4263 - val_loss: 1.3527 - val_accuracy: 0.4241\n",
            "Epoch 4/100\n",
            "38/38 [==============================] - 0s 3ms/step - loss: 1.3159 - accuracy: 0.4263 - val_loss: 1.2421 - val_accuracy: 0.4241\n",
            "Epoch 5/100\n",
            "38/38 [==============================] - 0s 3ms/step - loss: 1.2598 - accuracy: 0.4263 - val_loss: 1.2150 - val_accuracy: 0.4241\n",
            "Epoch 6/100\n",
            "38/38 [==============================] - 0s 3ms/step - loss: 1.2412 - accuracy: 0.4263 - val_loss: 1.2044 - val_accuracy: 0.4241\n",
            "Epoch 7/100\n",
            "38/38 [==============================] - 0s 3ms/step - loss: 1.2304 - accuracy: 0.4263 - val_loss: 1.1987 - val_accuracy: 0.4241\n",
            "Epoch 8/100\n",
            "38/38 [==============================] - 0s 3ms/step - loss: 1.2234 - accuracy: 0.4263 - val_loss: 1.1943 - val_accuracy: 0.4241\n",
            "Epoch 9/100\n",
            "38/38 [==============================] - 0s 3ms/step - loss: 1.2181 - accuracy: 0.4263 - val_loss: 1.1918 - val_accuracy: 0.4241\n",
            "Epoch 10/100\n",
            "38/38 [==============================] - 0s 3ms/step - loss: 1.2136 - accuracy: 0.4263 - val_loss: 1.1879 - val_accuracy: 0.4241\n",
            "Epoch 11/100\n",
            "38/38 [==============================] - 0s 3ms/step - loss: 1.2082 - accuracy: 0.4263 - val_loss: 1.1854 - val_accuracy: 0.4241\n",
            "Epoch 12/100\n",
            "38/38 [==============================] - 0s 3ms/step - loss: 1.2026 - accuracy: 0.4263 - val_loss: 1.1808 - val_accuracy: 0.4241\n",
            "Epoch 13/100\n",
            "38/38 [==============================] - 0s 3ms/step - loss: 1.1976 - accuracy: 0.4342 - val_loss: 1.1755 - val_accuracy: 0.4241\n",
            "Epoch 14/100\n",
            "38/38 [==============================] - 0s 3ms/step - loss: 1.1910 - accuracy: 0.4276 - val_loss: 1.1703 - val_accuracy: 0.4241\n",
            "Epoch 15/100\n",
            "38/38 [==============================] - 0s 3ms/step - loss: 1.1832 - accuracy: 0.4474 - val_loss: 1.1627 - val_accuracy: 0.4188\n",
            "Epoch 16/100\n",
            "38/38 [==============================] - 0s 3ms/step - loss: 1.1748 - accuracy: 0.4539 - val_loss: 1.1559 - val_accuracy: 0.4555\n",
            "Epoch 17/100\n",
            "38/38 [==============================] - 0s 3ms/step - loss: 1.1670 - accuracy: 0.4816 - val_loss: 1.1474 - val_accuracy: 0.5079\n",
            "Epoch 18/100\n",
            "38/38 [==============================] - 0s 3ms/step - loss: 1.1579 - accuracy: 0.4737 - val_loss: 1.1387 - val_accuracy: 0.4764\n",
            "Epoch 19/100\n",
            "38/38 [==============================] - 0s 3ms/step - loss: 1.1480 - accuracy: 0.5079 - val_loss: 1.1319 - val_accuracy: 0.5131\n",
            "Epoch 20/100\n",
            "38/38 [==============================] - 0s 3ms/step - loss: 1.1376 - accuracy: 0.5158 - val_loss: 1.1213 - val_accuracy: 0.5602\n",
            "Epoch 21/100\n",
            "38/38 [==============================] - 0s 3ms/step - loss: 1.1279 - accuracy: 0.5211 - val_loss: 1.1141 - val_accuracy: 0.5445\n",
            "Epoch 22/100\n",
            "38/38 [==============================] - 0s 3ms/step - loss: 1.1203 - accuracy: 0.5276 - val_loss: 1.1038 - val_accuracy: 0.5654\n",
            "Epoch 23/100\n",
            "38/38 [==============================] - 0s 3ms/step - loss: 1.1114 - accuracy: 0.5237 - val_loss: 1.0997 - val_accuracy: 0.5602\n",
            "Epoch 24/100\n",
            "38/38 [==============================] - 0s 3ms/step - loss: 1.1027 - accuracy: 0.5395 - val_loss: 1.0913 - val_accuracy: 0.5602\n",
            "Epoch 25/100\n",
            "38/38 [==============================] - 0s 3ms/step - loss: 1.0965 - accuracy: 0.5487 - val_loss: 1.0903 - val_accuracy: 0.5654\n",
            "Epoch 26/100\n",
            "38/38 [==============================] - 0s 3ms/step - loss: 1.0888 - accuracy: 0.5474 - val_loss: 1.0801 - val_accuracy: 0.5602\n",
            "Epoch 27/100\n",
            "38/38 [==============================] - 0s 3ms/step - loss: 1.0828 - accuracy: 0.5461 - val_loss: 1.0747 - val_accuracy: 0.5707\n",
            "Epoch 28/100\n",
            "38/38 [==============================] - 0s 3ms/step - loss: 1.0775 - accuracy: 0.5461 - val_loss: 1.0723 - val_accuracy: 0.5550\n",
            "Epoch 29/100\n",
            "38/38 [==============================] - 0s 3ms/step - loss: 1.0718 - accuracy: 0.5592 - val_loss: 1.0758 - val_accuracy: 0.5602\n",
            "Epoch 30/100\n",
            "38/38 [==============================] - 0s 3ms/step - loss: 1.0684 - accuracy: 0.5566 - val_loss: 1.0673 - val_accuracy: 0.5602\n",
            "Epoch 31/100\n",
            "38/38 [==============================] - 0s 3ms/step - loss: 1.0642 - accuracy: 0.5566 - val_loss: 1.0607 - val_accuracy: 0.5759\n",
            "Epoch 32/100\n",
            "38/38 [==============================] - 0s 3ms/step - loss: 1.0568 - accuracy: 0.5618 - val_loss: 1.0582 - val_accuracy: 0.5759\n",
            "Epoch 33/100\n",
            "38/38 [==============================] - 0s 3ms/step - loss: 1.0491 - accuracy: 0.5579 - val_loss: 1.0518 - val_accuracy: 0.5759\n",
            "Epoch 34/100\n",
            "38/38 [==============================] - 0s 3ms/step - loss: 1.0435 - accuracy: 0.5592 - val_loss: 1.0495 - val_accuracy: 0.5759\n",
            "Epoch 35/100\n",
            "38/38 [==============================] - 0s 3ms/step - loss: 1.0398 - accuracy: 0.5592 - val_loss: 1.0435 - val_accuracy: 0.5812\n",
            "Epoch 36/100\n",
            "38/38 [==============================] - 0s 3ms/step - loss: 1.0337 - accuracy: 0.5618 - val_loss: 1.0431 - val_accuracy: 0.5864\n",
            "Epoch 37/100\n",
            "38/38 [==============================] - 0s 3ms/step - loss: 1.0332 - accuracy: 0.5645 - val_loss: 1.0375 - val_accuracy: 0.5864\n",
            "Epoch 38/100\n",
            "38/38 [==============================] - 0s 3ms/step - loss: 1.0273 - accuracy: 0.5671 - val_loss: 1.0354 - val_accuracy: 0.5864\n",
            "Epoch 39/100\n",
            "38/38 [==============================] - 0s 3ms/step - loss: 1.0227 - accuracy: 0.5684 - val_loss: 1.0365 - val_accuracy: 0.5916\n",
            "Epoch 40/100\n",
            "38/38 [==============================] - 0s 3ms/step - loss: 1.0206 - accuracy: 0.5684 - val_loss: 1.0333 - val_accuracy: 0.5916\n",
            "Epoch 41/100\n",
            "38/38 [==============================] - 0s 3ms/step - loss: 1.0198 - accuracy: 0.5671 - val_loss: 1.0297 - val_accuracy: 0.5916\n",
            "Epoch 42/100\n",
            "38/38 [==============================] - 0s 3ms/step - loss: 1.0144 - accuracy: 0.5658 - val_loss: 1.0311 - val_accuracy: 0.5916\n",
            "Epoch 43/100\n",
            "38/38 [==============================] - 0s 4ms/step - loss: 1.0137 - accuracy: 0.5711 - val_loss: 1.0282 - val_accuracy: 0.5864\n",
            "Epoch 44/100\n",
            "38/38 [==============================] - 0s 4ms/step - loss: 1.0108 - accuracy: 0.5697 - val_loss: 1.0282 - val_accuracy: 0.5864\n",
            "Epoch 45/100\n",
            "38/38 [==============================] - 0s 4ms/step - loss: 1.0099 - accuracy: 0.5697 - val_loss: 1.0263 - val_accuracy: 0.5864\n",
            "Epoch 46/100\n",
            "38/38 [==============================] - 0s 4ms/step - loss: 1.0076 - accuracy: 0.5645 - val_loss: 1.0268 - val_accuracy: 0.5864\n",
            "Epoch 47/100\n",
            "38/38 [==============================] - 0s 4ms/step - loss: 1.0094 - accuracy: 0.5658 - val_loss: 1.0243 - val_accuracy: 0.6021\n",
            "Epoch 48/100\n",
            "38/38 [==============================] - 0s 4ms/step - loss: 1.0037 - accuracy: 0.5684 - val_loss: 1.0232 - val_accuracy: 0.6073\n",
            "Epoch 49/100\n",
            "38/38 [==============================] - 0s 4ms/step - loss: 1.0041 - accuracy: 0.5697 - val_loss: 1.0222 - val_accuracy: 0.6073\n",
            "Epoch 50/100\n",
            "38/38 [==============================] - 0s 4ms/step - loss: 1.0000 - accuracy: 0.5658 - val_loss: 1.0244 - val_accuracy: 0.6073\n",
            "Epoch 51/100\n",
            "38/38 [==============================] - 0s 5ms/step - loss: 0.9979 - accuracy: 0.5750 - val_loss: 1.0226 - val_accuracy: 0.6021\n",
            "Epoch 52/100\n",
            "38/38 [==============================] - 0s 4ms/step - loss: 0.9978 - accuracy: 0.5671 - val_loss: 1.0200 - val_accuracy: 0.6178\n",
            "Epoch 53/100\n",
            "38/38 [==============================] - 0s 5ms/step - loss: 0.9943 - accuracy: 0.5658 - val_loss: 1.0330 - val_accuracy: 0.5969\n",
            "Epoch 54/100\n",
            "38/38 [==============================] - 0s 4ms/step - loss: 0.9929 - accuracy: 0.5724 - val_loss: 1.0210 - val_accuracy: 0.5916\n",
            "Epoch 55/100\n",
            "38/38 [==============================] - 0s 4ms/step - loss: 0.9934 - accuracy: 0.5671 - val_loss: 1.0200 - val_accuracy: 0.6126\n",
            "Epoch 56/100\n",
            "38/38 [==============================] - 0s 4ms/step - loss: 0.9917 - accuracy: 0.5671 - val_loss: 1.0217 - val_accuracy: 0.6178\n",
            "Epoch 57/100\n",
            "38/38 [==============================] - 0s 4ms/step - loss: 0.9878 - accuracy: 0.5697 - val_loss: 1.0182 - val_accuracy: 0.6021\n",
            "Epoch 58/100\n",
            "38/38 [==============================] - 0s 5ms/step - loss: 0.9897 - accuracy: 0.5632 - val_loss: 1.0196 - val_accuracy: 0.6230\n",
            "Epoch 59/100\n",
            "38/38 [==============================] - 0s 4ms/step - loss: 0.9883 - accuracy: 0.5632 - val_loss: 1.0177 - val_accuracy: 0.6178\n",
            "Epoch 60/100\n",
            "38/38 [==============================] - 0s 6ms/step - loss: 0.9872 - accuracy: 0.5618 - val_loss: 1.0168 - val_accuracy: 0.6178\n",
            "Epoch 61/100\n",
            "38/38 [==============================] - 0s 6ms/step - loss: 0.9883 - accuracy: 0.5789 - val_loss: 1.0209 - val_accuracy: 0.6230\n",
            "Epoch 62/100\n",
            "38/38 [==============================] - 0s 4ms/step - loss: 0.9862 - accuracy: 0.5658 - val_loss: 1.0221 - val_accuracy: 0.6178\n",
            "Epoch 63/100\n",
            "38/38 [==============================] - 0s 5ms/step - loss: 0.9851 - accuracy: 0.5750 - val_loss: 1.0159 - val_accuracy: 0.6230\n",
            "Epoch 64/100\n",
            "38/38 [==============================] - 0s 6ms/step - loss: 0.9830 - accuracy: 0.5618 - val_loss: 1.0183 - val_accuracy: 0.6230\n",
            "Epoch 65/100\n",
            "38/38 [==============================] - 0s 3ms/step - loss: 0.9813 - accuracy: 0.5592 - val_loss: 1.0160 - val_accuracy: 0.6178\n",
            "Epoch 66/100\n",
            "38/38 [==============================] - 0s 3ms/step - loss: 0.9804 - accuracy: 0.5645 - val_loss: 1.0141 - val_accuracy: 0.6021\n",
            "Epoch 67/100\n",
            "38/38 [==============================] - 0s 3ms/step - loss: 0.9793 - accuracy: 0.5737 - val_loss: 1.0138 - val_accuracy: 0.6230\n",
            "Epoch 68/100\n",
            "38/38 [==============================] - 0s 3ms/step - loss: 0.9785 - accuracy: 0.5711 - val_loss: 1.0151 - val_accuracy: 0.6230\n",
            "Epoch 69/100\n",
            "38/38 [==============================] - 0s 3ms/step - loss: 0.9776 - accuracy: 0.5684 - val_loss: 1.0142 - val_accuracy: 0.6230\n",
            "Epoch 70/100\n",
            "38/38 [==============================] - 0s 3ms/step - loss: 0.9762 - accuracy: 0.5671 - val_loss: 1.0131 - val_accuracy: 0.6230\n",
            "Epoch 71/100\n",
            "38/38 [==============================] - 0s 3ms/step - loss: 0.9766 - accuracy: 0.5724 - val_loss: 1.0184 - val_accuracy: 0.6283\n",
            "Epoch 72/100\n",
            "38/38 [==============================] - 0s 3ms/step - loss: 0.9735 - accuracy: 0.5803 - val_loss: 1.0114 - val_accuracy: 0.6178\n",
            "Epoch 73/100\n",
            "38/38 [==============================] - 0s 3ms/step - loss: 0.9721 - accuracy: 0.5789 - val_loss: 1.0182 - val_accuracy: 0.6283\n",
            "Epoch 74/100\n",
            "38/38 [==============================] - 0s 3ms/step - loss: 0.9752 - accuracy: 0.5605 - val_loss: 1.0132 - val_accuracy: 0.6335\n",
            "Epoch 75/100\n",
            "38/38 [==============================] - 0s 3ms/step - loss: 0.9735 - accuracy: 0.5750 - val_loss: 1.0117 - val_accuracy: 0.6021\n",
            "Epoch 76/100\n",
            "38/38 [==============================] - 0s 3ms/step - loss: 0.9726 - accuracy: 0.5618 - val_loss: 1.0107 - val_accuracy: 0.6283\n",
            "Epoch 77/100\n",
            "38/38 [==============================] - 0s 3ms/step - loss: 0.9704 - accuracy: 0.5645 - val_loss: 1.0112 - val_accuracy: 0.6073\n",
            "Epoch 78/100\n",
            "38/38 [==============================] - 0s 3ms/step - loss: 0.9728 - accuracy: 0.5855 - val_loss: 1.0129 - val_accuracy: 0.6283\n",
            "Epoch 79/100\n",
            "38/38 [==============================] - 0s 3ms/step - loss: 0.9687 - accuracy: 0.5816 - val_loss: 1.0192 - val_accuracy: 0.6126\n",
            "Epoch 80/100\n",
            "38/38 [==============================] - 0s 3ms/step - loss: 0.9700 - accuracy: 0.5724 - val_loss: 1.0117 - val_accuracy: 0.6073\n",
            "Epoch 81/100\n",
            "38/38 [==============================] - 0s 3ms/step - loss: 0.9686 - accuracy: 0.5750 - val_loss: 1.0150 - val_accuracy: 0.6178\n",
            "Epoch 82/100\n",
            "38/38 [==============================] - 0s 3ms/step - loss: 0.9730 - accuracy: 0.5711 - val_loss: 1.0114 - val_accuracy: 0.6283\n",
            "Epoch 83/100\n",
            "38/38 [==============================] - 0s 3ms/step - loss: 0.9670 - accuracy: 0.5724 - val_loss: 1.0142 - val_accuracy: 0.6178\n",
            "Epoch 84/100\n",
            "38/38 [==============================] - 0s 3ms/step - loss: 0.9672 - accuracy: 0.5671 - val_loss: 1.0092 - val_accuracy: 0.6126\n",
            "Epoch 85/100\n",
            "38/38 [==============================] - 0s 3ms/step - loss: 0.9659 - accuracy: 0.5789 - val_loss: 1.0076 - val_accuracy: 0.6126\n",
            "Epoch 86/100\n",
            "38/38 [==============================] - 0s 3ms/step - loss: 0.9669 - accuracy: 0.5671 - val_loss: 1.0067 - val_accuracy: 0.6178\n",
            "Epoch 87/100\n",
            "38/38 [==============================] - 0s 3ms/step - loss: 0.9633 - accuracy: 0.5711 - val_loss: 1.0072 - val_accuracy: 0.6387\n",
            "Epoch 88/100\n",
            "38/38 [==============================] - 0s 3ms/step - loss: 0.9612 - accuracy: 0.5750 - val_loss: 1.0059 - val_accuracy: 0.6126\n",
            "Epoch 89/100\n",
            "38/38 [==============================] - 0s 3ms/step - loss: 0.9600 - accuracy: 0.5776 - val_loss: 1.0071 - val_accuracy: 0.6335\n",
            "Epoch 90/100\n",
            "38/38 [==============================] - 0s 3ms/step - loss: 0.9602 - accuracy: 0.5803 - val_loss: 1.0055 - val_accuracy: 0.6440\n",
            "Epoch 91/100\n",
            "38/38 [==============================] - 0s 3ms/step - loss: 0.9606 - accuracy: 0.5816 - val_loss: 1.0096 - val_accuracy: 0.6283\n",
            "Epoch 92/100\n",
            "38/38 [==============================] - 0s 3ms/step - loss: 0.9614 - accuracy: 0.5750 - val_loss: 1.0120 - val_accuracy: 0.6230\n",
            "Epoch 93/100\n",
            "38/38 [==============================] - 0s 3ms/step - loss: 0.9570 - accuracy: 0.5711 - val_loss: 1.0049 - val_accuracy: 0.6178\n",
            "Epoch 94/100\n",
            "38/38 [==============================] - 0s 3ms/step - loss: 0.9585 - accuracy: 0.5882 - val_loss: 1.0081 - val_accuracy: 0.6335\n",
            "Epoch 95/100\n",
            "38/38 [==============================] - 0s 3ms/step - loss: 0.9565 - accuracy: 0.5763 - val_loss: 1.0044 - val_accuracy: 0.6126\n",
            "Epoch 96/100\n",
            "38/38 [==============================] - 0s 3ms/step - loss: 0.9562 - accuracy: 0.5842 - val_loss: 1.0084 - val_accuracy: 0.6387\n",
            "Epoch 97/100\n",
            "38/38 [==============================] - 0s 3ms/step - loss: 0.9549 - accuracy: 0.5684 - val_loss: 1.0041 - val_accuracy: 0.6230\n",
            "Epoch 98/100\n",
            "38/38 [==============================] - 0s 3ms/step - loss: 0.9551 - accuracy: 0.5855 - val_loss: 1.0037 - val_accuracy: 0.6545\n",
            "Epoch 99/100\n",
            "38/38 [==============================] - 0s 3ms/step - loss: 0.9550 - accuracy: 0.5816 - val_loss: 1.0046 - val_accuracy: 0.6440\n",
            "Epoch 100/100\n",
            "38/38 [==============================] - 0s 3ms/step - loss: 0.9539 - accuracy: 0.5789 - val_loss: 1.0040 - val_accuracy: 0.6440\n"
          ]
        }
      ],
      "source": [
        "# Train the classifier using the previously designed architecture\n",
        "history = model.fit(X_train_normalized, Y_train_encoded, epochs=100, batch_size=20, validation_split=0.2)"
      ]
    },
    {
      "cell_type": "markdown",
      "source": [
        "* The training accuracy reaches around 57.89%, while the validation accuracy reaches around 62.30%.\n",
        "* The convergence speed seems relatively good as both training and validation losses decrease steadily over epochs.\n",
        "* The final performance of the model on the validation data is around 62.30% accuracy.\n",
        "* The model appears to be stable as there are no significant fluctuations in loss or accuracy over epochs.\n",
        "* Both training and validation accuracies converge to similar values, indicating that the model is not overfitting to the training data.\n",
        "* While the model achieves a reasonable accuracy, there might still be room for improvement.\n",
        "* Experimentation with different architectures, hyperparameters, and optimization techniques could potentially lead to better performance."
      ],
      "metadata": {
        "id": "PyZSwmsXFnIP"
      }
    },
    {
      "cell_type": "markdown",
      "metadata": {
        "id": "5G1PfGEsK-v7"
      },
      "source": [
        ">>### **C. Plot 2 separate visuals**.\n",
        "\n",
        "\n",
        "---\n",
        "\n"
      ]
    },
    {
      "cell_type": "markdown",
      "metadata": {
        "id": "gNQb9iwULGtO"
      },
      "source": [
        ">>>#### **i. Training Loss and Validation Loss**\n",
        "\n",
        "\n",
        "---\n",
        "\n"
      ]
    },
    {
      "cell_type": "code",
      "execution_count": 44,
      "metadata": {
        "colab": {
          "base_uri": "https://localhost:8080/",
          "height": 487
        },
        "id": "SLE-RZDm1Vn0",
        "outputId": "014e05e4-92f9-4ac9-992a-75e9b9f17c58"
      },
      "outputs": [
        {
          "output_type": "display_data",
          "data": {
            "text/plain": [
              "<Figure size 1000x500 with 1 Axes>"
            ],
            "image/png": "[encoded data removed]"
          },
          "metadata": {}
        }
      ],
      "source": [
        "import matplotlib.pyplot as plt\n",
        "\n",
        "# Plot Training Loss and Validation Loss\n",
        "plt.figure(figsize=(10, 5))\n",
        "plt.plot(history.history['loss'], label='Training Loss')\n",
        "plt.plot(history.history['val_loss'], label='Validation Loss')\n",
        "plt.title('Training and Validation Loss')\n",
        "plt.xlabel('Epochs')\n",
        "plt.ylabel('Loss')\n",
        "plt.legend()\n",
        "plt.grid(True)\n",
        "plt.show()"
      ]
    },
    {
      "cell_type": "markdown",
      "source": [
        "* The graph shows steady decrease in both the training and validation loss with less fluctuations indicating a stable model.\n",
        "* The graph for both training and validation data are similar suggesting no overfitting.\n",
        "* The loss function flattens after approximately 40 epochs suggesting decent convergence time."
      ],
      "metadata": {
        "id": "0tuTdWIvGt51"
      }
    },
    {
      "cell_type": "markdown",
      "metadata": {
        "id": "UG0vXUefLNuN"
      },
      "source": [
        ">>>#### **ii. Training Accuracy and Validation Accuracy**\n",
        "\n",
        "\n",
        "---\n",
        "\n"
      ]
    },
    {
      "cell_type": "code",
      "execution_count": 45,
      "metadata": {
        "colab": {
          "base_uri": "https://localhost:8080/",
          "height": 487
        },
        "id": "dF0fUn0v1YEj",
        "outputId": "7dd21cd4-5dc8-4a34-fb53-01328fd7cb14"
      },
      "outputs": [
        {
          "output_type": "display_data",
          "data": {
            "text/plain": [
              "<Figure size 1000x500 with 1 Axes>"
            ],
            "image/png": "[encoded data removed]"
          },
          "metadata": {}
        }
      ],
      "source": [
        "# Plot Training Accuracy and Validation Accuracy\n",
        "plt.figure(figsize=(10, 5))\n",
        "plt.plot(history.history['accuracy'], label='Training Accuracy')\n",
        "plt.plot(history.history['val_accuracy'], label='Validation Accuracy')\n",
        "plt.title('Training and Validation Accuracy')\n",
        "plt.xlabel('Epochs')\n",
        "plt.ylabel('Accuracy')\n",
        "plt.legend()\n",
        "plt.grid(True)\n",
        "plt.show()"
      ]
    },
    {
      "cell_type": "markdown",
      "source": [
        "* The graph shows little fluctuation indicating a stable model.\n",
        "* The accuracy for both training and validation data are similar suggesting no overfitting.\n",
        "* The accuracy for training data becomes constant at approximately 55 to 60% while that of the validation set becomes constant at approximately 60 t0 65%."
      ],
      "metadata": {
        "id": "m6uXDKM0HTXL"
      }
    },
    {
      "cell_type": "markdown",
      "metadata": {
        "id": "HAhm8BeVLVlW"
      },
      "source": [
        ">>### **D. Design new architecture/update existing architecture in attempt to improve the performance of the model.**\n",
        "\n",
        "\n",
        "---\n",
        "\n"
      ]
    },
    {
      "cell_type": "code",
      "execution_count": 46,
      "metadata": {
        "colab": {
          "base_uri": "https://localhost:8080/"
        },
        "id": "yMpPhCs0jhme",
        "outputId": "f80aebf6-1dee-473f-bc63-b30759ac544e"
      },
      "outputs": [
        {
          "output_type": "stream",
          "name": "stdout",
          "text": [
            "Model: \"sequential_2\"\n",
            "_________________________________________________________________\n",
            " Layer (type)                Output Shape              Param #   \n",
            "=================================================================\n",
            " dense_8 (Dense)             (None, 64)                768       \n",
            "                                                                 \n",
            " dense_9 (Dense)             (None, 64)                4160      \n",
            "                                                                 \n",
            " batch_normalization (Batch  (None, 64)                256       \n",
            " Normalization)                                                  \n",
            "                                                                 \n",
            " dense_10 (Dense)            (None, 64)                4160      \n",
            "                                                                 \n",
            " batch_normalization_1 (Bat  (None, 64)                256       \n",
            " chNormalization)                                                \n",
            "                                                                 \n",
            " dense_11 (Dense)            (None, 64)                4160      \n",
            "                                                                 \n",
            " batch_normalization_2 (Bat  (None, 64)                256       \n",
            " chNormalization)                                                \n",
            "                                                                 \n",
            " dense_12 (Dense)            (None, 6)                 390       \n",
            "                                                                 \n",
            "=================================================================\n",
            "Total params: 14406 (56.27 KB)\n",
            "Trainable params: 14022 (54.77 KB)\n",
            "Non-trainable params: 384 (1.50 KB)\n",
            "_________________________________________________________________\n"
          ]
        }
      ],
      "source": [
        "from keras.models import Sequential\n",
        "from keras.layers import Dense, Dropout, BatchNormalization\n",
        "from keras.optimizers import SGD, Adam, RMSprop\n",
        "\n",
        "# Define the number of input features\n",
        "input_dim = X_train.shape[1]\n",
        "\n",
        "# Initialize the model\n",
        "model = Sequential()\n",
        "\n",
        "# Add the input layer\n",
        "model.add(Dense(64, input_dim=input_dim, kernel_initializer='he_uniform', activation='relu'))\n",
        "\n",
        "# Add a hidden layer\n",
        "model.add(Dense(64, activation='relu', kernel_initializer='he_uniform'))\n",
        "model.add(BatchNormalization())\n",
        "\n",
        "# Add a hidden layer\n",
        "model.add(Dense(64, activation='relu', kernel_initializer='he_uniform'))\n",
        "model.add(BatchNormalization())\n",
        "\n",
        "# Add a hidden layer\n",
        "model.add(Dense(64, activation='relu', kernel_initializer='he_uniform'))\n",
        "model.add(BatchNormalization())\n",
        "\n",
        "# Add an output layer with softmax activation for classification\n",
        "num_classes = 6\n",
        "model.add(Dense(num_classes, activation='softmax'))\n",
        "\n",
        "optimizer = Adam(learning_rate=0.01)\n",
        "# Compile the model\n",
        "model.compile(loss='categorical_crossentropy', optimizer=optimizer, metrics=['accuracy'])\n",
        "\n",
        "# Print the summary of the model\n",
        "model.summary()"
      ]
    },
    {
      "cell_type": "markdown",
      "source": [
        "* The updated neural network architecture features four hidden layers with 64 neurons each, using ReLU activation and He uniform weight initialization.\n",
        "\n",
        "* Batch normalization is applied after each hidden layer to stabilize training and accelerate convergence.\n",
        "\n",
        "* The model is optimized with the Adam optimizer using a learning rate of 0.01."
      ],
      "metadata": {
        "id": "6cCpZd51Iq_T"
      }
    },
    {
      "cell_type": "markdown",
      "metadata": {
        "id": "kTAI-mA_LdUO"
      },
      "source": [
        ">>### **E. Plot visuals as in Q3.C and share insights about difference observed in both the models.**\n",
        "\n",
        "\n",
        "---\n",
        "\n"
      ]
    },
    {
      "cell_type": "code",
      "execution_count": 47,
      "metadata": {
        "colab": {
          "base_uri": "https://localhost:8080/"
        },
        "id": "1A4PTvlF3Wwm",
        "outputId": "a537e68e-2bdb-4e8f-d8ae-1367728f6e0a"
      },
      "outputs": [
        {
          "output_type": "stream",
          "name": "stdout",
          "text": [
            "Epoch 1/100\n",
            "14/14 [==============================] - 2s 24ms/step - loss: 1.5774 - accuracy: 0.4620 - val_loss: 1.5062 - val_accuracy: 0.4896\n",
            "Epoch 2/100\n",
            "14/14 [==============================] - 0s 5ms/step - loss: 1.1185 - accuracy: 0.5684 - val_loss: 1.1528 - val_accuracy: 0.5625\n",
            "Epoch 3/100\n",
            "14/14 [==============================] - 0s 7ms/step - loss: 0.9631 - accuracy: 0.5953 - val_loss: 1.1699 - val_accuracy: 0.5521\n",
            "Epoch 4/100\n",
            "14/14 [==============================] - 0s 6ms/step - loss: 0.9244 - accuracy: 0.6070 - val_loss: 1.1591 - val_accuracy: 0.5625\n",
            "Epoch 5/100\n",
            "14/14 [==============================] - 0s 5ms/step - loss: 0.8873 - accuracy: 0.6292 - val_loss: 1.1528 - val_accuracy: 0.4688\n",
            "Epoch 6/100\n",
            "14/14 [==============================] - 0s 5ms/step - loss: 0.8920 - accuracy: 0.6175 - val_loss: 1.2045 - val_accuracy: 0.4479\n",
            "Epoch 7/100\n",
            "14/14 [==============================] - 0s 5ms/step - loss: 0.9003 - accuracy: 0.6339 - val_loss: 1.2259 - val_accuracy: 0.4792\n",
            "Epoch 8/100\n",
            "14/14 [==============================] - 0s 6ms/step - loss: 0.8473 - accuracy: 0.6292 - val_loss: 1.1758 - val_accuracy: 0.4896\n",
            "Epoch 9/100\n",
            "14/14 [==============================] - 0s 6ms/step - loss: 0.8591 - accuracy: 0.6129 - val_loss: 1.1276 - val_accuracy: 0.5938\n",
            "Epoch 10/100\n",
            "14/14 [==============================] - 0s 5ms/step - loss: 0.8510 - accuracy: 0.6211 - val_loss: 1.4172 - val_accuracy: 0.4896\n",
            "Epoch 11/100\n",
            "14/14 [==============================] - 0s 6ms/step - loss: 0.8693 - accuracy: 0.6140 - val_loss: 1.1626 - val_accuracy: 0.6042\n",
            "Epoch 12/100\n",
            "14/14 [==============================] - 0s 5ms/step - loss: 0.8201 - accuracy: 0.6538 - val_loss: 1.2198 - val_accuracy: 0.4583\n",
            "Epoch 13/100\n",
            "14/14 [==============================] - 0s 5ms/step - loss: 0.7882 - accuracy: 0.6526 - val_loss: 1.2455 - val_accuracy: 0.5104\n",
            "Epoch 14/100\n",
            "14/14 [==============================] - 0s 5ms/step - loss: 0.7822 - accuracy: 0.6550 - val_loss: 1.1519 - val_accuracy: 0.5625\n",
            "Epoch 15/100\n",
            "14/14 [==============================] - 0s 7ms/step - loss: 0.7708 - accuracy: 0.6480 - val_loss: 1.2487 - val_accuracy: 0.5312\n",
            "Epoch 16/100\n",
            "14/14 [==============================] - 0s 5ms/step - loss: 0.7421 - accuracy: 0.6725 - val_loss: 1.1513 - val_accuracy: 0.6042\n",
            "Epoch 17/100\n",
            "14/14 [==============================] - 0s 5ms/step - loss: 0.7551 - accuracy: 0.6678 - val_loss: 1.2055 - val_accuracy: 0.5833\n",
            "Epoch 18/100\n",
            "14/14 [==============================] - 0s 6ms/step - loss: 0.7571 - accuracy: 0.6538 - val_loss: 1.1860 - val_accuracy: 0.6042\n",
            "Epoch 19/100\n",
            "14/14 [==============================] - 0s 5ms/step - loss: 0.7030 - accuracy: 0.6994 - val_loss: 1.1902 - val_accuracy: 0.5417\n",
            "Epoch 20/100\n",
            "14/14 [==============================] - 0s 6ms/step - loss: 0.7175 - accuracy: 0.6889 - val_loss: 1.2862 - val_accuracy: 0.5000\n",
            "Epoch 21/100\n",
            "14/14 [==============================] - 0s 5ms/step - loss: 0.7216 - accuracy: 0.6877 - val_loss: 1.2305 - val_accuracy: 0.6146\n",
            "Epoch 22/100\n",
            "14/14 [==============================] - 0s 5ms/step - loss: 0.7136 - accuracy: 0.6784 - val_loss: 1.1067 - val_accuracy: 0.5938\n",
            "Epoch 23/100\n",
            "14/14 [==============================] - 0s 5ms/step - loss: 0.7243 - accuracy: 0.6795 - val_loss: 1.5854 - val_accuracy: 0.4896\n",
            "Epoch 24/100\n",
            "14/14 [==============================] - 0s 5ms/step - loss: 0.6776 - accuracy: 0.7006 - val_loss: 1.4637 - val_accuracy: 0.5833\n",
            "Epoch 25/100\n",
            "14/14 [==============================] - 0s 5ms/step - loss: 0.6431 - accuracy: 0.7322 - val_loss: 1.4821 - val_accuracy: 0.5312\n",
            "Epoch 26/100\n",
            "14/14 [==============================] - 0s 5ms/step - loss: 0.6811 - accuracy: 0.7006 - val_loss: 1.3334 - val_accuracy: 0.5521\n",
            "Epoch 27/100\n",
            "14/14 [==============================] - 0s 5ms/step - loss: 0.6418 - accuracy: 0.7053 - val_loss: 1.4446 - val_accuracy: 0.5521\n",
            "Epoch 28/100\n",
            "14/14 [==============================] - 0s 6ms/step - loss: 0.6124 - accuracy: 0.7333 - val_loss: 1.4893 - val_accuracy: 0.5521\n",
            "Epoch 29/100\n",
            "14/14 [==============================] - 0s 6ms/step - loss: 0.6239 - accuracy: 0.7322 - val_loss: 1.3999 - val_accuracy: 0.5417\n",
            "Epoch 30/100\n",
            "14/14 [==============================] - 0s 6ms/step - loss: 0.6101 - accuracy: 0.7263 - val_loss: 1.5583 - val_accuracy: 0.5625\n",
            "Epoch 31/100\n",
            "14/14 [==============================] - 0s 5ms/step - loss: 0.6424 - accuracy: 0.7263 - val_loss: 1.5943 - val_accuracy: 0.5312\n",
            "Epoch 32/100\n",
            "14/14 [==============================] - 0s 6ms/step - loss: 0.5929 - accuracy: 0.7368 - val_loss: 1.4984 - val_accuracy: 0.4792\n",
            "Epoch 33/100\n",
            "14/14 [==============================] - 0s 5ms/step - loss: 0.6292 - accuracy: 0.7216 - val_loss: 2.4463 - val_accuracy: 0.4375\n",
            "Epoch 34/100\n",
            "14/14 [==============================] - 0s 6ms/step - loss: 0.6160 - accuracy: 0.7345 - val_loss: 1.6052 - val_accuracy: 0.5417\n",
            "Epoch 35/100\n",
            "14/14 [==============================] - 0s 5ms/step - loss: 0.5962 - accuracy: 0.7497 - val_loss: 1.6230 - val_accuracy: 0.5104\n",
            "Epoch 36/100\n",
            "14/14 [==============================] - 0s 6ms/step - loss: 0.6029 - accuracy: 0.7322 - val_loss: 1.6378 - val_accuracy: 0.5208\n",
            "Epoch 37/100\n",
            "14/14 [==============================] - 0s 6ms/step - loss: 0.5677 - accuracy: 0.7567 - val_loss: 1.4455 - val_accuracy: 0.5208\n",
            "Epoch 38/100\n",
            "14/14 [==============================] - 0s 5ms/step - loss: 0.5312 - accuracy: 0.7766 - val_loss: 1.4928 - val_accuracy: 0.5729\n",
            "Epoch 39/100\n",
            "14/14 [==============================] - 0s 5ms/step - loss: 0.5258 - accuracy: 0.7684 - val_loss: 1.6657 - val_accuracy: 0.5104\n",
            "Epoch 40/100\n",
            "14/14 [==============================] - 0s 5ms/step - loss: 0.5404 - accuracy: 0.7825 - val_loss: 2.1348 - val_accuracy: 0.5000\n",
            "Epoch 41/100\n",
            "14/14 [==============================] - 0s 6ms/step - loss: 0.5499 - accuracy: 0.7591 - val_loss: 1.7280 - val_accuracy: 0.6042\n",
            "Epoch 42/100\n",
            "14/14 [==============================] - 0s 5ms/step - loss: 0.5661 - accuracy: 0.7602 - val_loss: 2.0940 - val_accuracy: 0.5104\n",
            "Epoch 43/100\n",
            "14/14 [==============================] - 0s 6ms/step - loss: 0.4949 - accuracy: 0.7953 - val_loss: 1.8464 - val_accuracy: 0.5000\n",
            "Epoch 44/100\n",
            "14/14 [==============================] - 0s 5ms/step - loss: 0.4979 - accuracy: 0.7942 - val_loss: 1.7871 - val_accuracy: 0.5625\n",
            "Epoch 45/100\n",
            "14/14 [==============================] - 0s 6ms/step - loss: 0.4578 - accuracy: 0.8012 - val_loss: 1.9201 - val_accuracy: 0.4583\n",
            "Epoch 46/100\n",
            "14/14 [==============================] - 0s 5ms/step - loss: 0.4816 - accuracy: 0.8023 - val_loss: 1.8182 - val_accuracy: 0.5312\n",
            "Epoch 47/100\n",
            "14/14 [==============================] - 0s 5ms/step - loss: 0.4627 - accuracy: 0.8047 - val_loss: 1.9829 - val_accuracy: 0.4688\n",
            "Epoch 48/100\n",
            "14/14 [==============================] - 0s 6ms/step - loss: 0.4438 - accuracy: 0.8117 - val_loss: 1.6749 - val_accuracy: 0.5625\n",
            "Epoch 49/100\n",
            "14/14 [==============================] - 0s 6ms/step - loss: 0.4820 - accuracy: 0.8023 - val_loss: 1.6181 - val_accuracy: 0.5729\n",
            "Epoch 50/100\n",
            "14/14 [==============================] - 0s 5ms/step - loss: 0.4428 - accuracy: 0.8351 - val_loss: 1.7865 - val_accuracy: 0.5417\n",
            "Epoch 51/100\n",
            "14/14 [==============================] - 0s 6ms/step - loss: 0.4739 - accuracy: 0.8082 - val_loss: 1.7158 - val_accuracy: 0.5625\n",
            "Epoch 52/100\n",
            "14/14 [==============================] - 0s 5ms/step - loss: 0.4788 - accuracy: 0.8082 - val_loss: 2.0083 - val_accuracy: 0.5729\n",
            "Epoch 53/100\n",
            "14/14 [==============================] - 0s 6ms/step - loss: 0.4649 - accuracy: 0.7977 - val_loss: 1.8640 - val_accuracy: 0.5833\n",
            "Epoch 54/100\n",
            "14/14 [==============================] - 0s 7ms/step - loss: 0.4719 - accuracy: 0.8070 - val_loss: 1.8639 - val_accuracy: 0.4479\n",
            "Epoch 55/100\n",
            "14/14 [==============================] - 0s 6ms/step - loss: 0.4493 - accuracy: 0.8281 - val_loss: 2.3563 - val_accuracy: 0.5312\n",
            "Epoch 56/100\n",
            "14/14 [==============================] - 0s 5ms/step - loss: 0.4746 - accuracy: 0.7977 - val_loss: 1.8143 - val_accuracy: 0.6042\n",
            "Epoch 57/100\n",
            "14/14 [==============================] - 0s 6ms/step - loss: 0.4774 - accuracy: 0.7930 - val_loss: 2.0081 - val_accuracy: 0.5000\n",
            "Epoch 58/100\n",
            "14/14 [==============================] - 0s 5ms/step - loss: 0.3943 - accuracy: 0.8269 - val_loss: 2.0184 - val_accuracy: 0.5208\n",
            "Epoch 59/100\n",
            "14/14 [==============================] - 0s 5ms/step - loss: 0.4127 - accuracy: 0.8304 - val_loss: 1.8672 - val_accuracy: 0.5000\n",
            "Epoch 60/100\n",
            "14/14 [==============================] - 0s 5ms/step - loss: 0.4165 - accuracy: 0.8222 - val_loss: 2.0140 - val_accuracy: 0.4792\n",
            "Epoch 61/100\n",
            "14/14 [==============================] - 0s 6ms/step - loss: 0.4019 - accuracy: 0.8351 - val_loss: 2.1354 - val_accuracy: 0.4583\n",
            "Epoch 62/100\n",
            "14/14 [==============================] - 0s 6ms/step - loss: 0.3773 - accuracy: 0.8491 - val_loss: 1.9438 - val_accuracy: 0.4792\n",
            "Epoch 63/100\n",
            "14/14 [==============================] - 0s 5ms/step - loss: 0.4599 - accuracy: 0.8117 - val_loss: 1.7612 - val_accuracy: 0.5938\n",
            "Epoch 64/100\n",
            "14/14 [==============================] - 0s 6ms/step - loss: 0.5501 - accuracy: 0.7731 - val_loss: 2.5280 - val_accuracy: 0.4792\n",
            "Epoch 65/100\n",
            "14/14 [==============================] - 0s 5ms/step - loss: 0.4569 - accuracy: 0.8187 - val_loss: 1.9784 - val_accuracy: 0.5000\n",
            "Epoch 66/100\n",
            "14/14 [==============================] - 0s 7ms/step - loss: 0.3764 - accuracy: 0.8433 - val_loss: 1.8128 - val_accuracy: 0.4896\n",
            "Epoch 67/100\n",
            "14/14 [==============================] - 0s 6ms/step - loss: 0.3740 - accuracy: 0.8444 - val_loss: 1.9433 - val_accuracy: 0.5312\n",
            "Epoch 68/100\n",
            "14/14 [==============================] - 0s 5ms/step - loss: 0.3468 - accuracy: 0.8690 - val_loss: 1.9693 - val_accuracy: 0.5000\n",
            "Epoch 69/100\n",
            "14/14 [==============================] - 0s 5ms/step - loss: 0.3880 - accuracy: 0.8409 - val_loss: 2.1779 - val_accuracy: 0.5000\n",
            "Epoch 70/100\n",
            "14/14 [==============================] - 0s 5ms/step - loss: 0.4273 - accuracy: 0.8339 - val_loss: 2.1408 - val_accuracy: 0.4896\n",
            "Epoch 71/100\n",
            "14/14 [==============================] - 0s 6ms/step - loss: 0.4125 - accuracy: 0.8281 - val_loss: 2.0739 - val_accuracy: 0.5104\n",
            "Epoch 72/100\n",
            "14/14 [==============================] - 0s 5ms/step - loss: 0.3582 - accuracy: 0.8643 - val_loss: 2.2030 - val_accuracy: 0.5000\n",
            "Epoch 73/100\n",
            "14/14 [==============================] - 0s 5ms/step - loss: 0.3674 - accuracy: 0.8480 - val_loss: 2.3464 - val_accuracy: 0.5000\n",
            "Epoch 74/100\n",
            "14/14 [==============================] - 0s 5ms/step - loss: 0.3533 - accuracy: 0.8585 - val_loss: 2.7539 - val_accuracy: 0.5312\n",
            "Epoch 75/100\n",
            "14/14 [==============================] - 0s 5ms/step - loss: 0.3530 - accuracy: 0.8550 - val_loss: 2.5744 - val_accuracy: 0.5104\n",
            "Epoch 76/100\n",
            "14/14 [==============================] - 0s 6ms/step - loss: 0.3307 - accuracy: 0.8772 - val_loss: 2.8118 - val_accuracy: 0.4688\n",
            "Epoch 77/100\n",
            "14/14 [==============================] - 0s 5ms/step - loss: 0.2954 - accuracy: 0.8901 - val_loss: 2.3731 - val_accuracy: 0.4583\n",
            "Epoch 78/100\n",
            "14/14 [==============================] - 0s 6ms/step - loss: 0.2947 - accuracy: 0.8842 - val_loss: 2.0583 - val_accuracy: 0.5312\n",
            "Epoch 79/100\n",
            "14/14 [==============================] - 0s 7ms/step - loss: 0.2917 - accuracy: 0.8830 - val_loss: 2.3856 - val_accuracy: 0.5208\n",
            "Epoch 80/100\n",
            "14/14 [==============================] - 0s 6ms/step - loss: 0.3233 - accuracy: 0.8760 - val_loss: 2.4246 - val_accuracy: 0.3229\n",
            "Epoch 81/100\n",
            "14/14 [==============================] - 0s 5ms/step - loss: 0.3193 - accuracy: 0.8784 - val_loss: 2.0174 - val_accuracy: 0.3958\n",
            "Epoch 82/100\n",
            "14/14 [==============================] - 0s 5ms/step - loss: 0.3288 - accuracy: 0.8725 - val_loss: 2.2685 - val_accuracy: 0.4792\n",
            "Epoch 83/100\n",
            "14/14 [==============================] - 0s 5ms/step - loss: 0.3438 - accuracy: 0.8491 - val_loss: 2.2236 - val_accuracy: 0.4896\n",
            "Epoch 84/100\n",
            "14/14 [==============================] - 0s 6ms/step - loss: 0.3604 - accuracy: 0.8585 - val_loss: 3.3444 - val_accuracy: 0.4479\n",
            "Epoch 85/100\n",
            "14/14 [==============================] - 0s 7ms/step - loss: 0.3613 - accuracy: 0.8433 - val_loss: 2.5113 - val_accuracy: 0.5000\n",
            "Epoch 86/100\n",
            "14/14 [==============================] - 0s 6ms/step - loss: 0.3951 - accuracy: 0.8526 - val_loss: 2.0634 - val_accuracy: 0.5938\n",
            "Epoch 87/100\n",
            "14/14 [==============================] - 0s 6ms/step - loss: 0.3108 - accuracy: 0.8737 - val_loss: 2.1044 - val_accuracy: 0.5938\n",
            "Epoch 88/100\n",
            "14/14 [==============================] - 0s 5ms/step - loss: 0.3151 - accuracy: 0.8725 - val_loss: 2.4039 - val_accuracy: 0.5208\n",
            "Epoch 89/100\n",
            "14/14 [==============================] - 0s 5ms/step - loss: 0.3320 - accuracy: 0.8737 - val_loss: 2.5418 - val_accuracy: 0.5000\n",
            "Epoch 90/100\n",
            "14/14 [==============================] - 0s 6ms/step - loss: 0.2987 - accuracy: 0.8795 - val_loss: 2.3010 - val_accuracy: 0.4792\n",
            "Epoch 91/100\n",
            "14/14 [==============================] - 0s 5ms/step - loss: 0.3348 - accuracy: 0.8830 - val_loss: 2.0809 - val_accuracy: 0.5938\n",
            "Epoch 92/100\n",
            "14/14 [==============================] - 0s 6ms/step - loss: 0.2964 - accuracy: 0.8889 - val_loss: 2.1961 - val_accuracy: 0.5104\n",
            "Epoch 93/100\n",
            "14/14 [==============================] - 0s 9ms/step - loss: 0.2559 - accuracy: 0.9064 - val_loss: 2.7926 - val_accuracy: 0.5312\n",
            "Epoch 94/100\n",
            "14/14 [==============================] - 0s 8ms/step - loss: 0.3412 - accuracy: 0.8573 - val_loss: 7.1314 - val_accuracy: 0.3854\n",
            "Epoch 95/100\n",
            "14/14 [==============================] - 0s 8ms/step - loss: 0.3714 - accuracy: 0.8561 - val_loss: 6.2284 - val_accuracy: 0.3125\n",
            "Epoch 96/100\n",
            "14/14 [==============================] - 0s 9ms/step - loss: 0.3335 - accuracy: 0.8690 - val_loss: 4.1435 - val_accuracy: 0.4688\n",
            "Epoch 97/100\n",
            "14/14 [==============================] - 0s 9ms/step - loss: 0.2807 - accuracy: 0.8889 - val_loss: 2.7990 - val_accuracy: 0.4896\n",
            "Epoch 98/100\n",
            "14/14 [==============================] - 0s 9ms/step - loss: 0.2630 - accuracy: 0.8936 - val_loss: 2.6998 - val_accuracy: 0.4479\n",
            "Epoch 99/100\n",
            "14/14 [==============================] - 0s 9ms/step - loss: 0.2427 - accuracy: 0.9076 - val_loss: 2.7810 - val_accuracy: 0.5000\n",
            "Epoch 100/100\n",
            "14/14 [==============================] - 0s 8ms/step - loss: 0.2670 - accuracy: 0.8924 - val_loss: 2.7110 - val_accuracy: 0.5208\n"
          ]
        }
      ],
      "source": [
        "# Train the updated model\n",
        "history_updated = model.fit(X_train_normalized, Y_train_encoded, epochs=100, batch_size=64, validation_split=0.1)"
      ]
    },
    {
      "cell_type": "code",
      "execution_count": 48,
      "metadata": {
        "colab": {
          "base_uri": "https://localhost:8080/",
          "height": 487
        },
        "id": "B0PxZQjL3ZAK",
        "outputId": "3e3c62b7-788d-42ba-81e0-5797aa59085d"
      },
      "outputs": [
        {
          "output_type": "display_data",
          "data": {
            "text/plain": [
              "<Figure size 1000x500 with 1 Axes>"
            ],
            "image/png": "[encoded data removed]"
          },
          "metadata": {}
        }
      ],
      "source": [
        "# Plot Training Loss and Validation Loss (Updated Model)\n",
        "plt.figure(figsize=(10, 5))\n",
        "plt.plot(history_updated.history['loss'], label='Training Loss')\n",
        "plt.plot(history_updated.history['val_loss'], label='Validation Loss')\n",
        "plt.title('Updated Model - Training and Validation Loss')\n",
        "plt.xlabel('Epochs')\n",
        "plt.ylabel('Loss')\n",
        "plt.legend()\n",
        "plt.grid(True)\n",
        "plt.show()"
      ]
    },
    {
      "cell_type": "code",
      "execution_count": 49,
      "metadata": {
        "colab": {
          "base_uri": "https://localhost:8080/",
          "height": 487
        },
        "id": "jURMBXj53cQI",
        "outputId": "b4672ac2-fb2e-4ee9-8557-c973aeb75e76"
      },
      "outputs": [
        {
          "output_type": "display_data",
          "data": {
            "text/plain": [
              "<Figure size 1000x500 with 1 Axes>"
            ],
            "image/png": "[encoded data removed]"
          },
          "metadata": {}
        }
      ],
      "source": [
        "# Plot Training Accuracy and Validation Accuracy (Updated Model)\n",
        "plt.figure(figsize=(10, 5))\n",
        "plt.plot(history_updated.history['accuracy'], label='Training Accuracy')\n",
        "plt.plot(history_updated.history['val_accuracy'], label='Validation Accuracy')\n",
        "plt.title('Updated Model - Training and Validation Accuracy')\n",
        "plt.xlabel('Epochs')\n",
        "plt.ylabel('Accuracy')\n",
        "plt.legend()\n",
        "plt.grid(True)\n",
        "plt.show()"
      ]
    },
    {
      "cell_type": "markdown",
      "source": [
        "* The enhanced model demonstrates a faster initial decrease in loss during the first few epochs, suggesting quicker learning at the beginning of training.\n",
        "* The enhanced model achieves a higher peak accuracy on the validation set of 60.42% on the 56th epoch.\n",
        "* However though the training accuracy of the model improves to 90.76%, the validation accuracy remians constant between 50 to 60% with lots of flucatuations.\n",
        "* Despite the higher validation accuracy, the enhanced model exhibits increased overfitting compared to the previous model, which is evident from the larger gap between training and validation accuracy in the later epochs.\n",
        "* Moreover the large gap between training and validation set as well as the fluctuations in the accuracy of the training data indicate that the model is quite unstable, despite high train accuracy.\n",
        "* While it performs better on the training data compared to the previous model, it performs not so well on the validation set compared to the previous model.\n"
      ],
      "metadata": {
        "id": "fTIi_0a7JV1D"
      }
    },
    {
      "cell_type": "markdown",
      "metadata": {
        "id": "3Ifbtbek1OmY"
      },
      "source": [
        "# **PART B**\n",
        "\n",
        "\n",
        "---\n",
        "\n"
      ]
    },
    {
      "cell_type": "markdown",
      "metadata": {
        "id": "tXzTdfxc1XNy"
      },
      "source": [
        "> **DOMAIN:** Autonomous Vehicles\n",
        "\n",
        "\n",
        "---\n",
        "\n"
      ]
    },
    {
      "cell_type": "markdown",
      "metadata": {
        "id": "CRuNHaBs1dih"
      },
      "source": [
        "> **CONTEXT:** A Recognising multi-digit numbers in photographs captured at street level is an important component of modern-day map\n",
        "making. A classic example of a corpus of such street-level photographs is Google’s Street View imagery composed of hundreds of millions\n",
        "of geo-located 360-degree panoramic images.\n",
        "\n",
        "> The ability to automatically transcribe an address number from a geo-located patch of pixels and associate the transcribed number with a\n",
        "known street address helps pinpoint, with a high degree of accuracy, the location of the building it represents. More broadly, recognising\n",
        "numbers in photographs is a problem of interest to the optical character recognition community.\n",
        "\n",
        "> While OCR on constrained domains like document processing is well studied, arbitrary multi-character text recognition in photographs is\n",
        "still highly challenging. This difficulty arises due to the wide variability in the visual appearance of text in the wild on account of a large\n",
        "range of fonts, colours, styles, orientations, and character arrangements.\n",
        "\n",
        "> The recognition problem is further complicated by environmental factors such as lighting, shadows, specularity, and occlusions as well as\n",
        "by image acquisition factors such as resolution, motion, and focus blurs. In this project, we will use the dataset with images centred around\n",
        "a single digit (many of the images do contain some distractors at the sides). Although we are taking a sample of the data which is simpler,\n",
        "it is more complex than MNIST because of the distractors.\n",
        "\n",
        "\n",
        "---\n",
        "\n"
      ]
    },
    {
      "cell_type": "markdown",
      "metadata": {
        "id": "Nlq329962DQ7"
      },
      "source": [
        "> **DATA DESCRIPTION:** The SVHN is a real-world image dataset for developing machine learning and object recognition algorithms with the\n",
        "minimal requirement on data formatting but comes from a significantly harder, unsolved, real-world problem (recognising digits and\n",
        "numbers in natural scene images). SVHN is obtained from house numbers in Google Street View images.\n",
        "\n",
        "> ![111111111111.png](data:image/png;base64,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)\n",
        "\n",
        "> Where the labels for each of this image are the prominent number in that image i.e. 2,6,7 and 4 respectively.\n",
        "\n",
        "> The dataset has been provided in the form of h5py files. You can read about this file format here: https://docs.h5py.org/en/stable/\n",
        "\n",
        "> **Acknowledgement:** Yuval Netzer, Tao Wang, Adam Coates, Alessandro Bissacco, Bo Wu, Andrew Y. Ng Reading Digits in Natural Images with Unsupervised\n",
        "Feature Learning NIPS Workshop on Deep Learning and Unsupervised Feature Learning 2011. PDF\n",
        "http://ufldl.stanford.edu/housenumbers as the URL for this site.\n",
        "\n",
        "\n",
        "---\n",
        "\n"
      ]
    },
    {
      "cell_type": "markdown",
      "metadata": {
        "id": "pbbyA52727xZ"
      },
      "source": [
        " > **PROJECT OBJECTIVE:** To build a digit classifier on the SVHN (Street View Housing Number) dataset.\n",
        "\n",
        "\n",
        "---\n",
        "\n"
      ]
    },
    {
      "cell_type": "markdown",
      "metadata": {
        "id": "wawDSNm63B5Q"
      },
      "source": [
        "> **STEPS AND TASKS:**\n",
        "\n",
        "\n",
        "---\n",
        "\n"
      ]
    },
    {
      "cell_type": "markdown",
      "metadata": {
        "id": "Fd1jWQsK3Se_"
      },
      "source": [
        ">## **1. Data Import and Exploration**\n",
        "\n",
        "\n",
        "---\n",
        "\n"
      ]
    },
    {
      "cell_type": "markdown",
      "metadata": {
        "id": "TQMoZS1X3Zhh"
      },
      "source": [
        ">>### **A. Read the .h5 file and assign to a variable.**\n",
        "\n",
        "\n",
        "---\n",
        "\n"
      ]
    },
    {
      "cell_type": "code",
      "execution_count": 27,
      "metadata": {
        "colab": {
          "base_uri": "https://localhost:8080/"
        },
        "id": "LKWcuygNJ-nP",
        "outputId": "6c0f52f8-94a4-43f4-8ef4-3f7907020b35"
      },
      "outputs": [
        {
          "output_type": "stream",
          "name": "stdout",
          "text": [
            "Drive already mounted at /content/drive; to attempt to forcibly remount, call drive.mount(\"/content/drive\", force_remount=True).\n"
          ]
        }
      ],
      "source": [
        "# Mount Google Drive\n",
        "from google.colab import drive\n",
        "drive.mount('/content/drive')"
      ]
    },
    {
      "cell_type": "code",
      "execution_count": 28,
      "metadata": {
        "colab": {
          "base_uri": "https://localhost:8080/"
        },
        "id": "tLMdZ-EAKBvq",
        "outputId": "20fb540f-8af7-45c6-9d2a-aba487e35958"
      },
      "outputs": [
        {
          "output_type": "stream",
          "name": "stdout",
          "text": [
            "Keys in the dataset: ['X_test', 'X_train', 'X_val', 'y_test', 'y_train', 'y_val']\n",
            "Shape of training data: (42000, 32, 32)\n",
            "Shape of training labels: (42000,)\n",
            "Shape of validation data: (60000, 32, 32)\n",
            "Shape of validation labels: (60000,)\n",
            "Shape of test data: (18000, 32, 32)\n",
            "Shape of test labels: (18000,)\n"
          ]
        }
      ],
      "source": [
        "import h5py\n",
        "\n",
        "# Specify the path to the .h5 file in your Google Drive\n",
        "file_path = '/content/drive/My Drive/Colab Notebooks/Autonomous_Vehicles_SVHN_single_grey1.h5'\n",
        "\n",
        "# Read the .h5 file and assign it to a variable\n",
        "with h5py.File(file_path, 'r') as file:\n",
        "    # Explore the keys in the dataset\n",
        "    print(\"Keys in the dataset:\", list(file.keys()))\n",
        "\n",
        "    # Access the training, validation, and test data and labels\n",
        "    X_train = file['X_train'][:]\n",
        "    y_train = file['y_train'][:]\n",
        "    X_val = file['X_val'][:]\n",
        "    y_val = file['y_val'][:]\n",
        "    X_test = file['X_test'][:]\n",
        "    y_test = file['y_test'][:]\n",
        "\n",
        "# Display basic information about the dataset\n",
        "print(\"Shape of training data:\", X_train.shape)\n",
        "print(\"Shape of training labels:\", y_train.shape)\n",
        "print(\"Shape of validation data:\", X_val.shape)\n",
        "print(\"Shape of validation labels:\", y_val.shape)\n",
        "print(\"Shape of test data:\", X_test.shape)\n",
        "print(\"Shape of test labels:\", y_test.shape)"
      ]
    },
    {
      "cell_type": "markdown",
      "metadata": {
        "id": "zvkl-E8A37Gn"
      },
      "source": [
        ">>### **B. Print all the keys from the .h5 file.**\n",
        "\n",
        "\n",
        "---\n",
        "\n"
      ]
    },
    {
      "cell_type": "code",
      "execution_count": 29,
      "metadata": {
        "colab": {
          "base_uri": "https://localhost:8080/"
        },
        "id": "-IIsd83MKoYv",
        "outputId": "9d4f3e46-42b5-4ff0-d749-592043f7c74c"
      },
      "outputs": [
        {
          "output_type": "stream",
          "name": "stdout",
          "text": [
            "Keys in the dataset: ['X_test', 'X_train', 'X_val', 'y_test', 'y_train', 'y_val']\n"
          ]
        }
      ],
      "source": [
        "# Read the .h5 file and print all the keys\n",
        "with h5py.File(file_path, 'r') as file:\n",
        "    # Print all the keys in the dataset\n",
        "    print(\"Keys in the dataset:\", list(file.keys()))"
      ]
    },
    {
      "cell_type": "markdown",
      "metadata": {
        "id": "0HkLFCOZ3_el"
      },
      "source": [
        ">>### **C. Split the data into X_train, X_test, Y_train, Y_test.**\n",
        "\n",
        "\n",
        "---\n",
        "\n"
      ]
    },
    {
      "cell_type": "code",
      "execution_count": 30,
      "metadata": {
        "colab": {
          "base_uri": "https://localhost:8080/"
        },
        "id": "3JWKJJksKxC6",
        "outputId": "484ffb6b-7584-4187-eb4a-ec092c6fd658"
      },
      "outputs": [
        {
          "output_type": "stream",
          "name": "stdout",
          "text": [
            "Shape of X_train: (42000, 32, 32)\n",
            "Shape of y_train: (42000,)\n",
            "Shape of X_test: (18000, 32, 32)\n",
            "Shape of y_test: (18000,)\n"
          ]
        }
      ],
      "source": [
        "# Read the .h5 file and split the data into X_train, X_test, y_train, y_test\n",
        "with h5py.File(file_path, 'r') as file:\n",
        "    X_train = file['X_train'][:]\n",
        "    y_train = file['y_train'][:]\n",
        "    X_test = file['X_test'][:]\n",
        "    y_test = file['y_test'][:]\n",
        "\n",
        "# Display shapes of the data\n",
        "print(\"Shape of X_train:\", X_train.shape)\n",
        "print(\"Shape of y_train:\", y_train.shape)\n",
        "print(\"Shape of X_test:\", X_test.shape)\n",
        "print(\"Shape of y_test:\", y_test.shape)"
      ]
    },
    {
      "cell_type": "markdown",
      "metadata": {
        "id": "q9BucS_K4Je7"
      },
      "source": [
        ">## **2. Data Visualisation and preprocessing**\n",
        "\n",
        "\n",
        "---\n",
        "\n"
      ]
    },
    {
      "cell_type": "markdown",
      "metadata": {
        "id": "DtSU3NYS4O7x"
      },
      "source": [
        ">>### **A. Print shape of all the 4 data split into x, y, train, test to verify if x & y is in sync.**\n",
        "\n",
        "\n",
        "---\n",
        "\n"
      ]
    },
    {
      "cell_type": "code",
      "execution_count": 31,
      "metadata": {
        "colab": {
          "base_uri": "https://localhost:8080/"
        },
        "id": "OmedSEQGK21E",
        "outputId": "258582b1-8852-4887-8f5b-33d7e33cd4f2"
      },
      "outputs": [
        {
          "output_type": "stream",
          "name": "stdout",
          "text": [
            "Shape of X_train: (42000, 32, 32)\n",
            "Shape of y_train: (42000,)\n",
            "Shape of X_test: (18000, 32, 32)\n",
            "Shape of y_test: (18000,)\n"
          ]
        }
      ],
      "source": [
        "# Print the shape of each data split\n",
        "print(\"Shape of X_train:\", X_train.shape)\n",
        "print(\"Shape of y_train:\", y_train.shape)\n",
        "print(\"Shape of X_test:\", X_test.shape)\n",
        "print(\"Shape of y_test:\", y_test.shape)"
      ]
    },
    {
      "cell_type": "markdown",
      "metadata": {
        "id": "rSUdSM886erL"
      },
      "source": [
        "X and Y is in sync."
      ]
    },
    {
      "cell_type": "markdown",
      "metadata": {
        "id": "q_uzNb-Q4TyU"
      },
      "source": [
        ">>### **B. Visualise first 10 images in train data and print its corresponding labels.**\n",
        "\n",
        "\n",
        "---\n",
        "\n"
      ]
    },
    {
      "cell_type": "code",
      "execution_count": 32,
      "metadata": {
        "colab": {
          "base_uri": "https://localhost:8080/",
          "height": 119
        },
        "id": "qhI5Mjo0K7gu",
        "outputId": "ec334f36-e1f9-4c59-b2e9-f42fadddd7ac"
      },
      "outputs": [
        {
          "output_type": "display_data",
          "data": {
            "text/plain": [
              "<Figure size 1000x100 with 10 Axes>"
            ],
            "image/png": "[encoded data removed]"
          },
          "metadata": {}
        },
        {
          "output_type": "stream",
          "name": "stdout",
          "text": [
            "Corresponding labels: [2 6 7 4 4 0 3 0 7 3]\n"
          ]
        }
      ],
      "source": [
        "import matplotlib.pyplot as plt\n",
        "\n",
        "# Visualize the first 10 images in the training data\n",
        "plt.figure(figsize=(10, 1))\n",
        "for i in range(10):\n",
        "    plt.subplot(1, 10, i+1)\n",
        "    plt.imshow(X_train[i], cmap='gray')\n",
        "    plt.axis('off')\n",
        "plt.show()\n",
        "\n",
        "# Print the corresponding labels\n",
        "print(\"Corresponding labels:\", y_train[:10])"
      ]
    },
    {
      "cell_type": "markdown",
      "metadata": {
        "id": "S-t85lkc4aoy"
      },
      "source": [
        ">>### **C. Reshape all the images with appropriate shape update the data in same variable.**\n",
        "\n",
        "\n",
        "---\n",
        "\n"
      ]
    },
    {
      "cell_type": "code",
      "execution_count": 33,
      "metadata": {
        "colab": {
          "base_uri": "https://localhost:8080/"
        },
        "id": "RFdfAG0iLKz3",
        "outputId": "39219dea-bf7f-4613-e5c9-cae163cce00c"
      },
      "outputs": [
        {
          "output_type": "stream",
          "name": "stdout",
          "text": [
            "New shape of X_train: (42000, 1024)\n",
            "New shape of X_test: (18000, 1024)\n"
          ]
        }
      ],
      "source": [
        "import numpy as np\n",
        "\n",
        "# Reshape the images in the training and test data\n",
        "X_train = X_train.reshape((X_train.shape[0], -1))\n",
        "X_test = X_test.reshape((X_test.shape[0], -1))\n",
        "\n",
        "# Display the new shapes of the data\n",
        "print(\"New shape of X_train:\", X_train.shape)\n",
        "print(\"New shape of X_test:\", X_test.shape)"
      ]
    },
    {
      "cell_type": "markdown",
      "metadata": {
        "id": "ruIAfth_4fDe"
      },
      "source": [
        ">>### **D. Normalise the images i.e. Normalise the pixel values.**\n",
        "\n",
        "\n",
        "---\n",
        "\n"
      ]
    },
    {
      "cell_type": "code",
      "execution_count": 34,
      "metadata": {
        "id": "gAQ4hgyCLSRg"
      },
      "outputs": [],
      "source": [
        "# Normalize the pixel values of the images\n",
        "X_train = X_train / 255.0\n",
        "X_test = X_test / 255.0"
      ]
    },
    {
      "cell_type": "markdown",
      "metadata": {
        "id": "k9cB0dUk4j_k"
      },
      "source": [
        ">>### **E. Transform Labels into format acceptable by Neural Network.**\n",
        "\n",
        "\n",
        "---\n",
        "\n"
      ]
    },
    {
      "cell_type": "code",
      "execution_count": 35,
      "metadata": {
        "id": "x1geFxaXLXmh"
      },
      "outputs": [],
      "source": [
        "from keras.utils import to_categorical\n",
        "\n",
        "# Number of classes\n",
        "num_classes = 10  # Assuming there are 10 classes (0-9 digits)\n",
        "\n",
        "# Perform one-hot encoding on the labels\n",
        "y_train_encoded = to_categorical(y_train, num_classes=num_classes)\n",
        "y_test_encoded = to_categorical(y_test, num_classes=num_classes)"
      ]
    },
    {
      "cell_type": "markdown",
      "metadata": {
        "id": "JhEHnbIY4pL8"
      },
      "source": [
        ">>### **F. Print total Number of classes in the Dataset.**\n",
        "\n",
        "\n",
        "---\n",
        "\n"
      ]
    },
    {
      "cell_type": "code",
      "execution_count": 36,
      "metadata": {
        "colab": {
          "base_uri": "https://localhost:8080/"
        },
        "id": "8OAqF2zTLd_z",
        "outputId": "a7c80745-0d6d-49d3-ef3c-92289b37f40d"
      },
      "outputs": [
        {
          "output_type": "stream",
          "name": "stdout",
          "text": [
            "Total number of classes in the dataset: 10\n"
          ]
        }
      ],
      "source": [
        "# Find the total number of classes in the dataset\n",
        "num_classes = len(np.unique(y_train))\n",
        "print(\"Total number of classes in the dataset:\", num_classes)\n"
      ]
    },
    {
      "cell_type": "markdown",
      "metadata": {
        "id": "Q7-tlZfw4vqO"
      },
      "source": [
        ">## **3. Model Training & Evaluation using Neural Network.**\n",
        "\n",
        "\n",
        "---\n",
        "\n"
      ]
    },
    {
      "cell_type": "markdown",
      "metadata": {
        "id": "R6b0seaG40r6"
      },
      "source": [
        ">>### **A. Design a Neural Network to train a classifier.**\n",
        "\n",
        "\n",
        "---\n",
        "\n"
      ]
    },
    {
      "cell_type": "code",
      "execution_count": 37,
      "metadata": {
        "colab": {
          "base_uri": "https://localhost:8080/"
        },
        "id": "DcW6DJoI60YM",
        "outputId": "efd33003-f235-4539-8bab-1d74eef40e3c"
      },
      "outputs": [
        {
          "output_type": "stream",
          "name": "stdout",
          "text": [
            "Model: \"sequential_2\"\n",
            "_________________________________________________________________\n",
            " Layer (type)                Output Shape              Param #   \n",
            "=================================================================\n",
            " dense_9 (Dense)             (None, 64)                65600     \n",
            "                                                                 \n",
            " dense_10 (Dense)            (None, 64)                4160      \n",
            "                                                                 \n",
            " dense_11 (Dense)            (None, 64)                4160      \n",
            "                                                                 \n",
            " dense_12 (Dense)            (None, 10)                650       \n",
            "                                                                 \n",
            "=================================================================\n",
            "Total params: 74570 (291.29 KB)\n",
            "Trainable params: 74570 (291.29 KB)\n",
            "Non-trainable params: 0 (0.00 Byte)\n",
            "_________________________________________________________________\n"
          ]
        }
      ],
      "source": [
        "import numpy as np\n",
        "from keras.models import Sequential\n",
        "from keras.layers import Dense, Dropout, Flatten\n",
        "\n",
        "# Define the number of input features\n",
        "input_shape = X_train.shape[1:]\n",
        "# Define the number of classes\n",
        "num_classes = len(np.unique(y_train))\n",
        "\n",
        "# Initialize the model\n",
        "model = Sequential()\n",
        "\n",
        "# Add the input layer\n",
        "model.add(Dense(64, input_shape=input_shape, kernel_initializer='he_uniform', activation='sigmoid'))\n",
        "\n",
        "# Add a hidden layer\n",
        "model.add(Dense(64, activation='sigmoid', kernel_initializer='he_uniform'))\n",
        "\n",
        "# Add a hidden layer\n",
        "model.add(Dense(64, activation='sigmoid', kernel_initializer='he_uniform'))\n",
        "\n",
        "# Add an output layer with softmax activation for classification\n",
        "model.add(Dense(num_classes, activation='softmax'))\n",
        "\n",
        "# Compile the model\n",
        "model.compile(loss='categorical_crossentropy', optimizer='ADAM', metrics=['accuracy'])\n",
        "\n",
        "# Print the summary of the model\n",
        "model.summary()"
      ]
    },
    {
      "cell_type": "markdown",
      "source": [
        "* The defined neural network architecture consists of three dense (fully connected) layers.\n",
        "\n",
        "* The input layer has 64 neurons and uses the sigmoid activation function.\n",
        "\n",
        "* Two hidden layers with 64 neurons each follow, also using the sigmoid activation function.\n",
        "\n",
        "* Finally, the output layer has the number of neurons corresponding to the number of classes, employing the softmax activation function for classification.\n",
        "\n",
        "* The model is compiled with categorical crossentropy loss and Adam optimizer, with accuracy as the metric for evaluation."
      ],
      "metadata": {
        "id": "ctFXOMtwMctg"
      }
    },
    {
      "cell_type": "markdown",
      "metadata": {
        "id": "rqwQK7o747QI"
      },
      "source": [
        ">>### **B. Train the classifier using previously designed Architecture (Use best suitable parameters).**\n",
        "\n",
        "\n",
        "---\n",
        "\n"
      ]
    },
    {
      "cell_type": "code",
      "execution_count": 38,
      "metadata": {
        "colab": {
          "base_uri": "https://localhost:8080/"
        },
        "id": "_vsYHUrEL40a",
        "outputId": "bd962127-093c-4803-8fba-b1afef9a30a0"
      },
      "outputs": [
        {
          "output_type": "stream",
          "name": "stdout",
          "text": [
            "Epoch 1/100\n",
            "1313/1313 [==============================] - 9s 6ms/step - loss: 2.2298 - accuracy: 0.1457 - val_loss: 2.0416 - val_accuracy: 0.2316\n",
            "Epoch 2/100\n",
            "1313/1313 [==============================] - 9s 7ms/step - loss: 1.8247 - accuracy: 0.3321 - val_loss: 1.6633 - val_accuracy: 0.4155\n",
            "Epoch 3/100\n",
            "1313/1313 [==============================] - 6s 5ms/step - loss: 1.5948 - accuracy: 0.4357 - val_loss: 1.5236 - val_accuracy: 0.4719\n",
            "Epoch 4/100\n",
            "1313/1313 [==============================] - 9s 7ms/step - loss: 1.4762 - accuracy: 0.4912 - val_loss: 1.4090 - val_accuracy: 0.5306\n",
            "Epoch 5/100\n",
            "1313/1313 [==============================] - 7s 5ms/step - loss: 1.3581 - accuracy: 0.5501 - val_loss: 1.2850 - val_accuracy: 0.5807\n",
            "Epoch 6/100\n",
            "1313/1313 [==============================] - 8s 6ms/step - loss: 1.2652 - accuracy: 0.5806 - val_loss: 1.2120 - val_accuracy: 0.6009\n",
            "Epoch 7/100\n",
            "1313/1313 [==============================] - 6s 4ms/step - loss: 1.1998 - accuracy: 0.6044 - val_loss: 1.1744 - val_accuracy: 0.6091\n",
            "Epoch 8/100\n",
            "1313/1313 [==============================] - 7s 6ms/step - loss: 1.1534 - accuracy: 0.6219 - val_loss: 1.1434 - val_accuracy: 0.6279\n",
            "Epoch 9/100\n",
            "1313/1313 [==============================] - 6s 4ms/step - loss: 1.1090 - accuracy: 0.6375 - val_loss: 1.1179 - val_accuracy: 0.6292\n",
            "Epoch 10/100\n",
            "1313/1313 [==============================] - 7s 6ms/step - loss: 1.0719 - accuracy: 0.6486 - val_loss: 1.0543 - val_accuracy: 0.6563\n",
            "Epoch 11/100\n",
            "1313/1313 [==============================] - 7s 5ms/step - loss: 1.0442 - accuracy: 0.6600 - val_loss: 1.0181 - val_accuracy: 0.6692\n",
            "Epoch 12/100\n",
            "1313/1313 [==============================] - 8s 6ms/step - loss: 1.0067 - accuracy: 0.6736 - val_loss: 0.9966 - val_accuracy: 0.6753\n",
            "Epoch 13/100\n",
            "1313/1313 [==============================] - 7s 5ms/step - loss: 0.9828 - accuracy: 0.6807 - val_loss: 1.0247 - val_accuracy: 0.6611\n",
            "Epoch 14/100\n",
            "1313/1313 [==============================] - 8s 6ms/step - loss: 0.9623 - accuracy: 0.6887 - val_loss: 0.9150 - val_accuracy: 0.7081\n",
            "Epoch 15/100\n",
            "1313/1313 [==============================] - 7s 5ms/step - loss: 0.9419 - accuracy: 0.6951 - val_loss: 0.9017 - val_accuracy: 0.7109\n",
            "Epoch 16/100\n",
            "1313/1313 [==============================] - 7s 5ms/step - loss: 0.9230 - accuracy: 0.7005 - val_loss: 0.9247 - val_accuracy: 0.6940\n",
            "Epoch 17/100\n",
            "1313/1313 [==============================] - 6s 5ms/step - loss: 0.9050 - accuracy: 0.7089 - val_loss: 0.8680 - val_accuracy: 0.7215\n",
            "Epoch 18/100\n",
            "1313/1313 [==============================] - 8s 6ms/step - loss: 0.8898 - accuracy: 0.7142 - val_loss: 0.8871 - val_accuracy: 0.7155\n",
            "Epoch 19/100\n",
            "1313/1313 [==============================] - 9s 7ms/step - loss: 0.8726 - accuracy: 0.7221 - val_loss: 0.8437 - val_accuracy: 0.7340\n",
            "Epoch 20/100\n",
            "1313/1313 [==============================] - 6s 4ms/step - loss: 0.8530 - accuracy: 0.7270 - val_loss: 0.9232 - val_accuracy: 0.6958\n",
            "Epoch 21/100\n",
            "1313/1313 [==============================] - 8s 6ms/step - loss: 0.8364 - accuracy: 0.7339 - val_loss: 0.7801 - val_accuracy: 0.7549\n",
            "Epoch 22/100\n",
            "1313/1313 [==============================] - 19s 14ms/step - loss: 0.8260 - accuracy: 0.7351 - val_loss: 0.7734 - val_accuracy: 0.7559\n",
            "Epoch 23/100\n",
            "1313/1313 [==============================] - 12s 9ms/step - loss: 0.8068 - accuracy: 0.7436 - val_loss: 0.7806 - val_accuracy: 0.7532\n",
            "Epoch 24/100\n",
            "1313/1313 [==============================] - 6s 4ms/step - loss: 0.7968 - accuracy: 0.7464 - val_loss: 0.7648 - val_accuracy: 0.7560\n",
            "Epoch 25/100\n",
            "1313/1313 [==============================] - 8s 6ms/step - loss: 0.7831 - accuracy: 0.7524 - val_loss: 0.7467 - val_accuracy: 0.7643\n",
            "Epoch 26/100\n",
            "1313/1313 [==============================] - 7s 5ms/step - loss: 0.7704 - accuracy: 0.7550 - val_loss: 0.7491 - val_accuracy: 0.7630\n",
            "Epoch 27/100\n",
            "1313/1313 [==============================] - 8s 6ms/step - loss: 0.7596 - accuracy: 0.7592 - val_loss: 0.7625 - val_accuracy: 0.7569\n",
            "Epoch 28/100\n",
            "1313/1313 [==============================] - 9s 7ms/step - loss: 0.7501 - accuracy: 0.7608 - val_loss: 0.7461 - val_accuracy: 0.7651\n",
            "Epoch 29/100\n",
            "1313/1313 [==============================] - 7s 5ms/step - loss: 0.7414 - accuracy: 0.7649 - val_loss: 0.6900 - val_accuracy: 0.7840\n",
            "Epoch 30/100\n",
            "1313/1313 [==============================] - 8s 6ms/step - loss: 0.7290 - accuracy: 0.7683 - val_loss: 0.7045 - val_accuracy: 0.7751\n",
            "Epoch 31/100\n",
            "1313/1313 [==============================] - 7s 5ms/step - loss: 0.7226 - accuracy: 0.7717 - val_loss: 0.7762 - val_accuracy: 0.7541\n",
            "Epoch 32/100\n",
            "1313/1313 [==============================] - 8s 6ms/step - loss: 0.7139 - accuracy: 0.7732 - val_loss: 0.7010 - val_accuracy: 0.7796\n",
            "Epoch 33/100\n",
            "1313/1313 [==============================] - 7s 5ms/step - loss: 0.7057 - accuracy: 0.7752 - val_loss: 0.7026 - val_accuracy: 0.7741\n",
            "Epoch 34/100\n",
            "1313/1313 [==============================] - 7s 6ms/step - loss: 0.6995 - accuracy: 0.7785 - val_loss: 0.6850 - val_accuracy: 0.7844\n",
            "Epoch 35/100\n",
            "1313/1313 [==============================] - 7s 5ms/step - loss: 0.6923 - accuracy: 0.7803 - val_loss: 0.6678 - val_accuracy: 0.7865\n",
            "Epoch 36/100\n",
            "1313/1313 [==============================] - 8s 6ms/step - loss: 0.6871 - accuracy: 0.7840 - val_loss: 0.7338 - val_accuracy: 0.7682\n",
            "Epoch 37/100\n",
            "1313/1313 [==============================] - 9s 7ms/step - loss: 0.6779 - accuracy: 0.7858 - val_loss: 0.6261 - val_accuracy: 0.8055\n",
            "Epoch 38/100\n",
            "1313/1313 [==============================] - 6s 4ms/step - loss: 0.6678 - accuracy: 0.7892 - val_loss: 0.6148 - val_accuracy: 0.8090\n",
            "Epoch 39/100\n",
            "1313/1313 [==============================] - 8s 6ms/step - loss: 0.6649 - accuracy: 0.7892 - val_loss: 0.6583 - val_accuracy: 0.7927\n",
            "Epoch 40/100\n",
            "1313/1313 [==============================] - 7s 5ms/step - loss: 0.6543 - accuracy: 0.7934 - val_loss: 0.6858 - val_accuracy: 0.7799\n",
            "Epoch 41/100\n",
            "1313/1313 [==============================] - 8s 6ms/step - loss: 0.6505 - accuracy: 0.7931 - val_loss: 0.6002 - val_accuracy: 0.8126\n",
            "Epoch 42/100\n",
            "1313/1313 [==============================] - 7s 5ms/step - loss: 0.6487 - accuracy: 0.7949 - val_loss: 0.6360 - val_accuracy: 0.7973\n",
            "Epoch 43/100\n",
            "1313/1313 [==============================] - 11s 9ms/step - loss: 0.6450 - accuracy: 0.7956 - val_loss: 0.6675 - val_accuracy: 0.7880\n",
            "Epoch 44/100\n",
            "1313/1313 [==============================] - 8s 6ms/step - loss: 0.6375 - accuracy: 0.7989 - val_loss: 0.6513 - val_accuracy: 0.7940\n",
            "Epoch 45/100\n",
            "1313/1313 [==============================] - 6s 5ms/step - loss: 0.6353 - accuracy: 0.7998 - val_loss: 0.5944 - val_accuracy: 0.8161\n",
            "Epoch 46/100\n",
            "1313/1313 [==============================] - 8s 6ms/step - loss: 0.6270 - accuracy: 0.8020 - val_loss: 0.5975 - val_accuracy: 0.8102\n",
            "Epoch 47/100\n",
            "1313/1313 [==============================] - 6s 5ms/step - loss: 0.6230 - accuracy: 0.8037 - val_loss: 0.6296 - val_accuracy: 0.7983\n",
            "Epoch 48/100\n",
            "1313/1313 [==============================] - 8s 6ms/step - loss: 0.6129 - accuracy: 0.8050 - val_loss: 0.5813 - val_accuracy: 0.8171\n",
            "Epoch 49/100\n",
            "1313/1313 [==============================] - 7s 5ms/step - loss: 0.6176 - accuracy: 0.8050 - val_loss: 0.5691 - val_accuracy: 0.8243\n",
            "Epoch 50/100\n",
            "1313/1313 [==============================] - 8s 6ms/step - loss: 0.6133 - accuracy: 0.8067 - val_loss: 0.5833 - val_accuracy: 0.8171\n",
            "Epoch 51/100\n",
            "1313/1313 [==============================] - 7s 5ms/step - loss: 0.6086 - accuracy: 0.8069 - val_loss: 0.6484 - val_accuracy: 0.7890\n",
            "Epoch 52/100\n",
            "1313/1313 [==============================] - 8s 6ms/step - loss: 0.6014 - accuracy: 0.8082 - val_loss: 0.6098 - val_accuracy: 0.8064\n",
            "Epoch 53/100\n",
            "1313/1313 [==============================] - 10s 7ms/step - loss: 0.5983 - accuracy: 0.8093 - val_loss: 0.5823 - val_accuracy: 0.8177\n",
            "Epoch 54/100\n",
            "1313/1313 [==============================] - 7s 5ms/step - loss: 0.5950 - accuracy: 0.8115 - val_loss: 0.5661 - val_accuracy: 0.8218\n",
            "Epoch 55/100\n",
            "1313/1313 [==============================] - 7s 6ms/step - loss: 0.5925 - accuracy: 0.8134 - val_loss: 0.5917 - val_accuracy: 0.8102\n",
            "Epoch 56/100\n",
            "1313/1313 [==============================] - 7s 5ms/step - loss: 0.5867 - accuracy: 0.8136 - val_loss: 0.5429 - val_accuracy: 0.8305\n",
            "Epoch 57/100\n",
            "1313/1313 [==============================] - 9s 7ms/step - loss: 0.5823 - accuracy: 0.8156 - val_loss: 0.6105 - val_accuracy: 0.8030\n",
            "Epoch 58/100\n",
            "1313/1313 [==============================] - 10s 7ms/step - loss: 0.5803 - accuracy: 0.8152 - val_loss: 0.5493 - val_accuracy: 0.8279\n",
            "Epoch 59/100\n",
            "1313/1313 [==============================] - 7s 5ms/step - loss: 0.5785 - accuracy: 0.8150 - val_loss: 0.5694 - val_accuracy: 0.8189\n",
            "Epoch 60/100\n",
            "1313/1313 [==============================] - 9s 7ms/step - loss: 0.5732 - accuracy: 0.8186 - val_loss: 0.5580 - val_accuracy: 0.8215\n",
            "Epoch 61/100\n",
            "1313/1313 [==============================] - 7s 6ms/step - loss: 0.5730 - accuracy: 0.8176 - val_loss: 0.5439 - val_accuracy: 0.8262\n",
            "Epoch 62/100\n",
            "1313/1313 [==============================] - 8s 6ms/step - loss: 0.5670 - accuracy: 0.8198 - val_loss: 0.5578 - val_accuracy: 0.8225\n",
            "Epoch 63/100\n",
            "1313/1313 [==============================] - 10s 7ms/step - loss: 0.5625 - accuracy: 0.8214 - val_loss: 0.5537 - val_accuracy: 0.8239\n",
            "Epoch 64/100\n",
            "1313/1313 [==============================] - 7s 5ms/step - loss: 0.5582 - accuracy: 0.8219 - val_loss: 0.5505 - val_accuracy: 0.8260\n",
            "Epoch 65/100\n",
            "1313/1313 [==============================] - 8s 6ms/step - loss: 0.5580 - accuracy: 0.8233 - val_loss: 0.5272 - val_accuracy: 0.8337\n",
            "Epoch 66/100\n",
            "1313/1313 [==============================] - 8s 6ms/step - loss: 0.5553 - accuracy: 0.8242 - val_loss: 0.5525 - val_accuracy: 0.8227\n",
            "Epoch 67/100\n",
            "1313/1313 [==============================] - 8s 6ms/step - loss: 0.5525 - accuracy: 0.8246 - val_loss: 0.5162 - val_accuracy: 0.8374\n",
            "Epoch 68/100\n",
            "1313/1313 [==============================] - 8s 6ms/step - loss: 0.5451 - accuracy: 0.8253 - val_loss: 0.5508 - val_accuracy: 0.8248\n",
            "Epoch 69/100\n",
            "1313/1313 [==============================] - 7s 5ms/step - loss: 0.5379 - accuracy: 0.8295 - val_loss: 0.6004 - val_accuracy: 0.8073\n",
            "Epoch 70/100\n",
            "1313/1313 [==============================] - 8s 6ms/step - loss: 0.5464 - accuracy: 0.8288 - val_loss: 0.6159 - val_accuracy: 0.7995\n",
            "Epoch 71/100\n",
            "1313/1313 [==============================] - 7s 5ms/step - loss: 0.5380 - accuracy: 0.8290 - val_loss: 0.5482 - val_accuracy: 0.8247\n",
            "Epoch 72/100\n",
            "1313/1313 [==============================] - 9s 7ms/step - loss: 0.5325 - accuracy: 0.8298 - val_loss: 0.5262 - val_accuracy: 0.8312\n",
            "Epoch 73/100\n",
            "1313/1313 [==============================] - 7s 5ms/step - loss: 0.5354 - accuracy: 0.8287 - val_loss: 0.4872 - val_accuracy: 0.8460\n",
            "Epoch 74/100\n",
            "1313/1313 [==============================] - 9s 7ms/step - loss: 0.5304 - accuracy: 0.8313 - val_loss: 0.4852 - val_accuracy: 0.8475\n",
            "Epoch 75/100\n",
            "1313/1313 [==============================] - 10s 8ms/step - loss: 0.5262 - accuracy: 0.8327 - val_loss: 0.5043 - val_accuracy: 0.8408\n",
            "Epoch 76/100\n",
            "1313/1313 [==============================] - 7s 5ms/step - loss: 0.5208 - accuracy: 0.8331 - val_loss: 0.5038 - val_accuracy: 0.8397\n",
            "Epoch 77/100\n",
            "1313/1313 [==============================] - 8s 6ms/step - loss: 0.5239 - accuracy: 0.8329 - val_loss: 0.4846 - val_accuracy: 0.8465\n",
            "Epoch 78/100\n",
            "1313/1313 [==============================] - 7s 5ms/step - loss: 0.5220 - accuracy: 0.8331 - val_loss: 0.4741 - val_accuracy: 0.8502\n",
            "Epoch 79/100\n",
            "1313/1313 [==============================] - 8s 6ms/step - loss: 0.5181 - accuracy: 0.8344 - val_loss: 0.5126 - val_accuracy: 0.8342\n",
            "Epoch 80/100\n",
            "1313/1313 [==============================] - 7s 5ms/step - loss: 0.5093 - accuracy: 0.8361 - val_loss: 0.5244 - val_accuracy: 0.8300\n",
            "Epoch 81/100\n",
            "1313/1313 [==============================] - 8s 6ms/step - loss: 0.5146 - accuracy: 0.8358 - val_loss: 0.5322 - val_accuracy: 0.8299\n",
            "Epoch 82/100\n",
            "1313/1313 [==============================] - 10s 7ms/step - loss: 0.5094 - accuracy: 0.8373 - val_loss: 0.5406 - val_accuracy: 0.8265\n",
            "Epoch 83/100\n",
            "1313/1313 [==============================] - 6s 5ms/step - loss: 0.5029 - accuracy: 0.8398 - val_loss: 0.4886 - val_accuracy: 0.8425\n",
            "Epoch 84/100\n",
            "1313/1313 [==============================] - 8s 6ms/step - loss: 0.5015 - accuracy: 0.8389 - val_loss: 0.5028 - val_accuracy: 0.8402\n",
            "Epoch 85/100\n",
            "1313/1313 [==============================] - 6s 5ms/step - loss: 0.5037 - accuracy: 0.8375 - val_loss: 0.4827 - val_accuracy: 0.8464\n",
            "Epoch 86/100\n",
            "1313/1313 [==============================] - 8s 6ms/step - loss: 0.4986 - accuracy: 0.8402 - val_loss: 0.4944 - val_accuracy: 0.8414\n",
            "Epoch 87/100\n",
            "1313/1313 [==============================] - 6s 5ms/step - loss: 0.4946 - accuracy: 0.8434 - val_loss: 0.4719 - val_accuracy: 0.8508\n",
            "Epoch 88/100\n",
            "1313/1313 [==============================] - 8s 6ms/step - loss: 0.4946 - accuracy: 0.8426 - val_loss: 0.4547 - val_accuracy: 0.8574\n",
            "Epoch 89/100\n",
            "1313/1313 [==============================] - 7s 5ms/step - loss: 0.4928 - accuracy: 0.8426 - val_loss: 0.4463 - val_accuracy: 0.8568\n",
            "Epoch 90/100\n",
            "1313/1313 [==============================] - 8s 6ms/step - loss: 0.4928 - accuracy: 0.8441 - val_loss: 0.4803 - val_accuracy: 0.8471\n",
            "Epoch 91/100\n",
            "1313/1313 [==============================] - 10s 8ms/step - loss: 0.4886 - accuracy: 0.8429 - val_loss: 0.4899 - val_accuracy: 0.8423\n",
            "Epoch 92/100\n",
            "1313/1313 [==============================] - 7s 5ms/step - loss: 0.4849 - accuracy: 0.8444 - val_loss: 0.4851 - val_accuracy: 0.8466\n",
            "Epoch 93/100\n",
            "1313/1313 [==============================] - 8s 6ms/step - loss: 0.4846 - accuracy: 0.8439 - val_loss: 0.4592 - val_accuracy: 0.8507\n",
            "Epoch 94/100\n",
            "1313/1313 [==============================] - 7s 5ms/step - loss: 0.4807 - accuracy: 0.8455 - val_loss: 0.4911 - val_accuracy: 0.8421\n",
            "Epoch 95/100\n",
            "1313/1313 [==============================] - 8s 6ms/step - loss: 0.4819 - accuracy: 0.8454 - val_loss: 0.4558 - val_accuracy: 0.8546\n",
            "Epoch 96/100\n",
            "1313/1313 [==============================] - 10s 7ms/step - loss: 0.4785 - accuracy: 0.8461 - val_loss: 0.5020 - val_accuracy: 0.8363\n",
            "Epoch 97/100\n",
            "1313/1313 [==============================] - 7s 5ms/step - loss: 0.4746 - accuracy: 0.8472 - val_loss: 0.4650 - val_accuracy: 0.8521\n",
            "Epoch 98/100\n",
            "1313/1313 [==============================] - 9s 7ms/step - loss: 0.4707 - accuracy: 0.8480 - val_loss: 0.4383 - val_accuracy: 0.8595\n",
            "Epoch 99/100\n",
            "1313/1313 [==============================] - 7s 6ms/step - loss: 0.4663 - accuracy: 0.8492 - val_loss: 0.4405 - val_accuracy: 0.8597\n",
            "Epoch 100/100\n",
            "1313/1313 [==============================] - 8s 6ms/step - loss: 0.4690 - accuracy: 0.8498 - val_loss: 0.4366 - val_accuracy: 0.8600\n"
          ]
        }
      ],
      "source": [
        "# Train the classifier\n",
        "history = model.fit(X_train, y_train_encoded, epochs=100, batch_size=32, validation_data=(X_train, y_train_encoded))"
      ]
    },
    {
      "cell_type": "markdown",
      "source": [
        "* The model achieved a final training accuracy of approximately 84.98% and a validation accuracy of around 86.00% after 100 epochs of training.\n",
        "\n",
        "* The training loss decreased steadily over the epochs, indicating that the model was learning effectively.\n",
        "\n",
        "* There is no significant gap between the training and validation accuracies, and also not much fluctuation in the accuracy values suggesting a stable model.\n",
        "\n",
        "* The model demonstrates decent performance overall."
      ],
      "metadata": {
        "id": "ddwVB7anM8uX"
      }
    },
    {
      "cell_type": "markdown",
      "metadata": {
        "id": "CYPanU6l5CQ4"
      },
      "source": [
        ">>### **C. Evaluate performance of the model with appropriate metrics.**\n",
        "\n",
        "\n",
        "---\n",
        "\n"
      ]
    },
    {
      "cell_type": "code",
      "execution_count": 39,
      "metadata": {
        "colab": {
          "base_uri": "https://localhost:8080/",
          "height": 1000
        },
        "id": "4VFT3JksJNbS",
        "outputId": "ef0b40ac-96be-4e6f-aa38-5f5a2068df4d"
      },
      "outputs": [
        {
          "output_type": "stream",
          "name": "stdout",
          "text": [
            "563/563 [==============================] - 1s 2ms/step\n",
            "Accuracy: 0.8028888888888889\n",
            "\n",
            "Classification Report:\n",
            "              precision    recall  f1-score   support\n",
            "\n",
            "           0       0.81      0.87      0.84      1814\n",
            "           1       0.76      0.85      0.80      1828\n",
            "           2       0.90      0.75      0.82      1803\n",
            "           3       0.81      0.73      0.76      1719\n",
            "           4       0.84      0.85      0.85      1812\n",
            "           5       0.75      0.82      0.78      1768\n",
            "           6       0.80      0.79      0.80      1832\n",
            "           7       0.87      0.84      0.85      1808\n",
            "           8       0.76      0.74      0.75      1812\n",
            "           9       0.77      0.79      0.78      1804\n",
            "\n",
            "    accuracy                           0.80     18000\n",
            "   macro avg       0.81      0.80      0.80     18000\n",
            "weighted avg       0.81      0.80      0.80     18000\n",
            "\n",
            "\n",
            "Confusion Matrix:\n"
          ]
        },
        {
          "output_type": "display_data",
          "data": {
            "text/plain": [
              "<Figure size 1000x800 with 2 Axes>"
            ],
            "image/png": "[encoded data removed]"
          },
          "metadata": {}
        }
      ],
      "source": [
        "import numpy as np\n",
        "import seaborn as sns\n",
        "import matplotlib.pyplot as plt\n",
        "from sklearn.metrics import accuracy_score, classification_report, confusion_matrix\n",
        "\n",
        "# Predict the classes for test data\n",
        "y_pred = model.predict(X_test)\n",
        "y_pred_classes = np.argmax(y_pred, axis=1)\n",
        "\n",
        "# Convert one-hot encoded labels back to original labels\n",
        "y_test_original = np.argmax(y_test_encoded, axis=1)\n",
        "\n",
        "# Calculate accuracy\n",
        "accuracy = accuracy_score(y_test_original, y_pred_classes)\n",
        "print(\"Accuracy:\", accuracy)\n",
        "\n",
        "# Print classification report\n",
        "print(\"\\nClassification Report:\")\n",
        "print(classification_report(y_test_original, y_pred_classes))\n",
        "\n",
        "# Print confusion matrix\n",
        "print(\"\\nConfusion Matrix:\")\n",
        "cm = confusion_matrix(y_test_original, y_pred_classes)\n",
        "\n",
        "# Plot confusion matrix as heatmap with proper labels\n",
        "plt.figure(figsize=(10, 8))\n",
        "sns.heatmap(cm, annot=True, fmt='d', cmap='Blues')\n",
        "\n",
        "# Set labels, title, and ticks\n",
        "plt.xlabel('Predicted labels')\n",
        "plt.ylabel('True labels')\n",
        "plt.title('Confusion Matrix')\n",
        "plt.show()"
      ]
    },
    {
      "cell_type": "markdown",
      "source": [
        "* The model achieved an accuracy of approximately 80.29% on the test data, indicating that it correctly classified around 80.29% of the images. The model's performance is relatively good.\n",
        "\n",
        "* The precision and recall scores vary across different classes, with some classes having higher precision and recall than others. For example, class 2 (label 2) has the highest precision of 0.90, while class 3 (label 3) has the lowest recall of 0.73. However the scores for all the classes are decent."
      ],
      "metadata": {
        "id": "Inrx9eEjN3RF"
      }
    },
    {
      "cell_type": "markdown",
      "metadata": {
        "id": "-406ftLW5Gfo"
      },
      "source": [
        ">>### **D. Plot the training loss, validation loss vs number of epochs and training accuracy, validation accuracy vs number of epochs plot and write your observations on the same.**\n",
        "\n",
        "\n",
        "---\n",
        "\n"
      ]
    },
    {
      "cell_type": "code",
      "execution_count": 40,
      "metadata": {
        "colab": {
          "base_uri": "https://localhost:8080/",
          "height": 607
        },
        "id": "2dys890BMCuY",
        "outputId": "0a51b237-b96d-4a15-cdc4-62983642cf6c"
      },
      "outputs": [
        {
          "output_type": "display_data",
          "data": {
            "text/plain": [
              "<Figure size 1200x600 with 2 Axes>"
            ],
            "image/png": "[encoded data removed]"
          },
          "metadata": {}
        }
      ],
      "source": [
        "import matplotlib.pyplot as plt\n",
        "\n",
        "# Plot training and validation loss\n",
        "plt.figure(figsize=(12, 6))\n",
        "plt.subplot(1, 2, 1)\n",
        "plt.plot(history.history['loss'], label='Training Loss')\n",
        "plt.plot(history.history['val_loss'], label='Validation Loss')\n",
        "plt.xlabel('Epoch')\n",
        "plt.ylabel('Loss')\n",
        "plt.title('Training and Validation Loss')\n",
        "plt.legend()\n",
        "\n",
        "# Plot training and validation accuracy\n",
        "plt.subplot(1, 2, 2)\n",
        "plt.plot(history.history['accuracy'], label='Training Accuracy')\n",
        "plt.plot(history.history['val_accuracy'], label='Validation Accuracy')\n",
        "plt.xlabel('Epoch')\n",
        "plt.ylabel('Accuracy')\n",
        "plt.title('Training and Validation Accuracy')\n",
        "plt.legend()\n",
        "\n",
        "plt.tight_layout()\n",
        "plt.show()\n"
      ]
    },
    {
      "cell_type": "markdown",
      "source": [
        "* The training loss and validation loss steadily decreases over epochs, indicating that the model is effectively learning from the training data.\n",
        "\n",
        "* The training accuracy and validation accuracy steadily increases over epochs, which is expected as the model learns from the training data.\n",
        "\n",
        "* The convergence of training and validation loss and accuracy indicates that the model is learning well from the training data initially.\n",
        "\n",
        "* The final test accuracy of approximately 80.29%, which is great and aligns with the validation accuracy trends, indicating that the model's performance on unseen data is consistent with its performance on the validation set.\n",
        "\n",
        "* The graph showcases little fluctuations in loss or accuracy suggesting a stable model and the overlap of the training and the validation plots indicate no overfitting.\n"
      ],
      "metadata": {
        "id": "eRq2Ert0Ole_"
      }
    }
  ],
  "metadata": {
    "colab": {
      "provenance": []
    },
    "kernelspec": {
      "display_name": "Python 3",
      "name": "python3"
    },
    "language_info": {
      "name": "python"
    }
  },
  "nbformat": 4,
  "nbformat_minor": 0
}